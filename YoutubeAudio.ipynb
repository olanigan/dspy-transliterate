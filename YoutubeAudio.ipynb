{
  "cells": [
    {
      "cell_type": "markdown",
      "metadata": {
        "id": "view-in-github",
        "colab_type": "text"
      },
      "source": [
        "<a href=\"https://colab.research.google.com/github/olanigan/dspy-transliterate/blob/master/YoutubeAudio.ipynb\" target=\"_parent\"><img src=\"https://colab.research.google.com/assets/colab-badge.svg\" alt=\"Open In Colab\"/></a>"
      ]
    },
    {
      "cell_type": "markdown",
      "metadata": {
        "id": "8j2pfTV1l6p8"
      },
      "source": [
        "## OpenAI Whisper"
      ]
    },
    {
      "cell_type": "code",
      "execution_count": null,
      "metadata": {
        "colab": {
          "base_uri": "https://localhost:8080/"
        },
        "id": "BkkpY0k7JZ68",
        "outputId": "780c5684-da34-46c7-c97b-0b46bdee04d5"
      },
      "outputs": [
        {
          "output_type": "stream",
          "name": "stdout",
          "text": [
            "\u001b[?25l     \u001b[90m━━━━━━━━━━━━━━━━━━━━━━━━━━━━━━━━━━━━━━━━\u001b[0m \u001b[32m0.0/800.5 kB\u001b[0m \u001b[31m?\u001b[0m eta \u001b[36m-:--:--\u001b[0m\r\u001b[2K     \u001b[91m━━━━━━━━━━━━━━━━━━━━━━━━━━━━━━━━━━━━━━━\u001b[0m\u001b[91m╸\u001b[0m \u001b[32m798.7/800.5 kB\u001b[0m \u001b[31m92.9 MB/s\u001b[0m eta \u001b[36m0:00:01\u001b[0m\r\u001b[2K     \u001b[90m━━━━━━━━━━━━━━━━━━━━━━━━━━━━━━━━━━━━━━━━\u001b[0m \u001b[32m800.5/800.5 kB\u001b[0m \u001b[31m21.0 MB/s\u001b[0m eta \u001b[36m0:00:00\u001b[0m\n",
            "\u001b[?25h  Installing build dependencies ... \u001b[?25l\u001b[?25hdone\n",
            "  Getting requirements to build wheel ... \u001b[?25l\u001b[?25hdone\n",
            "  Preparing metadata (pyproject.toml) ... \u001b[?25l\u001b[?25hdone\n",
            "\u001b[2K   \u001b[90m━━━━━━━━━━━━━━━━━━━━━━━━━━━━━━━━━━━━━━━━\u001b[0m \u001b[32m209.4/209.4 MB\u001b[0m \u001b[31m5.5 MB/s\u001b[0m eta \u001b[36m0:00:00\u001b[0m\n",
            "\u001b[2K   \u001b[90m━━━━━━━━━━━━━━━━━━━━━━━━━━━━━━━━━━━━━━━━\u001b[0m \u001b[32m1.2/1.2 MB\u001b[0m \u001b[31m46.2 MB/s\u001b[0m eta \u001b[36m0:00:00\u001b[0m\n",
            "\u001b[?25h  Building wheel for openai-whisper (pyproject.toml) ... \u001b[?25l\u001b[?25hdone\n"
          ]
        }
      ],
      "source": [
        "!pip install -q openai-whisper"
      ]
    },
    {
      "cell_type": "code",
      "execution_count": 1,
      "metadata": {
        "colab": {
          "base_uri": "https://localhost:8080/"
        },
        "id": "e6XYP3-s5LjT",
        "outputId": "ad10f0dd-9077-4749-a69e-7ffb4fdcbb0e"
      },
      "outputs": [
        {
          "output_type": "stream",
          "name": "stdout",
          "text": [
            "Collecting yt-dlp\n",
            "  Downloading yt_dlp-2024.10.7-py3-none-any.whl.metadata (171 kB)\n",
            "\u001b[?25l     \u001b[90m━━━━━━━━━━━━━━━━━━━━━━━━━━━━━━━━━━━━━━━━\u001b[0m \u001b[32m0.0/171.3 kB\u001b[0m \u001b[31m?\u001b[0m eta \u001b[36m-:--:--\u001b[0m\r\u001b[2K     \u001b[91m━━━━━━━━━━━━━━━━━━━━━━━━━━━━━━━━━━━━━━\u001b[0m\u001b[90m╺\u001b[0m\u001b[90m━\u001b[0m \u001b[32m163.8/171.3 kB\u001b[0m \u001b[31m6.3 MB/s\u001b[0m eta \u001b[36m0:00:01\u001b[0m\r\u001b[2K     \u001b[90m━━━━━━━━━━━━━━━━━━━━━━━━━━━━━━━━━━━━━━━━\u001b[0m \u001b[32m171.3/171.3 kB\u001b[0m \u001b[31m3.6 MB/s\u001b[0m eta \u001b[36m0:00:00\u001b[0m\n",
            "\u001b[?25hCollecting youtube-dl\n",
            "  Downloading youtube_dl-2021.12.17-py2.py3-none-any.whl.metadata (1.5 kB)\n",
            "Downloading yt_dlp-2024.10.7-py3-none-any.whl (3.1 MB)\n",
            "\u001b[2K   \u001b[90m━━━━━━━━━━━━━━━━━━━━━━━━━━━━━━━━━━━━━━━━\u001b[0m \u001b[32m3.1/3.1 MB\u001b[0m \u001b[31m23.1 MB/s\u001b[0m eta \u001b[36m0:00:00\u001b[0m\n",
            "\u001b[?25hDownloading youtube_dl-2021.12.17-py2.py3-none-any.whl (1.9 MB)\n",
            "\u001b[2K   \u001b[90m━━━━━━━━━━━━━━━━━━━━━━━━━━━━━━━━━━━━━━━━\u001b[0m \u001b[32m1.9/1.9 MB\u001b[0m \u001b[31m29.3 MB/s\u001b[0m eta \u001b[36m0:00:00\u001b[0m\n",
            "\u001b[?25hInstalling collected packages: youtube-dl, yt-dlp\n",
            "Successfully installed youtube-dl-2021.12.17 yt-dlp-2024.10.7\n"
          ]
        }
      ],
      "source": [
        "pip install --no-deps -U yt-dlp youtube-dl"
      ]
    },
    {
      "cell_type": "code",
      "source": [
        "url = \"https://www.youtube.com/watch?v=ht3N2uZWzTw\"\n"
      ],
      "metadata": {
        "id": "g0Xx8Sz1NmuT"
      },
      "execution_count": 2,
      "outputs": []
    },
    {
      "cell_type": "code",
      "execution_count": 3,
      "metadata": {
        "id": "2LOm_rar5xSS",
        "colab": {
          "base_uri": "https://localhost:8080/"
        },
        "outputId": "ca2d698c-4c7e-46c6-e0a5-704744a719c5"
      },
      "outputs": [
        {
          "output_type": "stream",
          "name": "stdout",
          "text": [
            "[debug] Command-line config: ['--no-config', '-v', '--extract-audio', '--audio-format', 'mp3', 'https://www.youtube.com/watch?v=ht3N2uZWzTw', '-o', 'audio.mp3', '--convert-subs', 'srt']\n",
            "[debug] Encodings: locale UTF-8, fs utf-8, pref UTF-8, out utf-8, error utf-8, screen utf-8\n",
            "[debug] yt-dlp version stable@2024.10.07 from yt-dlp/yt-dlp [1a176d874] (pip)\n",
            "[debug] Python 3.10.12 (CPython x86_64 64bit) - Linux-6.1.85+-x86_64-with-glibc2.35 (OpenSSL 3.0.2 15 Mar 2022, glibc 2.35)\n",
            "[debug] exe versions: ffmpeg 4.4.2 (setts), ffprobe 4.4.2\n",
            "[debug] Optional libraries: certifi-2024.08.30, requests-2.32.3, secretstorage-3.3.1, sqlite3-3.37.2, urllib3-2.2.3\n",
            "[debug] Proxy map: {'colab_language_server': '/usr/colab/bin/language_service'}\n",
            "[debug] Request Handlers: urllib, requests\n",
            "[debug] Loaded 1838 extractors\n",
            "[youtube] Extracting URL: https://www.youtube.com/watch?v=ht3N2uZWzTw\n",
            "[youtube] ht3N2uZWzTw: Downloading webpage\n",
            "[youtube] ht3N2uZWzTw: Downloading ios player API JSON\n",
            "[youtube] ht3N2uZWzTw: Downloading mweb player API JSON\n",
            "[youtube] ht3N2uZWzTw: Downloading player 2f238d39\n",
            "[debug] Saving youtube-nsig.2f238d39 to cache\n",
            "[debug] [youtube] Decrypted nsig D8Rq_PXt2U5tFLb => _Gufq4UUphYd0g\n",
            "[debug] Loading youtube-nsig.2f238d39 from cache\n",
            "[debug] [youtube] Decrypted nsig BSppgLzPJdgpYJS => 1X6B5323mDhwaQ\n",
            "[youtube] ht3N2uZWzTw: Downloading m3u8 information\n",
            "[debug] Sort order given by extractor: quality, res, fps, hdr:12, source, vcodec:vp9.2, channels, acodec, lang, proto\n",
            "[debug] Formats sorted by: hasvid, ie_pref, quality, res, fps, hdr:12(7), source, vcodec:vp9.2(10), channels, acodec, lang, proto, size, br, asr, vext, aext, hasaud, id\n",
            "[info] ht3N2uZWzTw: Downloading 1 format(s): 251\n",
            "[SubtitlesConvertor] There aren't any subtitles to convert\n",
            "[debug] Invoking http downloader on \"https://rr4---sn-q4fl6nz6.googlevideo.com/videoplayback?expire=1728674807&ei=lycJZ-OuD6OZsfIP0IutsAY&ip=34.16.201.16&id=o-AAJS76fstxerKhr70-pqVL63WWPV9b4_8jbcCO4j7Iun&itag=251&source=youtube&requiressl=yes&xpc=EgVo2aDSNQ%3D%3D&met=1728653207%2C&mh=MN&mm=31%2C29&mn=sn-q4fl6nz6%2Csn-q4flrn7r&ms=au%2Crdu&mv=m&mvi=4&pl=17&rms=au%2Cau&initcwndbps=3423750&vprv=1&svpuc=1&mime=audio%2Fwebm&rqh=1&gir=yes&clen=58069559&dur=4530.021&lmt=1728555305468224&mt=1728652855&fvip=5&keepalive=yes&fexp=51300760&c=IOS&txp=7208224&sparams=expire%2Cei%2Cip%2Cid%2Citag%2Csource%2Crequiressl%2Cxpc%2Cvprv%2Csvpuc%2Cmime%2Crqh%2Cgir%2Cclen%2Cdur%2Clmt&sig=AJfQdSswRQIhAJUFL7vBskuVSoxBad2XQ3PKQyLG19P-2YLh3RRt2oZCAiBymV_ZpgHEP1xHT85ExXxZ_iC1NI8qa75dzAZ8D8dxmA%3D%3D&lsparams=met%2Cmh%2Cmm%2Cmn%2Cms%2Cmv%2Cmvi%2Cpl%2Crms%2Cinitcwndbps&lsig=ACJ0pHgwRAIgGWLD-hDc0Olo-LmAXgMFgmufj3fq6immQl9Du19paEgCICmbximkfHLyVfbCneYUaFYKZhGhK5Gjkj2X4KlY-8eV\"\n",
            "[download] Destination: audio.webm\n",
            "\u001b[K[download] 100% of   55.38MiB in \u001b[1;37m00:00:08\u001b[0m at \u001b[0;32m6.87MiB/s\u001b[0m\n",
            "[debug] ffmpeg command line: ffprobe -show_streams file:audio.webm\n",
            "[ExtractAudio] Destination: audio.mp3\n",
            "[debug] ffmpeg command line: ffmpeg -y -loglevel repeat+info -i file:audio.webm -vn -acodec libmp3lame -q:a 5.0 -movflags +faststart file:audio.mp3\n",
            "Deleting original file audio.webm (pass -k to keep)\n"
          ]
        }
      ],
      "source": [
        "# url = short\n",
        "!yt-dlp --no-config -v --extract-audio --audio-format mp3 $url -o audio.mp3 --convert-subs srt"
      ]
    },
    {
      "cell_type": "markdown",
      "source": [
        "## GROQ API"
      ],
      "metadata": {
        "id": "4yKznMq2SYVi"
      }
    },
    {
      "cell_type": "code",
      "source": [
        "!pip install -q groq pydub\n",
        "import logging\n",
        "from groq import Groq\n",
        "from google.colab import userdata\n",
        "from pydub import AudioSegment\n",
        "import math\n",
        "import os\n",
        "import yt_dlp\n",
        "\n",
        "def transcribe(video_url):\n",
        "    # video_url = request.json[\"video_url\"]\n",
        "    # language = request.json.get(\"language\", \"en\")\n",
        "    # logging.info(f\"Received transcription request for URL: {video_url} in language: {language}\")\n",
        "\n",
        "    # platform = get_video_platform(video_url)\n",
        "    # if platform == 'unknown':\n",
        "    #     return jsonify({\"error\": \"Unsupported video platform\"}), 400\n",
        "\n",
        "    try:\n",
        "        logging.info(\"Attempting to download audio\")\n",
        "        audio_file = \"audio.mp3\"\n",
        "        logging.info(f\"Audio downloaded successfully: {audio_file}\")\n",
        "\n",
        "        logging.info(\"Initializing Groq client\")\n",
        "        client = Groq(api_key=userdata.get('GROQ_API_KEY'))\n",
        "\n",
        "        logging.info(\"Loading audio file\")\n",
        "        audio = AudioSegment.from_mp3(audio_file)\n",
        "\n",
        "        chunk_length_ms = 10 * 60 * 1000\n",
        "        num_chunks = math.ceil(len(audio) / chunk_length_ms)\n",
        "        logging.info(f\"Audio will be processed in {num_chunks} chunks\")\n",
        "\n",
        "        transcriptions = []\n",
        "\n",
        "        for i in range(num_chunks):\n",
        "            logging.info(f\"Processing chunk {i+1}/{num_chunks}\")\n",
        "            start_time = i * chunk_length_ms\n",
        "            end_time = min((i + 1) * chunk_length_ms, len(audio))\n",
        "\n",
        "            chunk = audio[start_time:end_time]\n",
        "            chunk_file = f\"chunk_{i}.mp3\"\n",
        "            chunk.export(chunk_file, format=\"mp3\")\n",
        "\n",
        "            logging.info(f\"Transcribing chunk {i+1}/{num_chunks}\")\n",
        "            with open(chunk_file, \"rb\") as file:\n",
        "                transcription = client.audio.transcriptions.create(\n",
        "                    file=(chunk_file, file.read()),\n",
        "                    model=\"distil-whisper-large-v3-en\",\n",
        "                    response_format=\"text\",\n",
        "                    language=\"en\",\n",
        "                    temperature=0.0\n",
        "                )\n",
        "            transcriptions.append(transcription)\n",
        "            logging.info(f\"Chunk {i+1} transcription: {transcription[:100]}...\")\n",
        "\n",
        "            os.remove(chunk_file)\n",
        "\n",
        "        full_transcription = \"\\n\\n\".join(transcriptions)\n",
        "        logging.info(f\"Full transcription (first 500 chars): {full_transcription[:500]}...\")\n",
        "\n",
        "        transcript_file = f\"{os.path.splitext(os.path.basename(audio_file))[0]}_transcript.txt\"\n",
        "        with open(transcript_file, \"w\") as f:\n",
        "            f.write(full_transcription)\n",
        "\n",
        "        logging.info(\"Transcription completed successfully\")\n",
        "\n",
        "        # new_transcription = Transcription(\n",
        "        #     video_url=video_url,\n",
        "        #     transcription_text=full_transcription,\n",
        "        #     audio_file=audio_file,\n",
        "        #     transcript_file=transcript_file,\n",
        "        #     language=language\n",
        "        # )\n",
        "        # db.session.add(new_transcription)\n",
        "        # db.session.commit()\n",
        "        # logging.info(\"Transcription saved to database\")\n",
        "\n",
        "        # return jsonify({\n",
        "        #     \"transcription\": full_transcription,\n",
        "        #     \"audio_file\": audio_file,\n",
        "        #     \"transcript_file\": transcript_file,\n",
        "        #     \"language\": language,\n",
        "        #     \"transcription_id\": new_transcription.id\n",
        "        # })\n",
        "    except Exception as e:\n",
        "        logging.error(f\"Error during transcription: {str(e)}\")\n",
        "        return jsonify({\"error\": str(e)}), 500\n",
        "\n",
        "\n",
        "def download_youtube_audio(youtube_url):\n",
        "    ydl_opts = {\n",
        "        'format': 'bestaudio/best',\n",
        "        'postprocessors': [{\n",
        "            'key': 'FFmpegExtractAudio',\n",
        "            'preferredcodec': 'mp3',\n",
        "            'preferredquality': '192',\n",
        "        }],\n",
        "        'outtmpl': '%(id)s.%(ext)s',\n",
        "        'ffmpeg_location': '/nix/store/3zc5jbvqzrn8zmva4fx5p0nh4yy03wk4-ffmpeg-6.1.1-bin/bin/ffmpeg',\n",
        "    }\n",
        "\n",
        "    with yt_dlp.YoutubeDL(ydl_opts) as ydl:\n",
        "        info = ydl.extract_info(youtube_url, download=True)\n",
        "        return f\"{info['id']}.mp3\"\n"
      ],
      "metadata": {
        "id": "oa1ONdCySaup",
        "colab": {
          "base_uri": "https://localhost:8080/"
        },
        "outputId": "670e51d0-55c0-4818-eab0-0f2e31fb72e2"
      },
      "execution_count": 4,
      "outputs": [
        {
          "output_type": "stream",
          "name": "stdout",
          "text": [
            "\u001b[?25l   \u001b[90m━━━━━━━━━━━━━━━━━━━━━━━━━━━━━━━━━━━━━━━━\u001b[0m \u001b[32m0.0/106.5 kB\u001b[0m \u001b[31m?\u001b[0m eta \u001b[36m-:--:--\u001b[0m\r\u001b[2K   \u001b[90m━━━━━━━━━━━━━━━━━━━━━━━━━━━━━━━━━━━━━━━━\u001b[0m \u001b[32m106.5/106.5 kB\u001b[0m \u001b[31m5.6 MB/s\u001b[0m eta \u001b[36m0:00:00\u001b[0m\n",
            "\u001b[?25h\u001b[?25l   \u001b[90m━━━━━━━━━━━━━━━━━━━━━━━━━━━━━━━━━━━━━━━━\u001b[0m \u001b[32m0.0/76.4 kB\u001b[0m \u001b[31m?\u001b[0m eta \u001b[36m-:--:--\u001b[0m\r\u001b[2K   \u001b[90m━━━━━━━━━━━━━━━━━━━━━━━━━━━━━━━━━━━━━━━━\u001b[0m \u001b[32m76.4/76.4 kB\u001b[0m \u001b[31m6.5 MB/s\u001b[0m eta \u001b[36m0:00:00\u001b[0m\n",
            "\u001b[?25h\u001b[?25l   \u001b[90m━━━━━━━━━━━━━━━━━━━━━━━━━━━━━━━━━━━━━━━━\u001b[0m \u001b[32m0.0/78.0 kB\u001b[0m \u001b[31m?\u001b[0m eta \u001b[36m-:--:--\u001b[0m\r\u001b[2K   \u001b[90m━━━━━━━━━━━━━━━━━━━━━━━━━━━━━━━━━━━━━━━━\u001b[0m \u001b[32m78.0/78.0 kB\u001b[0m \u001b[31m6.6 MB/s\u001b[0m eta \u001b[36m0:00:00\u001b[0m\n",
            "\u001b[?25h\u001b[?25l   \u001b[90m━━━━━━━━━━━━━━━━━━━━━━━━━━━━━━━━━━━━━━━━\u001b[0m \u001b[32m0.0/58.3 kB\u001b[0m \u001b[31m?\u001b[0m eta \u001b[36m-:--:--\u001b[0m\r\u001b[2K   \u001b[90m━━━━━━━━━━━━━━━━━━━━━━━━━━━━━━━━━━━━━━━━\u001b[0m \u001b[32m58.3/58.3 kB\u001b[0m \u001b[31m3.4 MB/s\u001b[0m eta \u001b[36m0:00:00\u001b[0m\n",
            "\u001b[?25h"
          ]
        }
      ]
    },
    {
      "cell_type": "code",
      "source": [
        "transcribe(\"\")"
      ],
      "metadata": {
        "id": "M-LGyNS5U5Uc"
      },
      "execution_count": 5,
      "outputs": []
    },
    {
      "cell_type": "markdown",
      "source": [
        "## Miscellaneous"
      ],
      "metadata": {
        "id": "u-Yt1DzyXjtS"
      }
    },
    {
      "cell_type": "code",
      "source": [
        "# prompt: Trim audio.mp3 to first 15 minutes\n",
        "\n",
        "!ffmpeg -i audio.mp3 -ss 0 -t 900 output.mp3\n"
      ],
      "metadata": {
        "colab": {
          "base_uri": "https://localhost:8080/"
        },
        "id": "F4bHZMss3iMn",
        "outputId": "bd6182b9-544c-4524-b862-2e3d202bae9e"
      },
      "execution_count": null,
      "outputs": [
        {
          "output_type": "stream",
          "name": "stdout",
          "text": [
            "ffmpeg version 4.4.2-0ubuntu0.22.04.1 Copyright (c) 2000-2021 the FFmpeg developers\n",
            "  built with gcc 11 (Ubuntu 11.2.0-19ubuntu1)\n",
            "  configuration: --prefix=/usr --extra-version=0ubuntu0.22.04.1 --toolchain=hardened --libdir=/usr/lib/x86_64-linux-gnu --incdir=/usr/include/x86_64-linux-gnu --arch=amd64 --enable-gpl --disable-stripping --enable-gnutls --enable-ladspa --enable-libaom --enable-libass --enable-libbluray --enable-libbs2b --enable-libcaca --enable-libcdio --enable-libcodec2 --enable-libdav1d --enable-libflite --enable-libfontconfig --enable-libfreetype --enable-libfribidi --enable-libgme --enable-libgsm --enable-libjack --enable-libmp3lame --enable-libmysofa --enable-libopenjpeg --enable-libopenmpt --enable-libopus --enable-libpulse --enable-librabbitmq --enable-librubberband --enable-libshine --enable-libsnappy --enable-libsoxr --enable-libspeex --enable-libsrt --enable-libssh --enable-libtheora --enable-libtwolame --enable-libvidstab --enable-libvorbis --enable-libvpx --enable-libwebp --enable-libx265 --enable-libxml2 --enable-libxvid --enable-libzimg --enable-libzmq --enable-libzvbi --enable-lv2 --enable-omx --enable-openal --enable-opencl --enable-opengl --enable-sdl2 --enable-pocketsphinx --enable-librsvg --enable-libmfx --enable-libdc1394 --enable-libdrm --enable-libiec61883 --enable-chromaprint --enable-frei0r --enable-libx264 --enable-shared\n",
            "  libavutil      56. 70.100 / 56. 70.100\n",
            "  libavcodec     58.134.100 / 58.134.100\n",
            "  libavformat    58. 76.100 / 58. 76.100\n",
            "  libavdevice    58. 13.100 / 58. 13.100\n",
            "  libavfilter     7.110.100 /  7.110.100\n",
            "  libswscale      5.  9.100 /  5.  9.100\n",
            "  libswresample   3.  9.100 /  3.  9.100\n",
            "  libpostproc    55.  9.100 / 55.  9.100\n",
            "Input #0, mp3, from 'audio.mp3':\n",
            "  Metadata:\n",
            "    encoder         : Lavf58.76.100\n",
            "  Duration: 00:26:08.40, start: 0.023021, bitrate: 93 kb/s\n",
            "  Stream #0:0: Audio: mp3, 48000 Hz, stereo, fltp, 93 kb/s\n",
            "    Metadata:\n",
            "      encoder         : Lavc58.13\n",
            "Stream mapping:\n",
            "  Stream #0:0 -> #0:0 (mp3 (mp3float) -> mp3 (libmp3lame))\n",
            "Press [q] to stop, [?] for help\n",
            "Output #0, mp3, to 'output.mp3':\n",
            "  Metadata:\n",
            "    TSSE            : Lavf58.76.100\n",
            "  Stream #0:0: Audio: mp3, 48000 Hz, stereo, fltp\n",
            "    Metadata:\n",
            "      encoder         : Lavc58.134.100 libmp3lame\n",
            "size=   14063kB time=00:14:59.97 bitrate= 128.0kbits/s speed=45.5x    \n",
            "video:0kB audio:14063kB subtitle:0kB other streams:0kB global headers:0kB muxing overhead: 0.001646%\n"
          ]
        }
      ]
    },
    {
      "cell_type": "code",
      "source": [
        "!ls /content -la"
      ],
      "metadata": {
        "colab": {
          "base_uri": "https://localhost:8080/"
        },
        "id": "rOlOXPGq3yqX",
        "outputId": "e8e69bcd-e678-40e4-a69d-d3ecf61456af"
      },
      "execution_count": null,
      "outputs": [
        {
          "output_type": "stream",
          "name": "stdout",
          "text": [
            "total 32072\n",
            "drwxr-xr-x 1 root root     4096 Apr 16 12:25 .\n",
            "drwxr-xr-x 1 root root     4096 Apr 16 12:17 ..\n",
            "-rw-r--r-- 1 root root 18420285 Jun 22  2022 audio.mp3\n",
            "drwxr-xr-x 4 root root     4096 Apr 12 13:21 .config\n",
            "-rw-r--r-- 1 root root 14400621 Apr 16 12:25 output.mp3\n",
            "drwxr-xr-x 1 root root     4096 Apr 12 13:22 sample_data\n"
          ]
        }
      ]
    },
    {
      "cell_type": "code",
      "source": [
        "# prompt: Convert output.mp3 to AMR format with codec amr_nb encoder\n",
        "\n",
        "!ffmpeg -i output.mp3 -ar 8000 -ac 1 -c:a amr_nb_encoder output.amr\n"
      ],
      "metadata": {
        "colab": {
          "base_uri": "https://localhost:8080/"
        },
        "id": "Re5DIlXB4Fe9",
        "outputId": "0cc228c0-1da7-452e-dfb8-7136ac7c8ef8"
      },
      "execution_count": null,
      "outputs": [
        {
          "output_type": "stream",
          "name": "stdout",
          "text": [
            "ffmpeg version 4.4.2-0ubuntu0.22.04.1 Copyright (c) 2000-2021 the FFmpeg developers\n",
            "  built with gcc 11 (Ubuntu 11.2.0-19ubuntu1)\n",
            "  configuration: --prefix=/usr --extra-version=0ubuntu0.22.04.1 --toolchain=hardened --libdir=/usr/lib/x86_64-linux-gnu --incdir=/usr/include/x86_64-linux-gnu --arch=amd64 --enable-gpl --disable-stripping --enable-gnutls --enable-ladspa --enable-libaom --enable-libass --enable-libbluray --enable-libbs2b --enable-libcaca --enable-libcdio --enable-libcodec2 --enable-libdav1d --enable-libflite --enable-libfontconfig --enable-libfreetype --enable-libfribidi --enable-libgme --enable-libgsm --enable-libjack --enable-libmp3lame --enable-libmysofa --enable-libopenjpeg --enable-libopenmpt --enable-libopus --enable-libpulse --enable-librabbitmq --enable-librubberband --enable-libshine --enable-libsnappy --enable-libsoxr --enable-libspeex --enable-libsrt --enable-libssh --enable-libtheora --enable-libtwolame --enable-libvidstab --enable-libvorbis --enable-libvpx --enable-libwebp --enable-libx265 --enable-libxml2 --enable-libxvid --enable-libzimg --enable-libzmq --enable-libzvbi --enable-lv2 --enable-omx --enable-openal --enable-opencl --enable-opengl --enable-sdl2 --enable-pocketsphinx --enable-librsvg --enable-libmfx --enable-libdc1394 --enable-libdrm --enable-libiec61883 --enable-chromaprint --enable-frei0r --enable-libx264 --enable-shared\n",
            "  libavutil      56. 70.100 / 56. 70.100\n",
            "  libavcodec     58.134.100 / 58.134.100\n",
            "  libavformat    58. 76.100 / 58. 76.100\n",
            "  libavdevice    58. 13.100 / 58. 13.100\n",
            "  libavfilter     7.110.100 /  7.110.100\n",
            "  libswscale      5.  9.100 /  5.  9.100\n",
            "  libswresample   3.  9.100 /  3.  9.100\n",
            "  libpostproc    55.  9.100 / 55.  9.100\n",
            "Input #0, mp3, from 'output.mp3':\n",
            "  Metadata:\n",
            "    encoder         : Lavf58.76.100\n",
            "  Duration: 00:15:00.02, start: 0.023021, bitrate: 128 kb/s\n",
            "  Stream #0:0: Audio: mp3, 48000 Hz, stereo, fltp, 128 kb/s\n",
            "    Metadata:\n",
            "      encoder         : Lavc58.13\n",
            "\u001b[4;31mUnknown encoder 'amr_nb_encoder'\n",
            "\u001b[0m"
          ]
        }
      ]
    },
    {
      "cell_type": "code",
      "source": [
        "# prompt: Download Youtube video as mp4\n",
        "\n",
        "# !yt-dlp -f 'bestvideo[ext=mp4]' $url -o babies.mp4\n"
      ],
      "metadata": {
        "id": "-tv7fNTINbQ5"
      },
      "execution_count": null,
      "outputs": []
    },
    {
      "cell_type": "code",
      "source": [
        "# prompt: Print metadata of babies.mp4 video including resolution like 4K, 2K etc\n",
        "\n",
        "import subprocess\n",
        "\n",
        "# Get the metadata of the video using ffprobe\n",
        "metadata = subprocess.check_output(['ffprobe', '-v', 'quiet', '-print_format', 'json', '-show_format', '/content/babies.mp4'])\n",
        "\n",
        "# Parse the metadata to extract the resolution\n",
        "import json\n",
        "metadata_dict = json.loads(metadata)\n",
        "# resolution = metadata_dict['format']['width'] + 'x' + metadata_dict['format']['height']\n",
        "\n",
        "# Print the resolution\n",
        "print(metadata_dict)\n"
      ],
      "metadata": {
        "colab": {
          "base_uri": "https://localhost:8080/"
        },
        "id": "v9say0rVOY-l",
        "outputId": "2c7111a7-7ba5-4f07-d952-6948532fa6af"
      },
      "execution_count": null,
      "outputs": [
        {
          "output_type": "stream",
          "name": "stdout",
          "text": [
            "{'format': {'filename': '/content/babies.mp4', 'nb_streams': 1, 'nb_programs': 0, 'format_name': 'mov,mp4,m4a,3gp,3g2,mj2', 'format_long_name': 'QuickTime / MOV', 'start_time': '0.000000', 'duration': '19.699000', 'size': '7622373', 'bit_rate': '3095537', 'probe_score': 100, 'tags': {'major_brand': 'dash', 'minor_version': '0', 'compatible_brands': 'iso6mp41', 'creation_time': '2024-02-26T16:23:00.000000Z'}}}\n"
          ]
        }
      ]
    },
    {
      "cell_type": "code",
      "execution_count": null,
      "metadata": {
        "id": "jGHL6uYyJjRo"
      },
      "outputs": [],
      "source": [
        "#import whisper\n",
        "# model = whisper.load_model('base.en')\n",
        "# url = \"https://www.youtube.com/watch?v=FX0lBqeHuZo\"\n",
        "# url = \"https://www.youtube.com/watch?v=W3BkJ6UxfvQ\"\n",
        "# short = \"https://www.youtube.com/shorts/sD_GxH6VjWc\""
      ]
    },
    {
      "cell_type": "code",
      "execution_count": null,
      "metadata": {
        "colab": {
          "base_uri": "https://localhost:8080/"
        },
        "id": "Hu_c3V4jJlPP",
        "outputId": "f0b5cfe9-24cd-4a68-9e9c-9ef643109ad4"
      },
      "outputs": [
        {
          "output_type": "stream",
          "name": "stderr",
          "text": [
            "100%|█████████████████████████████████████| 2.88G/2.88G [00:57<00:00, 53.6MiB/s]\n"
          ]
        }
      ],
      "source": [
        "import whisper\n",
        "# smodel = whisper.load_model('small')\n",
        "wmodel = whisper.load_model('medium')\n",
        "\n",
        "# model = whisper.load_model(\"large-v3\")\n",
        "# res1 = model.transcribe(\"audio.mp3\")"
      ]
    },
    {
      "cell_type": "code",
      "execution_count": null,
      "metadata": {
        "colab": {
          "base_uri": "https://localhost:8080/"
        },
        "id": "vnTddBtVzWlT",
        "outputId": "a276ea50-438f-41cc-8eef-34e7451af590"
      },
      "outputs": [
        {
          "name": "stdout",
          "output_type": "stream",
          "text": [
            "ffmpeg version 4.4.2-0ubuntu0.22.04.1 Copyright (c) 2000-2021 the FFmpeg developers\n",
            "  built with gcc 11 (Ubuntu 11.2.0-19ubuntu1)\n",
            "  configuration: --prefix=/usr --extra-version=0ubuntu0.22.04.1 --toolchain=hardened --libdir=/usr/lib/x86_64-linux-gnu --incdir=/usr/include/x86_64-linux-gnu --arch=amd64 --enable-gpl --disable-stripping --enable-gnutls --enable-ladspa --enable-libaom --enable-libass --enable-libbluray --enable-libbs2b --enable-libcaca --enable-libcdio --enable-libcodec2 --enable-libdav1d --enable-libflite --enable-libfontconfig --enable-libfreetype --enable-libfribidi --enable-libgme --enable-libgsm --enable-libjack --enable-libmp3lame --enable-libmysofa --enable-libopenjpeg --enable-libopenmpt --enable-libopus --enable-libpulse --enable-librabbitmq --enable-librubberband --enable-libshine --enable-libsnappy --enable-libsoxr --enable-libspeex --enable-libsrt --enable-libssh --enable-libtheora --enable-libtwolame --enable-libvidstab --enable-libvorbis --enable-libvpx --enable-libwebp --enable-libx265 --enable-libxml2 --enable-libxvid --enable-libzimg --enable-libzmq --enable-libzvbi --enable-lv2 --enable-omx --enable-openal --enable-opencl --enable-opengl --enable-sdl2 --enable-pocketsphinx --enable-librsvg --enable-libmfx --enable-libdc1394 --enable-libdrm --enable-libiec61883 --enable-chromaprint --enable-frei0r --enable-libx264 --enable-shared\n",
            "  libavutil      56. 70.100 / 56. 70.100\n",
            "  libavcodec     58.134.100 / 58.134.100\n",
            "  libavformat    58. 76.100 / 58. 76.100\n",
            "  libavdevice    58. 13.100 / 58. 13.100\n",
            "  libavfilter     7.110.100 /  7.110.100\n",
            "  libswscale      5.  9.100 /  5.  9.100\n",
            "  libswresample   3.  9.100 /  3.  9.100\n",
            "  libpostproc    55.  9.100 / 55.  9.100\n",
            "Hyper fast Audio and Video encoder\n",
            "usage: ffmpeg [options] [[infile options] -i infile]... {[outfile options] outfile}...\n",
            "\n",
            "\u001b[0;33mUse -h to get full help or, even better, run 'man ffmpeg'\n",
            "\u001b[0m"
          ]
        }
      ],
      "source": [
        "!ffmpeg"
      ]
    },
    {
      "cell_type": "code",
      "execution_count": null,
      "metadata": {
        "id": "EW2bTFAbU9e3"
      },
      "outputs": [],
      "source": [
        "def export_text_to_file(text, filename):\n",
        "  \"\"\"Exports the given text to the given file and force ascii.\"\"\"\n",
        "  text = text.encode(\"ascii\", errors=\"ignore\").decode()\n",
        "  with open(filename, 'w') as f:\n",
        "    f.write(text)\n",
        "# export_text_to_file(result['text'],\"transcript.txt\")"
      ]
    },
    {
      "cell_type": "code",
      "execution_count": null,
      "metadata": {
        "id": "xCNYOE6KUFo2",
        "colab": {
          "base_uri": "https://localhost:8080/",
          "height": 198
        },
        "outputId": "4fe6dc6a-9f75-4581-a5c3-792a78e61ce5"
      },
      "outputs": [
        {
          "output_type": "error",
          "ename": "NameError",
          "evalue": "name 'model' is not defined",
          "traceback": [
            "\u001b[0;31m---------------------------------------------------------------------------\u001b[0m",
            "\u001b[0;31mNameError\u001b[0m                                 Traceback (most recent call last)",
            "\u001b[0;32m<ipython-input-6-8f31a13ed482>\u001b[0m in \u001b[0;36m<cell line: 2>\u001b[0;34m()\u001b[0m\n\u001b[1;32m      1\u001b[0m \u001b[0;31m# %%time\u001b[0m\u001b[0;34m\u001b[0m\u001b[0;34m\u001b[0m\u001b[0m\n\u001b[0;32m----> 2\u001b[0;31m \u001b[0mresult1\u001b[0m \u001b[0;34m=\u001b[0m \u001b[0mmodel\u001b[0m\u001b[0;34m.\u001b[0m\u001b[0mtranscribe\u001b[0m\u001b[0;34m(\u001b[0m\u001b[0;34m\"audio.mp3\"\u001b[0m\u001b[0;34m)\u001b[0m\u001b[0;34m\u001b[0m\u001b[0;34m\u001b[0m\u001b[0m\n\u001b[0m\u001b[1;32m      3\u001b[0m \u001b[0;34m\u001b[0m\u001b[0m\n\u001b[1;32m      4\u001b[0m \u001b[0mexport_text_to_file\u001b[0m\u001b[0;34m(\u001b[0m\u001b[0mresult1\u001b[0m\u001b[0;34m[\u001b[0m\u001b[0;34m'text'\u001b[0m\u001b[0;34m]\u001b[0m\u001b[0;34m,\u001b[0m\u001b[0;34m\"transcript_23_17.txt\"\u001b[0m\u001b[0;34m)\u001b[0m\u001b[0;34m\u001b[0m\u001b[0;34m\u001b[0m\u001b[0m\n",
            "\u001b[0;31mNameError\u001b[0m: name 'model' is not defined"
          ]
        }
      ],
      "source": [
        "# %%time\n",
        "result1 = model.transcribe(\"audio.mp3\")\n",
        "\n",
        "export_text_to_file(result1['text'],\"transcript_23_17.txt\")"
      ]
    },
    {
      "cell_type": "code",
      "execution_count": null,
      "metadata": {
        "colab": {
          "base_uri": "https://localhost:8080/"
        },
        "id": "QT3OYGwyYmXi",
        "outputId": "d5216bf1-e52c-4af3-b855-d0dc8bc1b524"
      },
      "outputs": [
        {
          "output_type": "stream",
          "name": "stdout",
          "text": [
            "Transcription:\n",
            "\n",
            "  All right, folks. Oh, no, I haven't done the thing yet. One second. Oh. You know this. Oh, it's got batteries, yeah. Where's the batteries? It's booked. Blah, blah, blah. Don't pause. You should check with your booking manager. How did that battery go, man? That's crazy. I am, but I'm You know who's important that we don't consider to be important? The people who are on podcasts. What's going on, man? Yeah, okay. You don't have to make me hear it. Yeah. All right. There we go. All right. Bismillah ar-Rahman ar-Raheem. Alhamdulillah. Rabbil Alameen. Allahumma salli wa sallim wa barak la nabiyina Muhammad wa ala alihi wa sahbihi ajma'in. Allahumma la sahlah illa ma ja'al tau sahlah wa anta tajulul hazna. Iza shaytah sahlah. Allahumma a'inna ala zikrika wa shukrika wa husna ibadatika ya Rabbil Karim. Assalamu alaikum wa rahmatullah wa barakatuhu. Everybody here in Makkah al-Mukarramah. Everybody here in Makkah al-Mukarramah. Everybody here in Makkah al-Mukarramah. Everybody here in Makkah al-Mukarramah. Sharrafah Allah. Sharrafah Allah. And everyone who's back home in their homes. And everyone who's back home in their homes. And everyone who's back home in their homes. We pray that you are well. We pray that Allah puts khair in this. All right, folks. So we are going to do... SubhanAllah. I was looking at today's section and I said this, I think, last week, I think. Yeah. It's about combining. On the coach. Now imagine a class which is... Going for 12 years. Going for 12 years. And you know, in 12 years, how many random things then you're going to cover in 12 years when you're teaching something every single week? And you come to the section randomly, quote unquote, on combining. And that's exactly what you need to answer when you are there, right there, in a weird scenario. And now... So if that was not strange enough. In 12 years, we... We are going to do... We are going to do... We are going to do... How many scenarios have we gone through in our lives in 12 years?\n",
            "\n",
            "\n",
            "ng, the one who has landed as a traveler. The Nazil also is allowed to take the concession of the Musafir state and combine. But you just wouldn't. That's what we're saying. We just wouldn't. So I did Qasr for a few days and then I didn't see Qasr for a few days. Oh, you're talking about Qasr or combining? No, Qasr. Qasr. So no, Qasr, I think is allowed. Why not? On the basis of being a traveler. Qasr is not linked to being Nazil or being linked to Sa'ir. Qasr is based on whether you believe yourself to be a traveler or not. We said about that, right? A person can be in comfort, but plan to leave soon. A person can be very, very comfortable. I don't believe that a person should make it just about comfort. But if a person is comfort and time, you're always building cases, right? You're looking at things in general. You're making a judgment call and you're just trying to use as many evidences to make you as comfortable as possible. But isn't Qasr a different case? Because it's not based on physical case. Qasr has a little bit of difficulty, but fundamentally it's about the travel. That's why I'm saying that the Qasr needs to go ahead because she's a traveler. And Allah knows best. Ijaz, you can do whatever you want. Because you're the only guy that I've ever seen. He's asking, can you watch LP whilst driving? My guy's got LP on his thingy. I have no idea how he does it. He does that road blocking, road crushing. What do they call it? Jail crushing, jail breaking. On his phone? Yeah. No, on his... On his TV? On his TV. Yeah. Yeah, a screamer. A screamer. I'm a basic guy. I've got a little thing. Tick, tick, tick, tick. I'm a passenger princess. I'm a passenger princess. Can I just say, I'm very proud of being a passenger princess. I never knew what that was. May Allah make me a passenger princess always, man. What a result. I love it when I get driven around. What? You're not trying to put this up. Princess, Princess, shame me. A princess shamed a lot of you, you know.\n"
          ]
        }
      ],
      "source": [
        "# result['text'][:-2000]\n",
        "# export_text_to_file(result1['text'],\"transcript_12_16.txt\")\n",
        "print(f\"Transcription:\\n\\n {result1['text'][:2000]}\\n\\n\\n{result1['text'][-2000:]}\")"
      ]
    },
    {
      "cell_type": "code",
      "execution_count": null,
      "metadata": {
        "id": "f5bDdKeL82dF",
        "colab": {
          "base_uri": "https://localhost:8080/"
        },
        "outputId": "e9e4ee06-d2d6-45de-c2c9-445aae2b6676"
      },
      "outputs": [
        {
          "output_type": "execute_result",
          "data": {
            "text/plain": [
              "[{'id': 0,\n",
              "  'seek': 0,\n",
              "  'start': 0.0,\n",
              "  'end': 3.06,\n",
              "  'text': ' All right, folks.',\n",
              "  'tokens': [50365, 1057, 558, 11, 4024, 13, 50518],\n",
              "  'temperature': 0.0,\n",
              "  'avg_logprob': -0.35171220952814275,\n",
              "  'compression_ratio': 1.2300884955752212,\n",
              "  'no_speech_prob': 0.35816094279289246},\n",
              " {'id': 1,\n",
              "  'seek': 0,\n",
              "  'start': 3.48,\n",
              "  'end': 4.9,\n",
              "  'text': \" Oh, no, I haven't done the thing yet.\",\n",
              "  'tokens': [50539,\n",
              "   876,\n",
              "   11,\n",
              "   572,\n",
              "   11,\n",
              "   286,\n",
              "   2378,\n",
              "   380,\n",
              "   1096,\n",
              "   264,\n",
              "   551,\n",
              "   1939,\n",
              "   13,\n",
              "   50610],\n",
              "  'temperature': 0.0,\n",
              "  'avg_logprob': -0.35171220952814275,\n",
              "  'compression_ratio': 1.2300884955752212,\n",
              "  'no_speech_prob': 0.35816094279289246},\n",
              " {'id': 2,\n",
              "  'seek': 0,\n",
              "  'start': 5.0200000000000005,\n",
              "  'end': 5.36,\n",
              "  'text': ' One second.',\n",
              "  'tokens': [50616, 1485, 1150, 13, 50633],\n",
              "  'temperature': 0.0,\n",
              "  'avg_logprob': -0.35171220952814275,\n",
              "  'compression_ratio': 1.2300884955752212,\n",
              "  'no_speech_prob': 0.35816094279289246}]"
            ]
          },
          "metadata": {},
          "execution_count": 10
        }
      ],
      "source": [
        "result1['segments'][:3]\n",
        "# export_text_to_file(result1['segments'],\"segments.txt\")"
      ]
    },
    {
      "cell_type": "markdown",
      "metadata": {
        "id": "PArjVN-2aOKe"
      },
      "source": [
        "## Distil Whisper"
      ]
    },
    {
      "cell_type": "code",
      "execution_count": null,
      "metadata": {
        "id": "1rmGnql9Mhrk"
      },
      "outputs": [],
      "source": [
        "!pip install --upgrade pip --quiet\n",
        "!pip install --upgrade transformers accelerate --quiet"
      ]
    },
    {
      "cell_type": "code",
      "execution_count": null,
      "metadata": {
        "colab": {
          "base_uri": "https://localhost:8080/",
          "height": 630,
          "referenced_widgets": [
            "d73cf3c191514ba191dbdff8380a81d3",
            "13e77357e87b46e682339f3d6be6c069",
            "8f79e4836fde4e9f8f8cc07ed506e616",
            "ec7076983ad04e08bf2011177f93402b",
            "06370f23f01344ed92c1dbe62389de20",
            "76b6e15aecdf4311a8233f87b4472247",
            "fdc3b96e4c0d4f14bac4a8e7adfb9ac1",
            "5728e454ff79428d8482488538ccc693",
            "b551bb2707714e9c9ba9c807d34febef",
            "c317c9cda8c24821b0e8048415435738",
            "617a9fa2e7a24c7681a4e78bd9865ab3",
            "646988c094ae43c5b330ca2d33cb9b2b",
            "7a8304b56da04350b4d61c22a74fedc6",
            "dbbed3314d2040a2bce5e640b8f3a73b",
            "574be62de7624c3081892e55678c1e72",
            "e2e9229e3eed40209ac50d025e027fd3",
            "fe3891311b034e1dbef5f8163af4d005",
            "508365c9af8b409e96f401fc273153b0",
            "ab3d7728c77f482187f9956e45c7ff69",
            "d139e48e86f448b893aa6549d1a6cdd3",
            "ccee684a92d64583b9a69561b38fc961",
            "e30a1e2d35ae4984b7ed0f8532f680f0",
            "999e5bfaf28f4387b6de1303ad845075",
            "c550983005c0421bbaafd333c7b87d08",
            "a8e092af4baf4f9687b26d5288be167a",
            "8810de9d26c140bbb66f9eddad818223",
            "e7a27ee0a88e4e44bd90f890815ad808",
            "ab7bb38216104ef3a06d748bc40a2728",
            "9d7df233471746b9bd1febe7f6a13a2d",
            "7c0bab43c3ff4e26bbd189d743b661e0",
            "e67e39dd182b454ba3d9a59725343f12",
            "cd5ea46f21834e94b2c1807185c54975",
            "ceb1b6a630e5467dbc1352c2e7c1b239",
            "eb9ecfc1d66543db8bb99417887ef378",
            "4acb7818cc074ace8e2e3e894a7e0f1f",
            "ab5fd9dc28b644da951bcc2e02359521",
            "666569f181ef40c1922cf71528ece14c",
            "d4309624115146eb9ff739b143325dfd",
            "7235f646e4114ee7bc0cab310ccfa47d",
            "91491cff77d8469f935a1c013f41a22c",
            "007feee2f25d4197b3ef65e204de9d76",
            "304fa27892f64fd0bf7e77a14d420941",
            "603122b57f454ba8a5d9754185b94c65",
            "e34a764de9bb49c1a9796ded48d62d6d",
            "a3b6697928db4d70902118058b318432",
            "cc2e3db51a2e433dab6cb21d424f30dc",
            "4aefaa2543734d12931f775d68f30c26",
            "4b37bac963d345d69eb24e230e781073",
            "a8c3547295a24ebcb779972eefae3f7f",
            "1f0f44eefe6a404481d08eb6177dd73a",
            "fff3fe9b0a094a23ac56675b4e19ea56",
            "fcc5693b5da742f8ac015c108c0a1dfc",
            "c437e91b4e9644c09e626e5e55c0435c",
            "582a368e06c04f7282a5918849422887",
            "0579fc7e357544b99403c574434779d8",
            "8eac9ecdf209421aabdbab578cfdae20",
            "8008ebc1fb7a4968b07cc288141e7b7e",
            "5c5e692869cd4e25b709a50959a75dc0",
            "0260f51ba1bd4078a36f211d0a6952ea",
            "76ac92139dee4b12a0e0c407c00bb4df",
            "96a0c86cd44d46f39fb3a8ef4aec9c38",
            "d8437fa140b449209be663784a991057",
            "6aa968d315814e479386c15579af4493",
            "f15e6ebd55e341c5b0080d6233468cf0",
            "6ded48de3eda4ca0aa39c8c2f681f939",
            "03a4e83825044e5098761a29eb3c492d",
            "11322d1cb7b548fd9c1d3c6e98f8fa0b",
            "bc56817d615a441d84a6247f06c9954b",
            "9b0f958466a543b49be6871781c886a9",
            "cc86a829e2b34c18837acb697aac20a3",
            "ac362c6f929941c7a16f1d98566faa36",
            "fc05803d11c34430b23affada79ce367",
            "18b19e6f7411430eb7f0dc40a8c46adc",
            "0f8dfdf114274cdbbe67c9456811019f",
            "108ce5016ffb49f093493b65746a9800",
            "3c602c5fb821417b85857875ca77c661",
            "c537390bc6e34d97847c03826030a2be",
            "824cdedd2a58453eba88c4a7284037f8",
            "bc544683cccd4c4f8aa7f2c69dc0f053",
            "61a7efef53da40a78dfe5fe80bd6c6bd",
            "7a81853853224fa6831db754629cd19f",
            "8d1133aab79748049a2350efb000f102",
            "0644846b69ec4055b68345771fb97c45",
            "1db7642722da4e75b5275a053d664b02",
            "b9ee9dcfe5334d5fab8dd9d2584d45ef",
            "01b578e15b3546d8af4cae3a9b0da56f",
            "7565e1ce9adf47f49400ed7af7b48ff9",
            "fb25686cfce64f6d80070140d659b4e1",
            "37430f0f243f4b7ab6973ae8b06508c2",
            "2835853345c249a1b638bcc4e1dd36f5",
            "38756f6d3ba44057a392d8ab29445d20",
            "f018d5b9ea0c4851a56958a661489a1c",
            "8c230e5116c240098c778400c0c1c2ca",
            "2bfd8a79938540d1b43d065c5e06cc9e",
            "4b5eee35ce71487aa7574becc623c903",
            "59bf912989c24716b1adc719f17eff9c",
            "7e00b787d35e4212a0938a1e82d9851e",
            "586dcba576e54b15b2803aa5aa96b939",
            "2519d3c5067b462a943ece997f84c474",
            "2de554949c0d4fa2817a57c5e95a9c28",
            "5e3f29ec865c461eb4ae66642e74898d",
            "f06c9b8089554bdb9968a6145263d08e",
            "681993bfe970450f9731f48d560ab9cd",
            "3c31e8967db74bbfae1424b4c5e23ea1",
            "3390ffc5fb914a18ba1880ce143173f4",
            "47be06ea845043bbbd7c1079ee0793d0",
            "75b0f87700e84803a9298dc8fedf4377",
            "626942aac51b447a80f279a1c6cb8882",
            "45cce0501ceb4c369a7aad912f165b94",
            "456b241e9fed40ebbe7ac933f411ca2c",
            "0ff1ed9300aa454b8d155cd63869b0f9",
            "f66920e7a6194a99a948d171f879f4f3",
            "ae26419a3b244354be3670e2ecb2bd0b",
            "b551fda5d9aa450c8af93d9c0072c58d",
            "9b39e35cf9f341d99c620c37c8e12c45",
            "2ea1ab706ce04672a215334ccfd61751",
            "0dc769050b9d4f748c13dbbecd99810b",
            "1e7b2f7915b044648a058d6caa4a462a",
            "3fce3db46a9f4e1c8d61810b801ef2ce",
            "679adcf940614de5b97e2ec8ffe077f5",
            "fbeafb19d7a54055a11b85973758b5d0"
          ]
        },
        "id": "UHmQkIclaXJa",
        "outputId": "f144329c-9a6b-4ab1-e629-d26e83fad34d"
      },
      "outputs": [
        {
          "output_type": "display_data",
          "data": {
            "text/plain": [
              "config.json:   0%|          | 0.00/2.29k [00:00<?, ?B/s]"
            ],
            "application/vnd.jupyter.widget-view+json": {
              "version_major": 2,
              "version_minor": 0,
              "model_id": "d73cf3c191514ba191dbdff8380a81d3"
            }
          },
          "metadata": {}
        },
        {
          "output_type": "display_data",
          "data": {
            "text/plain": [
              "model.safetensors:   0%|          | 0.00/1.51G [00:00<?, ?B/s]"
            ],
            "application/vnd.jupyter.widget-view+json": {
              "version_major": 2,
              "version_minor": 0,
              "model_id": "646988c094ae43c5b330ca2d33cb9b2b"
            }
          },
          "metadata": {}
        },
        {
          "output_type": "display_data",
          "data": {
            "text/plain": [
              "generation_config.json:   0%|          | 0.00/3.59k [00:00<?, ?B/s]"
            ],
            "application/vnd.jupyter.widget-view+json": {
              "version_major": 2,
              "version_minor": 0,
              "model_id": "999e5bfaf28f4387b6de1303ad845075"
            }
          },
          "metadata": {}
        },
        {
          "output_type": "display_data",
          "data": {
            "text/plain": [
              "preprocessor_config.json:   0%|          | 0.00/339 [00:00<?, ?B/s]"
            ],
            "application/vnd.jupyter.widget-view+json": {
              "version_major": 2,
              "version_minor": 0,
              "model_id": "eb9ecfc1d66543db8bb99417887ef378"
            }
          },
          "metadata": {}
        },
        {
          "output_type": "display_data",
          "data": {
            "text/plain": [
              "tokenizer_config.json:   0%|          | 0.00/283k [00:00<?, ?B/s]"
            ],
            "application/vnd.jupyter.widget-view+json": {
              "version_major": 2,
              "version_minor": 0,
              "model_id": "a3b6697928db4d70902118058b318432"
            }
          },
          "metadata": {}
        },
        {
          "output_type": "display_data",
          "data": {
            "text/plain": [
              "vocab.json:   0%|          | 0.00/836k [00:00<?, ?B/s]"
            ],
            "application/vnd.jupyter.widget-view+json": {
              "version_major": 2,
              "version_minor": 0,
              "model_id": "8eac9ecdf209421aabdbab578cfdae20"
            }
          },
          "metadata": {}
        },
        {
          "output_type": "display_data",
          "data": {
            "text/plain": [
              "tokenizer.json:   0%|          | 0.00/2.48M [00:00<?, ?B/s]"
            ],
            "application/vnd.jupyter.widget-view+json": {
              "version_major": 2,
              "version_minor": 0,
              "model_id": "11322d1cb7b548fd9c1d3c6e98f8fa0b"
            }
          },
          "metadata": {}
        },
        {
          "output_type": "display_data",
          "data": {
            "text/plain": [
              "merges.txt:   0%|          | 0.00/494k [00:00<?, ?B/s]"
            ],
            "application/vnd.jupyter.widget-view+json": {
              "version_major": 2,
              "version_minor": 0,
              "model_id": "824cdedd2a58453eba88c4a7284037f8"
            }
          },
          "metadata": {}
        },
        {
          "output_type": "display_data",
          "data": {
            "text/plain": [
              "normalizer.json:   0%|          | 0.00/52.7k [00:00<?, ?B/s]"
            ],
            "application/vnd.jupyter.widget-view+json": {
              "version_major": 2,
              "version_minor": 0,
              "model_id": "37430f0f243f4b7ab6973ae8b06508c2"
            }
          },
          "metadata": {}
        },
        {
          "output_type": "display_data",
          "data": {
            "text/plain": [
              "added_tokens.json:   0%|          | 0.00/34.6k [00:00<?, ?B/s]"
            ],
            "application/vnd.jupyter.widget-view+json": {
              "version_major": 2,
              "version_minor": 0,
              "model_id": "2de554949c0d4fa2817a57c5e95a9c28"
            }
          },
          "metadata": {}
        },
        {
          "output_type": "display_data",
          "data": {
            "text/plain": [
              "special_tokens_map.json:   0%|          | 0.00/2.08k [00:00<?, ?B/s]"
            ],
            "application/vnd.jupyter.widget-view+json": {
              "version_major": 2,
              "version_minor": 0,
              "model_id": "0ff1ed9300aa454b8d155cd63869b0f9"
            }
          },
          "metadata": {}
        },
        {
          "output_type": "stream",
          "name": "stderr",
          "text": [
            "Special tokens have been added in the vocabulary, make sure the associated word embeddings are fine-tuned or trained.\n"
          ]
        }
      ],
      "source": [
        "import torch\n",
        "from transformers import AutoModelForSpeechSeq2Seq, AutoProcessor, pipeline\n",
        "\n",
        "device = \"cuda:0\" if torch.cuda.is_available() else \"cpu\"\n",
        "torch_dtype = torch.float16 if torch.cuda.is_available() else torch.float32\n",
        "\n",
        "model_id = \"distil-whisper/distil-large-v2\"\n",
        "\n",
        "model = AutoModelForSpeechSeq2Seq.from_pretrained(\n",
        "    model_id, torch_dtype=torch_dtype, low_cpu_mem_usage=True, use_safetensors=True\n",
        ")\n",
        "model.to(device)\n",
        "\n",
        "processor = AutoProcessor.from_pretrained(model_id)"
      ]
    },
    {
      "cell_type": "code",
      "execution_count": null,
      "metadata": {
        "id": "heaKJ2w_JgNd"
      },
      "outputs": [],
      "source": [
        "pipe = pipeline(\n",
        "    \"automatic-speech-recognition\",\n",
        "    model=model,\n",
        "    tokenizer=processor.tokenizer,\n",
        "    feature_extractor=processor.feature_extractor,\n",
        "    max_new_tokens=128,\n",
        "    chunk_length_s=30,\n",
        "    # stride_length_s=10\n",
        "    batch_size=16,\n",
        "    torch_dtype=torch_dtype,\n",
        "    device=device,\n",
        ")"
      ]
    },
    {
      "cell_type": "code",
      "execution_count": null,
      "metadata": {
        "id": "LvzSy9G_ZfZr"
      },
      "outputs": [],
      "source": [
        "result = pipe('audio.mp3')"
      ]
    },
    {
      "cell_type": "code",
      "execution_count": null,
      "metadata": {
        "id": "7LGSUcSzc_cn",
        "colab": {
          "base_uri": "https://localhost:8080/"
        },
        "outputId": "40082090-c3fe-4c5e-d747-96be151e13e3"
      },
      "outputs": [
        {
          "output_type": "stream",
          "name": "stdout",
          "text": [
            "Transcription:\n",
            "\n",
            "  you you you I'm sorry, God. Rahmman, Rahm the haze if it is the tel. Allahuma, ahem! Allah! Allah! Allah! Welcome to everybody. We also have some special guests. I believe we have the oldest one, hiding behind here. Emma, you can run but you can't hide and the lads are here and where's my guy, Idriss? Masha Allah. All right folks so today we start a new chapter as Jazad has just put on the link there. You don't have right click. You mean. Throw your Mac in the bin. Which human being, Yan'i, on his trackpad doesn't make the right-hand side right-click of a mouse? Tell me that. All right. We're going to have a vote right now. Vote right now. He just said that on a track pad, forget Mac, Apple. I'm just talking about human civilization. If you have a track pad, or if you have two buttons, no, no, that's not right. One second, let's start where we should start. If we have a left button and a right button, what would the right button do? Right click as a normal windows? Okay, right. So if we have a track pad, glass pad, whatever buquass you call it these days, what's going to be your right-click button on a, from a mouse? What is it? Number one, it's going to be the right-hand side of the track pad. Correct? Okay. Shazad Sadiem just said, two clicks on the pad. Two clicks on the pad? Two fingers, two fingers. Two fingers. How much is what you use and the profession of what you use? I don't understand what it means. Two fingers. Just put two fingers down on the track pad. Without clicking? And then press down. A click with two fingers? Yeah, two fingers and then click on their fingers and back. Let me tell you the professionals do it. Just try the other way around his heartband. Oh my god that's so horrible. What is that? Oh my life, that is so horrible what you just did. Oh my life, just took half an hour just to do that. Just want you to open up a new tab. That's what we wanted. Humanity is crying right now. That's it. Oh my life. Just took half an hour just to do that\n",
            "\n",
            "\n",
            "til 3 o'clock, 4 o'clock, then I'll give you an hour, you can have your d'hahr in the last minutes. You're gonna have a munch, you pray, us as soon as it comes in before 5. And then're giving completely different definition, aren't they? They are, well, not really. If we cannot agree on a definition for combining in the first place, then it's not such a bad answer, is it? But so far, we've said combining, broken down technically, is praying one pre is correct? That's us said that. Well, we don't have a definitive proof that the Prophet Salih. Well, we will argue we'll be able to put forward some timings. But the point is, is that if you think that there's a hadith where the Prophet Salihya said that combining is in the beginning of the prayer time or the first time or in the end of the second prayer time which by the way Sheikh Abhathim means a point he's gonna make it next week is gonna say there are people out there that believe where when you talk about combining and I've seen that by the way as well they mean or they feel that that means that you've got to pray the hard and usher right at the beginning of Duhar time and that you've got to pray your Duhar and your Asser at some late, late time together. So let me be praised that, what my understanding is what you've taught so far is that the definition of combining is one prayer, it's correct time, followed by another player out of its correct time. That's our definition. But this definition of the home response and other things is playing both players is correct. Correct. It is a completely different thing but it still comes under the linguistic definition of combining. That's the point. Right? Anybody else right? I think I think what we are if you're traveling by train as I do a proper tra such as from one province to another, there's a train station of the same ruling as the airport, yes it does. Absolutely it does. All right will be online same time 810 UK time Zakmulahqa. Salam al-Qaqa Salam al-Qaqa. you you\n"
          ]
        }
      ],
      "source": [
        "print(f\"Transcription:\\n\\n {result['text'][:2000]}\\n\\n\\n{result['text'][-2000:]}\")"
      ]
    },
    {
      "cell_type": "code",
      "execution_count": null,
      "metadata": {
        "id": "F26C2czBa7ae"
      },
      "outputs": [],
      "source": [
        "# def export_text_to_file(text, filename):\n",
        "#   \"\"\"Exports the given text to the given file and force ascii.\"\"\"\n",
        "#   text = text.encode(\"ascii\", errors=\"ignore\").decode()\n",
        "#   with open(filename, 'w') as f:\n",
        "#     f.write(text)\n",
        "export_text_to_file(result['text'],\"transcript2.txt\")"
      ]
    },
    {
      "cell_type": "code",
      "execution_count": null,
      "metadata": {
        "id": "HNT95Oif9fXv",
        "colab": {
          "base_uri": "https://localhost:8080/"
        },
        "outputId": "bbf987cd-f463-4490-b79a-f6ce0753cf96"
      },
      "outputs": [
        {
          "output_type": "stream",
          "name": "stderr",
          "text": [
            "Whisper did not predict an ending timestamp, which can happen if audio is cut off in the middle of a word. Also make sure WhisperTimeStampLogitsProcessor was used during generation.\n"
          ]
        }
      ],
      "source": [
        "result = pipe('audio.mp3', return_timestamps=True)"
      ]
    },
    {
      "cell_type": "code",
      "source": [
        "result.keys()"
      ],
      "metadata": {
        "colab": {
          "base_uri": "https://localhost:8080/"
        },
        "id": "PW38cJBX6B2i",
        "outputId": "7f22404c-e2bc-4f01-fb88-db1a7a6a161e"
      },
      "execution_count": null,
      "outputs": [
        {
          "output_type": "execute_result",
          "data": {
            "text/plain": [
              "dict_keys(['text', 'chunks'])"
            ]
          },
          "metadata": {},
          "execution_count": 16
        }
      ]
    },
    {
      "cell_type": "code",
      "source": [
        "\n"
      ],
      "metadata": {
        "id": "4Wh6Jsb17mvf"
      },
      "execution_count": null,
      "outputs": []
    },
    {
      "cell_type": "code",
      "source": [
        "result['text'][:100]"
      ],
      "metadata": {
        "colab": {
          "base_uri": "https://localhost:8080/",
          "height": 52
        },
        "id": "2SmICceA78j9",
        "outputId": "8eb50a20-3675-4efc-8bab-f4149488661e"
      },
      "execution_count": null,
      "outputs": [
        {
          "output_type": "execute_result",
          "data": {
            "text/plain": [
              "\" you know, I'm sorry, Godine Rauchim, Rahmem, al-Qaeda. Thank you. God bless Muhammad and ala his an\""
            ],
            "application/vnd.google.colaboratory.intrinsic+json": {
              "type": "string"
            }
          },
          "metadata": {},
          "execution_count": 19
        }
      ]
    },
    {
      "cell_type": "code",
      "source": [
        "result['chunks'][:5]"
      ],
      "metadata": {
        "colab": {
          "base_uri": "https://localhost:8080/"
        },
        "id": "Vb40l_yx62Sp",
        "outputId": "a9b61a31-f886-4117-f50c-b9c974fbe243"
      },
      "execution_count": null,
      "outputs": [
        {
          "output_type": "execute_result",
          "data": {
            "text/plain": [
              "[{'timestamp': (0.0, 67.0),\n",
              "  'text': \" you know, I'm sorry, Godine Rauchim, Rahmem, al-Qaeda.\"},\n",
              " {'timestamp': (67.0, 86.0),\n",
              "  'text': \" Thank you. God bless Muhammad and ala his and his their own. Allahma no sahile, that's it is tell.\"},\n",
              " {'timestamp': (86.0, 89.0),\n",
              "  'text': ' And you tel the hazen if she is the the.'},\n",
              " {'timestamp': (89.0, 91.0), 'text': \" Allahum, I ain't ala d'eckraheck\"},\n",
              " {'timestamp': (91.0, 110.4),\n",
              "  'text': \" thee, the the the the the the the thea can run but you can't hide and the lads are here and where's my guy\"}]"
            ]
          },
          "metadata": {},
          "execution_count": 21
        }
      ]
    },
    {
      "cell_type": "code",
      "source": [
        "# ts = result['chunks'][0]['timestamp']\n",
        "ts[0]"
      ],
      "metadata": {
        "colab": {
          "base_uri": "https://localhost:8080/"
        },
        "id": "IgA0_O5M8xgp",
        "outputId": "330a69e3-a2ab-493c-85d1-ce74458d8efe"
      },
      "execution_count": null,
      "outputs": [
        {
          "output_type": "execute_result",
          "data": {
            "text/plain": [
              "0.0"
            ]
          },
          "metadata": {},
          "execution_count": 29
        }
      ]
    },
    {
      "cell_type": "code",
      "source": [
        "dec = ts[0]\n",
        "dec // 3600"
      ],
      "metadata": {
        "colab": {
          "base_uri": "https://localhost:8080/"
        },
        "id": "PZPszTjq-DqZ",
        "outputId": "c0b616bb-ed9c-4d9f-f5d1-a4be6171eb3a"
      },
      "execution_count": null,
      "outputs": [
        {
          "output_type": "execute_result",
          "data": {
            "text/plain": [
              "0.0"
            ]
          },
          "metadata": {},
          "execution_count": 50
        }
      ]
    },
    {
      "cell_type": "code",
      "source": [
        "def convert_to_ts(decimal):\n",
        "\n",
        "    # decimal = float(decimal)\n",
        "    # decimal = int(decimal)\n",
        "    hours = decimal // 3600\n",
        "    hours = int(hours)\n",
        "    minutes = int((decimal % 3600) // 60)\n",
        "    seconds = int(decimal % 60)\n",
        "    return f\"{hours:02d}:{minutes:02d}:{seconds:02d}\"\n",
        "\n",
        "def store_segment(segments):\n",
        "    for el in segments:\n",
        "        ts = el['timestamp']\n",
        "        start = ts[0]\n",
        "        if(type(start) != 'float'):\n",
        "            print(start, type(start))\n",
        "            return\n",
        "        # print(type(ts), ts, type(ts[0]), ts[1])\n",
        "        start = convert_to_ts(ts[0])\n",
        "        end = convert_to_ts(ts[1])\n",
        "        line = f\"[{start} - {end}] {el['text']}\"\n",
        "        # write line to text file\n",
        "        with open('transcript_ts.txt', 'a', encoding=\"utf-8\") as f:\n",
        "            f.write(line + '\\n')\n",
        "store_segment(result['chunks'])"
      ],
      "metadata": {
        "colab": {
          "base_uri": "https://localhost:8080/"
        },
        "id": "aZfPscEd8i0J",
        "outputId": "9d59df32-4904-4a08-da42-b30fcaa45a7b"
      },
      "execution_count": null,
      "outputs": [
        {
          "output_type": "stream",
          "name": "stdout",
          "text": [
            "0.0 <class 'float'>\n"
          ]
        },
        {
          "output_type": "stream",
          "name": "stderr",
          "text": [
            "<>:15: SyntaxWarning: \"is not\" with a literal. Did you mean \"!=\"?\n",
            "<>:15: SyntaxWarning: \"is not\" with a literal. Did you mean \"!=\"?\n",
            "<ipython-input-51-7e31c5d7a50e>:15: SyntaxWarning: \"is not\" with a literal. Did you mean \"!=\"?\n",
            "  if(type(start) is not 'float'):\n"
          ]
        }
      ]
    },
    {
      "cell_type": "markdown",
      "metadata": {
        "id": "u63mpaULOTAV"
      },
      "source": [
        "## Fast Whisper"
      ]
    },
    {
      "cell_type": "code",
      "execution_count": null,
      "metadata": {
        "id": "iFyKB6bkOWQ6"
      },
      "outputs": [],
      "source": [
        "!pipx install -q insanely-fast-whisper"
      ]
    },
    {
      "cell_type": "code",
      "execution_count": null,
      "metadata": {
        "id": "F3R7jacXObz5"
      },
      "outputs": [],
      "source": []
    },
    {
      "cell_type": "markdown",
      "metadata": {
        "id": "2xY0mWFUl1XR"
      },
      "source": [
        "## YT Transcript"
      ]
    },
    {
      "cell_type": "code",
      "execution_count": null,
      "metadata": {
        "id": "4NIYD3x_YbuL"
      },
      "outputs": [],
      "source": [
        "!pip install -q youtube_dl youtube_transcript_api\n",
        "import youtube_dl\n",
        "from youtube_transcript_api import YouTubeTranscriptApi\n",
        "\n",
        "# def download_video_and_transcript(url):\n",
        "#     # Download video\n",
        "#     # ydl_opts = {}\n",
        "#     # with youtube_dl.YoutubeDL(ydl_opts) as ydl:\n",
        "#     #     ydl.download([url])\n",
        "\n"
      ]
    },
    {
      "cell_type": "code",
      "execution_count": null,
      "metadata": {
        "id": "6m5xS2I9Kd5e"
      },
      "outputs": [],
      "source": [
        "!pip install -q langchain pytube\n",
        "from langchain.document_loaders import YoutubeAudioLoader, YoutubeLoader\n",
        "# import youtube_dl\n",
        "# from youtube_transcript_api import YouTubeTranscriptApi\n",
        "\n",
        "url = \"https://www.youtube.com/watch?v=0r_gtG26iAo\"\n",
        "loader = YoutubeLoader.from_youtube_url(url,add_video_info=True)\n",
        "docs = loader.load()\n",
        "# response = docs[0].dict()"
      ]
    },
    {
      "cell_type": "code",
      "execution_count": null,
      "metadata": {
        "id": "0AHBtxh1SQCu"
      },
      "outputs": [],
      "source": [
        "url = \"https://www.youtube.com/watch?v=XorjY6kgTLM\"\n",
        "\n",
        "# Get transcript\n",
        "transcript = YouTubeTranscriptApi.get_transcript(\n",
        "    'XorjY6kgTLM',\n",
        "    preserve_formatting=False)\n",
        "print(transcript)"
      ]
    },
    {
      "cell_type": "code",
      "execution_count": null,
      "metadata": {
        "id": "MlzZ7KmlLtOI"
      },
      "outputs": [],
      "source": [
        "docs"
      ]
    },
    {
      "cell_type": "code",
      "execution_count": null,
      "metadata": {
        "id": "bTxLfcVYYq6h"
      },
      "outputs": [],
      "source": [
        "doc = ''\n",
        "for item in transcript:\n",
        "    end = item['start'] + item['duration']\n",
        "    doc += f\"[{item['start']} - {end:.2f}] {item['text']}\\n\"\n",
        "print(doc)"
      ]
    },
    {
      "cell_type": "markdown",
      "metadata": {
        "id": "8W5r4HyOlp0v"
      },
      "source": [
        "## Miscellaneous"
      ]
    },
    {
      "cell_type": "code",
      "execution_count": null,
      "metadata": {
        "id": "fvpyt6h6P9Gk"
      },
      "outputs": [],
      "source": [
        "# !yt-dlp --no-config https://www.youtube.com/watch?v=2-ZlTc6OniY -k"
      ]
    },
    {
      "cell_type": "code",
      "execution_count": null,
      "metadata": {
        "id": "GgA0Fc9Mlw-s"
      },
      "outputs": [],
      "source": [
        "URL = \"https://www.youtube.com/watch?v=vVXJhrrQGnU\"\n",
        "ID = \"vVXJhrrQGnU\""
      ]
    },
    {
      "cell_type": "code",
      "execution_count": null,
      "metadata": {
        "id": "_9I0leh4l9o6"
      },
      "outputs": [],
      "source": [
        "!pip install -q langchain youtube_transcript_api pytube"
      ]
    },
    {
      "cell_type": "code",
      "execution_count": null,
      "metadata": {
        "id": "GQRo_Of0mAUG"
      },
      "outputs": [],
      "source": [
        "from langchain.document_loaders import YoutubeAudioLoader, YoutubeLoader\n",
        "loader = YoutubeLoader(ID,add_video_info=True)\n",
        "docs = loader.load()"
      ]
    },
    {
      "cell_type": "code",
      "execution_count": null,
      "metadata": {
        "id": "Z26Dza_vv-B7"
      },
      "outputs": [],
      "source": [
        "!pip install -q tiktoken sentence_transformers\n",
        "from langchain.text_splitter import TextSplitter, TokenTextSplitter, SentenceTransformersTokenTextSplitter, RecursiveCharacterTextSplitter\n",
        "text_splitter = TokenTextSplitter(chunk_size=128, chunk_overlap=0)\n",
        "st_splitter = SentenceTransformersTokenTextSplitter(chunk_overlap=0)\n"
      ]
    },
    {
      "cell_type": "code",
      "execution_count": null,
      "metadata": {
        "id": "O-wmWjYRxPyO"
      },
      "outputs": [],
      "source": [
        "URL = \"https://www.youtube.com/watch?v=h-KQjQGb0d4\"\n",
        "loader = YoutubeLoader.from_youtube_url(URL,add_video_info=True)\n",
        "docs = loader.load()\n",
        "splits = loader.load_and_split(text_splitter)\n",
        "sentences = loader.load_and_split(st_splitter)\n",
        "test = st_splitter.split_documents(docs)"
      ]
    },
    {
      "cell_type": "code",
      "execution_count": null,
      "metadata": {
        "id": "Qt_IS3ZdzItn"
      },
      "outputs": [],
      "source": [
        "splits[0]"
      ]
    },
    {
      "cell_type": "code",
      "execution_count": null,
      "metadata": {
        "id": "cPCcWRPUyBu9"
      },
      "outputs": [],
      "source": [
        "print(f\"Token:{len(splits)}\\tSentences:{len(sentences)}\\tSecond:{len(test)}\")"
      ]
    },
    {
      "cell_type": "code",
      "execution_count": null,
      "metadata": {
        "id": "q2FLK8lXzkCX"
      },
      "outputs": [],
      "source": [
        "for d in enumerate(splits):\n",
        "  print(d[1].dict())"
      ]
    },
    {
      "cell_type": "code",
      "execution_count": null,
      "metadata": {
        "id": "CWmr4JzbyTRO"
      },
      "outputs": [],
      "source": [
        "# t1 = \"\\n\\n\".join(d[1].dict().page_content for d in enumerate(splits))\n",
        "t1 = \"\\n\\n\".join(d[1].page_content for d in enumerate(sentences))\n",
        "print(t1)"
      ]
    },
    {
      "cell_type": "code",
      "execution_count": null,
      "metadata": {
        "id": "CRe7ofhd1a9S"
      },
      "outputs": [],
      "source": [
        "!pip install -q llama_hub\n",
        "from llama_hub.youtube_transcript import YoutubeTranscriptReader\n",
        "\n",
        "loader = YoutubeTranscriptReader()"
      ]
    },
    {
      "cell_type": "code",
      "execution_count": null,
      "metadata": {
        "id": "9PlDvJxz4tpi"
      },
      "outputs": [],
      "source": [
        "URL = \"https://www.youtube.com/watch?v=XorjY6kgTLM\"\n",
        "documents = loader.load_data(ytlinks=[URL],languages=['en','ar'])"
      ]
    },
    {
      "cell_type": "code",
      "execution_count": null,
      "metadata": {
        "id": "XFDgY8UL5Aro"
      },
      "outputs": [],
      "source": [
        "doc = documents[0].dict()\n",
        "doc.keys()\n",
        "for key in doc.keys():\n",
        "  if key != 'text':\n",
        "    print(f'{key} = {doc[key]}')\n",
        "print(doc['text'])"
      ]
    },
    {
      "cell_type": "code",
      "execution_count": null,
      "metadata": {
        "id": "UgFt3x5qmSu9"
      },
      "outputs": [],
      "source": [
        "res = docs[0].dict()\n",
        "print(f\"Length:{len(res['page_content'])}\\nType:{res['type']}\\nMetadata:{res['metadata']}\")"
      ]
    },
    {
      "cell_type": "code",
      "execution_count": null,
      "metadata": {
        "id": "AMvgbtIlolLl"
      },
      "outputs": [],
      "source": [
        "%%writefile requirements.txt\n",
        "langchain\n",
        "pytube\n",
        "youtube_transcript_api"
      ]
    },
    {
      "cell_type": "code",
      "execution_count": null,
      "metadata": {
        "id": "JcHS04s7oCxa"
      },
      "outputs": [],
      "source": [
        "! pip freeze -r requirements.txt >> freeze.txt"
      ]
    },
    {
      "cell_type": "code",
      "execution_count": null,
      "metadata": {
        "id": "bIbmiF8LKNZy"
      },
      "outputs": [],
      "source": [
        "# Download a static FFmpeg build and add it to PATH.\n",
        "def run_ffmpeg():\n",
        "  exist = !which ffmpeg\n",
        "  if not exist:\n",
        "    !curl https://johnvansickle.com/ffmpeg/releases/ffmpeg-release-amd64-static.tar.xz -o ffmpeg.tar.xz \\\n",
        "      && tar -xf ffmpeg.tar.xz && rm ffmpeg.tar.xz\n",
        "    ffmdir = !find . -iname ffmpeg-*-static\n",
        "    path = %env PATH\n",
        "    path = path + ':' + ffmdir[0]\n",
        "    %env PATH $path\n",
        "  print('')\n",
        "  !which ffmpeg\n",
        "  print('Done!')"
      ]
    },
    {
      "cell_type": "code",
      "execution_count": null,
      "metadata": {
        "id": "lxYfoyAynT2_"
      },
      "outputs": [],
      "source": [
        "import subprocess\n",
        "def list():\n",
        "  out = subprocess.run([\"ls\", \"-alh\"], capture_output=True)\n",
        "  print(out.stdout.decode())"
      ]
    },
    {
      "cell_type": "code",
      "execution_count": null,
      "metadata": {
        "id": "U-nXc1AETO-R"
      },
      "outputs": [],
      "source": [
        "! pip install  -q -U openai-whisper cohere openai\n",
        "import whisper"
      ]
    },
    {
      "cell_type": "code",
      "execution_count": null,
      "metadata": {
        "id": "q_uXxcNMaQx8"
      },
      "outputs": [],
      "source": [
        "result.keys()"
      ]
    },
    {
      "cell_type": "code",
      "execution_count": null,
      "metadata": {
        "id": "_P350z-hLO8A"
      },
      "outputs": [],
      "source": [
        "import openai"
      ]
    },
    {
      "cell_type": "code",
      "execution_count": null,
      "metadata": {
        "id": "aNRYIlhBmyqV"
      },
      "outputs": [],
      "source": [
        "import re\n",
        "def extract_youtube_video_id(url):\n",
        "  regex = r\"v=([^&]+)\"\n",
        "  match = re.search(regex, url)\n",
        "  if match:\n",
        "    return match.group(1)\n",
        "  else:\n",
        "    return None"
      ]
    },
    {
      "cell_type": "code",
      "execution_count": null,
      "metadata": {
        "id": "TLZD-eAcm5uZ"
      },
      "outputs": [],
      "source": [
        "extract_youtube_video_id(URL)"
      ]
    },
    {
      "cell_type": "code",
      "execution_count": null,
      "metadata": {
        "id": "R2I7qwJZnAAu"
      },
      "outputs": [],
      "source": [
        "extract_youtube_video_id(\"https://www.youtube.com/watch?v=5tsbWHgBYpw\")"
      ]
    },
    {
      "cell_type": "code",
      "execution_count": null,
      "metadata": {
        "id": "-cHN-D-iTkI8"
      },
      "outputs": [],
      "source": [
        "# med_model = whisper.load_model(\"medium\")\n",
        "small_model = whisper.load_model(\"small\")"
      ]
    },
    {
      "cell_type": "code",
      "execution_count": null,
      "metadata": {
        "id": "6Gs3EwfLswG9"
      },
      "outputs": [],
      "source": [
        "result['text'][:600]"
      ]
    },
    {
      "cell_type": "code",
      "execution_count": null,
      "metadata": {
        "id": "HkZ40HcxqFSu"
      },
      "outputs": [],
      "source": [
        "export_text_to_file(result['text'],\"transcript.txt\")"
      ]
    },
    {
      "cell_type": "code",
      "execution_count": null,
      "metadata": {
        "id": "GZVt1X8MthO0"
      },
      "outputs": [],
      "source": [
        "result['text'][:500]"
      ]
    },
    {
      "cell_type": "code",
      "execution_count": null,
      "metadata": {
        "id": "44g9YhmKtCVv"
      },
      "outputs": [],
      "source": [
        "result['segments'][0]"
      ]
    },
    {
      "cell_type": "code",
      "execution_count": null,
      "metadata": {
        "id": "QOjb1ardAP0_"
      },
      "outputs": [],
      "source": [
        "import json\n",
        "res = json.dumps(result['segments'])"
      ]
    },
    {
      "cell_type": "code",
      "execution_count": null,
      "metadata": {
        "id": "SgJQZjZQAZjR"
      },
      "outputs": [],
      "source": [
        "res2 = json.load(res)"
      ]
    },
    {
      "cell_type": "code",
      "execution_count": null,
      "metadata": {
        "id": "Ki0BZDXEs7DA"
      },
      "outputs": [],
      "source": [
        "export_text_to_file(res,\"segments.txt\")"
      ]
    },
    {
      "cell_type": "code",
      "execution_count": null,
      "metadata": {
        "id": "Jpn2bWCQVHfB"
      },
      "outputs": [],
      "source": [
        "! pip install -q pytube\n",
        "import pytube as pt"
      ]
    },
    {
      "cell_type": "code",
      "execution_count": null,
      "metadata": {
        "id": "SFr0qbXIdn7_"
      },
      "outputs": [],
      "source": [
        "def download(url, filename):\n",
        "  yt = pt.YouTube(url)\n",
        "  stream = yt.streams.filter(only_audio=True)\n",
        "  stream[0].download()"
      ]
    },
    {
      "cell_type": "code",
      "execution_count": null,
      "metadata": {
        "id": "FMmT2Rs1fdvI"
      },
      "outputs": [],
      "source": [
        "list()"
      ]
    },
    {
      "cell_type": "code",
      "execution_count": null,
      "metadata": {
        "id": "JI243Yw3d0X5"
      },
      "outputs": [],
      "source": [
        "yor_skit = \"https://www.youtube.com/watch?v=YnBUKT7Le8I\"\n",
        "download(yor_skit,\"skit\")"
      ]
    },
    {
      "cell_type": "code",
      "execution_count": null,
      "metadata": {
        "id": "HL92qPgknsni"
      },
      "outputs": [],
      "source": [
        "def download(url):\n",
        "  id = extract_youtube_video_id(url)\n",
        "  cmds = [\"yt-dlp\", \"--no-config\", \"-v\", \"--get-title\", \"--extract-audio\", \"--audio-format\", \"mp3\", id, \">>\", \"audio.mp3\"]\n",
        "  out = subprocess.run(cmds, capture_output=True)\n",
        "  # subprocess.run([\"yt-dlp\", \"--no-config\", \"-v\", \"--get-title\", \"--extract-audio\", \"--audio-format\", \"mp3\", id, \">>\", \"audio.mp3\"])\n",
        "  print(str(cmds))\n",
        "  print(out.stdout.decode())"
      ]
    },
    {
      "cell_type": "code",
      "execution_count": null,
      "metadata": {
        "id": "95RJfKkOdiaO"
      },
      "outputs": [],
      "source": [
        "\n",
        "yt = pt.YouTube(lp2_url)\n",
        "stream = yt.streams.filter(only_audio=True)\n",
        "stream[0].download(filename=\"audio2.mp3\")"
      ]
    },
    {
      "cell_type": "code",
      "execution_count": null,
      "metadata": {
        "id": "XLh0rtCQVLo7"
      },
      "outputs": [],
      "source": [
        "lp2_url = \"https://www.youtube.com/watch?v=EXALI6jFu6E\"\n",
        "yt = pt.YouTube(lp2_url)\n",
        "stream = yt.streams.filter(only_audio=True)\n",
        "stream[0].download(filename=\"audio2.mp3\")"
      ]
    },
    {
      "cell_type": "code",
      "execution_count": null,
      "metadata": {
        "id": "V2xTBxxiVhjD"
      },
      "outputs": [],
      "source": [
        "%%time\n",
        "result2 = small_model.transcribe(\"audio2.mp3\")"
      ]
    },
    {
      "cell_type": "code",
      "execution_count": null,
      "metadata": {
        "id": "uZCEossuj34P"
      },
      "outputs": [],
      "source": [
        "result1.keys()"
      ]
    },
    {
      "cell_type": "code",
      "execution_count": null,
      "metadata": {
        "id": "weKJK0nmjokp"
      },
      "outputs": [],
      "source": [
        "export_text_to_file(result1[\"text\"],\"medium.txt\")"
      ]
    },
    {
      "cell_type": "code",
      "execution_count": null,
      "metadata": {
        "id": "wMUYaS5kj-_g"
      },
      "outputs": [],
      "source": [
        "export_text_to_file(result2[\"text\"],\"large.txt\")"
      ]
    },
    {
      "cell_type": "code",
      "execution_count": null,
      "metadata": {
        "id": "_-2cBD1OkIbw"
      },
      "outputs": [],
      "source": [
        "def highlight_differences(text1, text2):\n",
        "  \"\"\"Highlights the differences between two texts.\n",
        "\n",
        "  Args:\n",
        "    text1: The first text.\n",
        "    text2: The second text.\n",
        "\n",
        "  Returns:\n",
        "    A string containing the two texts with the differences highlighted.\n",
        "  \"\"\"\n",
        "\n",
        "  # Split the texts into words.\n",
        "  words1 = text1.split()\n",
        "  words2 = text2.split()\n",
        "\n",
        "  # Create a list to store the highlighted differences.\n",
        "  highlighted_differences = []\n",
        "\n",
        "  # Iterate over the words in the first text.\n",
        "  for i in range(len(words1)):\n",
        "    # If the word in the first text is different from the word in the second text,\n",
        "    # highlight it.\n",
        "    if words1[i] != words2[i]:\n",
        "      # highlighted_differences.append(f\"<span style='background-color: yellow'>{words1[i]}</span>\")\n",
        "      highlighted_differences.append(f\"[<{words1[i]}><{words2[i]}>]\")\n",
        "    else:\n",
        "      highlighted_differences.append(words1[i])\n",
        "\n",
        "  # Join the highlighted differences into a string.\n",
        "  highlighted_text = \" \".join(highlighted_differences)\n",
        "\n",
        "  # Return the highlighted text.\n",
        "  return highlighted_text\n",
        "\n",
        "\n",
        "# Example usage:\n",
        "\n",
        "text1 = \"This is the first text.\"\n",
        "text2 = \"This is the second text.\"\n",
        "\n",
        "highlighted_text = highlight_differences(text1, text2)\n",
        "\n",
        "print(highlighted_text)\n"
      ]
    },
    {
      "cell_type": "code",
      "execution_count": null,
      "metadata": {
        "id": "mCIQqerTkM_-"
      },
      "outputs": [],
      "source": [
        "res1 = result1[\"text\"]\n",
        "res2 = result2[\"text\"]"
      ]
    },
    {
      "cell_type": "code",
      "execution_count": null,
      "metadata": {
        "id": "yyBMOB98kkre"
      },
      "outputs": [],
      "source": [
        "highlight_differences(res1, res2)"
      ]
    },
    {
      "cell_type": "code",
      "execution_count": null,
      "metadata": {
        "id": "pQY9HVvGlACB"
      },
      "outputs": [],
      "source": [
        "res1"
      ]
    },
    {
      "cell_type": "code",
      "execution_count": null,
      "metadata": {
        "id": "cEV82ONGlBlI"
      },
      "outputs": [],
      "source": [
        "res2"
      ]
    },
    {
      "cell_type": "code",
      "execution_count": null,
      "metadata": {
        "id": "P9tQrhW2ZyJE"
      },
      "outputs": [],
      "source": [
        "!pip uninstall -q pytube\n",
        "!pip install -q pytube==15.0.0"
      ]
    },
    {
      "cell_type": "code",
      "execution_count": null,
      "metadata": {
        "id": "bk6mvweslIkV"
      },
      "outputs": [],
      "source": [
        "eng_arabic_url = \"https://www.youtube.com/watch?v=X1mC1XY65Kc&ab_channel=LearnArabicwithKhasu\""
      ]
    },
    {
      "cell_type": "code",
      "execution_count": null,
      "metadata": {
        "id": "CMYIu4lZlmSN"
      },
      "outputs": [],
      "source": [
        "import pytube as pt\n",
        "yt = pt.YouTube(eng_arabic_url)\n",
        "streams = yt.video_id\n",
        "print(yt.streaming_data)\n",
        "# stream = yt.streams.filter(only_audio=True)\n",
        "# stream[0].download(filename=\"mixed.mp3\")"
      ]
    },
    {
      "cell_type": "code",
      "execution_count": null,
      "metadata": {
        "id": "6k1tW0k5lvQk"
      },
      "outputs": [],
      "source": [
        "%%time\n",
        "mixed = small_model.transcribe(\"mixed.mp3\")"
      ]
    },
    {
      "cell_type": "code",
      "execution_count": null,
      "metadata": {
        "id": "tgWEL4E3l55v"
      },
      "outputs": [],
      "source": [
        "export_text_to_file(mixed['text'], \"mixed.txt\")"
      ]
    },
    {
      "cell_type": "code",
      "execution_count": null,
      "metadata": {
        "id": "Y0U42Bo4IbiN"
      },
      "outputs": [],
      "source": [
        "!pip install -q yt_dlp pydub librosa langchain"
      ]
    },
    {
      "cell_type": "code",
      "execution_count": null,
      "metadata": {
        "id": "ANcn4v0qIhSj"
      },
      "outputs": [],
      "source": [
        "from langchain.document_loaders.generic import GenericLoader\n",
        "# from langchain.document_loaders.parsers import OpenAIWhisperParser\n",
        "from langchain.document_loaders.blob_loaders.youtube_audio import YoutubeAudioLoader"
      ]
    },
    {
      "cell_type": "code",
      "execution_count": null,
      "metadata": {
        "id": "Sq0igokaI5B0"
      },
      "outputs": [],
      "source": [
        "%%time\n",
        "lp2_url = \"https://www.youtube.com/watch?v=EXALI6jFu6E\"\n",
        "\n",
        "ytloader = YoutubeAudioLoader([lp2_url], './')"
      ]
    },
    {
      "cell_type": "code",
      "execution_count": null,
      "metadata": {
        "id": "EWCx4BBkJzEt"
      },
      "outputs": [],
      "source": [
        "ytloader.save_dir"
      ]
    },
    {
      "cell_type": "code",
      "execution_count": null,
      "metadata": {
        "id": "9OWlibFOJCKy"
      },
      "outputs": [],
      "source": [
        "!pip install -q pytube\n",
        "import pytube as pt\n",
        "yt = pt.YouTube(lp2_url)\n",
        "# stream = yt.streams.filter(only_audio=True)\n",
        "# stream[0].download(filename=\"audio2.mp3\")"
      ]
    },
    {
      "cell_type": "code",
      "execution_count": null,
      "metadata": {
        "id": "EFznpTJvKF6m"
      },
      "outputs": [],
      "source": [
        "!pip install -q -U tube_dl\n",
        "from tube_dl import Youtube\n",
        "Youtube(lp2_url).formats.filter(only_audio=True)[0].download(convert='mp3')"
      ]
    },
    {
      "cell_type": "code",
      "execution_count": null,
      "metadata": {
        "id": "8hf36PXnKCUE"
      },
      "outputs": [],
      "source": [
        "%%time\n",
        "lp2_url = \"https://www.youtube.com/watch?v=EXALI6jFu6E\"\n",
        "Youtube(lp2_url).formats.filter(only_audio=True)[0].download(convert='mp3')"
      ]
    },
    {
      "cell_type": "code",
      "execution_count": null,
      "metadata": {
        "id": "M9ltVMeuOlP-"
      },
      "outputs": [],
      "source": [
        "!pip install -q langchain==0.0.304 yt_dlp transformers torch pydub librosa\n",
        "from langchain.document_loaders.generic import GenericLoader\n",
        "from langchain.document_loaders.parsers.audio import OpenAIWhisperParserLocal\n",
        "from langchain.document_loaders.blob_loaders.youtube_audio import YoutubeAudioLoader"
      ]
    },
    {
      "cell_type": "code",
      "execution_count": null,
      "metadata": {
        "id": "X82NC2oen5LQ"
      },
      "outputs": [],
      "source": [
        "from transformers import WhisperProcessor\n",
        "processor = WhisperProcessor.from_pretrained(\"openai/whisper-medium\")"
      ]
    },
    {
      "cell_type": "code",
      "execution_count": null,
      "metadata": {
        "id": "hLLR_mAgmGYm"
      },
      "outputs": [],
      "source": [
        "english_ids = processor.get_decoder_prompt_ids(language=\"english\",task=\"transcribe\")\n",
        "arabic_ids = processor.get_decoder_prompt_ids(language=\"arabic\",task=\"transcribe\")"
      ]
    },
    {
      "cell_type": "code",
      "execution_count": null,
      "metadata": {
        "id": "9MYSfZJulp9Y"
      },
      "outputs": [],
      "source": [
        "enAudioParse = OpenAIWhisperParserLocal(lang_model=\"openai/whisper-medium\", forced_decoder_ids=english_ids)\n",
        "arAudioParse = OpenAIWhisperParserLocal(lang_model=\"openai/whisper-medium\", forced_decoder_ids=arabic_ids)"
      ]
    },
    {
      "cell_type": "code",
      "execution_count": null,
      "metadata": {
        "id": "8L8bWZxVn93_"
      },
      "outputs": [],
      "source": [
        "enAudioParse"
      ]
    },
    {
      "cell_type": "code",
      "execution_count": null,
      "metadata": {
        "id": "o4faTFbntsIR"
      },
      "outputs": [],
      "source": [
        "arAudioParse"
      ]
    },
    {
      "cell_type": "markdown",
      "metadata": {
        "id": "IUJ7Qcx8l3vu"
      },
      "source": []
    },
    {
      "cell_type": "code",
      "execution_count": null,
      "metadata": {
        "id": "3DemnVVGPKpw"
      },
      "outputs": [],
      "source": [
        "urls = [\"https://www.youtube.com/watch?v=BqsDOFcr1SU&ab_channel=AlHadyAlNabawy\"]\n",
        "audioLoader = YoutubeAudioLoader(urls, \"./\")"
      ]
    },
    {
      "cell_type": "code",
      "execution_count": null,
      "metadata": {
        "id": "s2Fvkw1vPefF"
      },
      "outputs": [],
      "source": [
        "enLoader = GenericLoader(audioLoader, enAudioParse)"
      ]
    },
    {
      "cell_type": "code",
      "execution_count": null,
      "metadata": {
        "id": "Tvr_S4tqPslW"
      },
      "outputs": [],
      "source": [
        "docs = enLoader.load()"
      ]
    },
    {
      "cell_type": "code",
      "execution_count": null,
      "metadata": {
        "id": "blw4TZYIvv-J"
      },
      "outputs": [],
      "source": [
        "def write_file(text, filename):\n",
        "    with open(filename, \"w\") as f:\n",
        "        f.write(text)"
      ]
    },
    {
      "cell_type": "code",
      "execution_count": null,
      "metadata": {
        "id": "6tgNZkOtwYXY"
      },
      "outputs": [],
      "source": [
        "write_file(docs[0].page_content,\"LP4en.txt\")"
      ]
    },
    {
      "cell_type": "code",
      "execution_count": null,
      "metadata": {
        "id": "MUEQGfCVt3rO"
      },
      "outputs": [],
      "source": [
        "arLoader = GenericLoader(audioLoader, arAudioParse)"
      ]
    },
    {
      "cell_type": "code",
      "execution_count": null,
      "metadata": {
        "id": "MeHCNKifuJgy"
      },
      "outputs": [],
      "source": [
        "arDocs = arLoader.load()"
      ]
    },
    {
      "cell_type": "code",
      "execution_count": null,
      "metadata": {
        "id": "UVXNzbzFwi81"
      },
      "outputs": [],
      "source": [
        "arDocs[0].page_content"
      ]
    },
    {
      "cell_type": "code",
      "execution_count": null,
      "metadata": {
        "id": "50gByssKUli1"
      },
      "outputs": [],
      "source": [
        "!huggingface-cli login"
      ]
    },
    {
      "cell_type": "code",
      "execution_count": null,
      "metadata": {
        "id": "TzRZQ9thUVsB"
      },
      "outputs": [],
      "source": [
        "!pip install -qqq transformers\n",
        "# Load model directly\n",
        "from transformers import AutoTokenizer, AutoModelForCausalLM\n",
        "\n",
        "tokenizer = AutoTokenizer.from_pretrained(\"meta-llama/Llama-2-7b-chat-hf\")\n",
        "model = AutoModelForCausalLM.from_pretrained(\"meta-llama/Llama-2-7b-chat-hf\")"
      ]
    }
  ],
  "metadata": {
    "accelerator": "GPU",
    "colab": {
      "provenance": [],
      "gpuType": "T4",
      "authorship_tag": "ABX9TyP8MUG+b7J5mmFrVAdpn/Kf",
      "include_colab_link": true
    },
    "kernelspec": {
      "display_name": "Python 3",
      "name": "python3"
    },
    "language_info": {
      "name": "python"
    },
    "widgets": {
      "application/vnd.jupyter.widget-state+json": {
        "d73cf3c191514ba191dbdff8380a81d3": {
          "model_module": "@jupyter-widgets/controls",
          "model_name": "HBoxModel",
          "model_module_version": "1.5.0",
          "state": {
            "_dom_classes": [],
            "_model_module": "@jupyter-widgets/controls",
            "_model_module_version": "1.5.0",
            "_model_name": "HBoxModel",
            "_view_count": null,
            "_view_module": "@jupyter-widgets/controls",
            "_view_module_version": "1.5.0",
            "_view_name": "HBoxView",
            "box_style": "",
            "children": [
              "IPY_MODEL_13e77357e87b46e682339f3d6be6c069",
              "IPY_MODEL_8f79e4836fde4e9f8f8cc07ed506e616",
              "IPY_MODEL_ec7076983ad04e08bf2011177f93402b"
            ],
            "layout": "IPY_MODEL_06370f23f01344ed92c1dbe62389de20"
          }
        },
        "13e77357e87b46e682339f3d6be6c069": {
          "model_module": "@jupyter-widgets/controls",
          "model_name": "HTMLModel",
          "model_module_version": "1.5.0",
          "state": {
            "_dom_classes": [],
            "_model_module": "@jupyter-widgets/controls",
            "_model_module_version": "1.5.0",
            "_model_name": "HTMLModel",
            "_view_count": null,
            "_view_module": "@jupyter-widgets/controls",
            "_view_module_version": "1.5.0",
            "_view_name": "HTMLView",
            "description": "",
            "description_tooltip": null,
            "layout": "IPY_MODEL_76b6e15aecdf4311a8233f87b4472247",
            "placeholder": "​",
            "style": "IPY_MODEL_fdc3b96e4c0d4f14bac4a8e7adfb9ac1",
            "value": "config.json: 100%"
          }
        },
        "8f79e4836fde4e9f8f8cc07ed506e616": {
          "model_module": "@jupyter-widgets/controls",
          "model_name": "FloatProgressModel",
          "model_module_version": "1.5.0",
          "state": {
            "_dom_classes": [],
            "_model_module": "@jupyter-widgets/controls",
            "_model_module_version": "1.5.0",
            "_model_name": "FloatProgressModel",
            "_view_count": null,
            "_view_module": "@jupyter-widgets/controls",
            "_view_module_version": "1.5.0",
            "_view_name": "ProgressView",
            "bar_style": "success",
            "description": "",
            "description_tooltip": null,
            "layout": "IPY_MODEL_5728e454ff79428d8482488538ccc693",
            "max": 2289,
            "min": 0,
            "orientation": "horizontal",
            "style": "IPY_MODEL_b551bb2707714e9c9ba9c807d34febef",
            "value": 2289
          }
        },
        "ec7076983ad04e08bf2011177f93402b": {
          "model_module": "@jupyter-widgets/controls",
          "model_name": "HTMLModel",
          "model_module_version": "1.5.0",
          "state": {
            "_dom_classes": [],
            "_model_module": "@jupyter-widgets/controls",
            "_model_module_version": "1.5.0",
            "_model_name": "HTMLModel",
            "_view_count": null,
            "_view_module": "@jupyter-widgets/controls",
            "_view_module_version": "1.5.0",
            "_view_name": "HTMLView",
            "description": "",
            "description_tooltip": null,
            "layout": "IPY_MODEL_c317c9cda8c24821b0e8048415435738",
            "placeholder": "​",
            "style": "IPY_MODEL_617a9fa2e7a24c7681a4e78bd9865ab3",
            "value": " 2.29k/2.29k [00:00&lt;00:00, 49.0kB/s]"
          }
        },
        "06370f23f01344ed92c1dbe62389de20": {
          "model_module": "@jupyter-widgets/base",
          "model_name": "LayoutModel",
          "model_module_version": "1.2.0",
          "state": {
            "_model_module": "@jupyter-widgets/base",
            "_model_module_version": "1.2.0",
            "_model_name": "LayoutModel",
            "_view_count": null,
            "_view_module": "@jupyter-widgets/base",
            "_view_module_version": "1.2.0",
            "_view_name": "LayoutView",
            "align_content": null,
            "align_items": null,
            "align_self": null,
            "border": null,
            "bottom": null,
            "display": null,
            "flex": null,
            "flex_flow": null,
            "grid_area": null,
            "grid_auto_columns": null,
            "grid_auto_flow": null,
            "grid_auto_rows": null,
            "grid_column": null,
            "grid_gap": null,
            "grid_row": null,
            "grid_template_areas": null,
            "grid_template_columns": null,
            "grid_template_rows": null,
            "height": null,
            "justify_content": null,
            "justify_items": null,
            "left": null,
            "margin": null,
            "max_height": null,
            "max_width": null,
            "min_height": null,
            "min_width": null,
            "object_fit": null,
            "object_position": null,
            "order": null,
            "overflow": null,
            "overflow_x": null,
            "overflow_y": null,
            "padding": null,
            "right": null,
            "top": null,
            "visibility": null,
            "width": null
          }
        },
        "76b6e15aecdf4311a8233f87b4472247": {
          "model_module": "@jupyter-widgets/base",
          "model_name": "LayoutModel",
          "model_module_version": "1.2.0",
          "state": {
            "_model_module": "@jupyter-widgets/base",
            "_model_module_version": "1.2.0",
            "_model_name": "LayoutModel",
            "_view_count": null,
            "_view_module": "@jupyter-widgets/base",
            "_view_module_version": "1.2.0",
            "_view_name": "LayoutView",
            "align_content": null,
            "align_items": null,
            "align_self": null,
            "border": null,
            "bottom": null,
            "display": null,
            "flex": null,
            "flex_flow": null,
            "grid_area": null,
            "grid_auto_columns": null,
            "grid_auto_flow": null,
            "grid_auto_rows": null,
            "grid_column": null,
            "grid_gap": null,
            "grid_row": null,
            "grid_template_areas": null,
            "grid_template_columns": null,
            "grid_template_rows": null,
            "height": null,
            "justify_content": null,
            "justify_items": null,
            "left": null,
            "margin": null,
            "max_height": null,
            "max_width": null,
            "min_height": null,
            "min_width": null,
            "object_fit": null,
            "object_position": null,
            "order": null,
            "overflow": null,
            "overflow_x": null,
            "overflow_y": null,
            "padding": null,
            "right": null,
            "top": null,
            "visibility": null,
            "width": null
          }
        },
        "fdc3b96e4c0d4f14bac4a8e7adfb9ac1": {
          "model_module": "@jupyter-widgets/controls",
          "model_name": "DescriptionStyleModel",
          "model_module_version": "1.5.0",
          "state": {
            "_model_module": "@jupyter-widgets/controls",
            "_model_module_version": "1.5.0",
            "_model_name": "DescriptionStyleModel",
            "_view_count": null,
            "_view_module": "@jupyter-widgets/base",
            "_view_module_version": "1.2.0",
            "_view_name": "StyleView",
            "description_width": ""
          }
        },
        "5728e454ff79428d8482488538ccc693": {
          "model_module": "@jupyter-widgets/base",
          "model_name": "LayoutModel",
          "model_module_version": "1.2.0",
          "state": {
            "_model_module": "@jupyter-widgets/base",
            "_model_module_version": "1.2.0",
            "_model_name": "LayoutModel",
            "_view_count": null,
            "_view_module": "@jupyter-widgets/base",
            "_view_module_version": "1.2.0",
            "_view_name": "LayoutView",
            "align_content": null,
            "align_items": null,
            "align_self": null,
            "border": null,
            "bottom": null,
            "display": null,
            "flex": null,
            "flex_flow": null,
            "grid_area": null,
            "grid_auto_columns": null,
            "grid_auto_flow": null,
            "grid_auto_rows": null,
            "grid_column": null,
            "grid_gap": null,
            "grid_row": null,
            "grid_template_areas": null,
            "grid_template_columns": null,
            "grid_template_rows": null,
            "height": null,
            "justify_content": null,
            "justify_items": null,
            "left": null,
            "margin": null,
            "max_height": null,
            "max_width": null,
            "min_height": null,
            "min_width": null,
            "object_fit": null,
            "object_position": null,
            "order": null,
            "overflow": null,
            "overflow_x": null,
            "overflow_y": null,
            "padding": null,
            "right": null,
            "top": null,
            "visibility": null,
            "width": null
          }
        },
        "b551bb2707714e9c9ba9c807d34febef": {
          "model_module": "@jupyter-widgets/controls",
          "model_name": "ProgressStyleModel",
          "model_module_version": "1.5.0",
          "state": {
            "_model_module": "@jupyter-widgets/controls",
            "_model_module_version": "1.5.0",
            "_model_name": "ProgressStyleModel",
            "_view_count": null,
            "_view_module": "@jupyter-widgets/base",
            "_view_module_version": "1.2.0",
            "_view_name": "StyleView",
            "bar_color": null,
            "description_width": ""
          }
        },
        "c317c9cda8c24821b0e8048415435738": {
          "model_module": "@jupyter-widgets/base",
          "model_name": "LayoutModel",
          "model_module_version": "1.2.0",
          "state": {
            "_model_module": "@jupyter-widgets/base",
            "_model_module_version": "1.2.0",
            "_model_name": "LayoutModel",
            "_view_count": null,
            "_view_module": "@jupyter-widgets/base",
            "_view_module_version": "1.2.0",
            "_view_name": "LayoutView",
            "align_content": null,
            "align_items": null,
            "align_self": null,
            "border": null,
            "bottom": null,
            "display": null,
            "flex": null,
            "flex_flow": null,
            "grid_area": null,
            "grid_auto_columns": null,
            "grid_auto_flow": null,
            "grid_auto_rows": null,
            "grid_column": null,
            "grid_gap": null,
            "grid_row": null,
            "grid_template_areas": null,
            "grid_template_columns": null,
            "grid_template_rows": null,
            "height": null,
            "justify_content": null,
            "justify_items": null,
            "left": null,
            "margin": null,
            "max_height": null,
            "max_width": null,
            "min_height": null,
            "min_width": null,
            "object_fit": null,
            "object_position": null,
            "order": null,
            "overflow": null,
            "overflow_x": null,
            "overflow_y": null,
            "padding": null,
            "right": null,
            "top": null,
            "visibility": null,
            "width": null
          }
        },
        "617a9fa2e7a24c7681a4e78bd9865ab3": {
          "model_module": "@jupyter-widgets/controls",
          "model_name": "DescriptionStyleModel",
          "model_module_version": "1.5.0",
          "state": {
            "_model_module": "@jupyter-widgets/controls",
            "_model_module_version": "1.5.0",
            "_model_name": "DescriptionStyleModel",
            "_view_count": null,
            "_view_module": "@jupyter-widgets/base",
            "_view_module_version": "1.2.0",
            "_view_name": "StyleView",
            "description_width": ""
          }
        },
        "646988c094ae43c5b330ca2d33cb9b2b": {
          "model_module": "@jupyter-widgets/controls",
          "model_name": "HBoxModel",
          "model_module_version": "1.5.0",
          "state": {
            "_dom_classes": [],
            "_model_module": "@jupyter-widgets/controls",
            "_model_module_version": "1.5.0",
            "_model_name": "HBoxModel",
            "_view_count": null,
            "_view_module": "@jupyter-widgets/controls",
            "_view_module_version": "1.5.0",
            "_view_name": "HBoxView",
            "box_style": "",
            "children": [
              "IPY_MODEL_7a8304b56da04350b4d61c22a74fedc6",
              "IPY_MODEL_dbbed3314d2040a2bce5e640b8f3a73b",
              "IPY_MODEL_574be62de7624c3081892e55678c1e72"
            ],
            "layout": "IPY_MODEL_e2e9229e3eed40209ac50d025e027fd3"
          }
        },
        "7a8304b56da04350b4d61c22a74fedc6": {
          "model_module": "@jupyter-widgets/controls",
          "model_name": "HTMLModel",
          "model_module_version": "1.5.0",
          "state": {
            "_dom_classes": [],
            "_model_module": "@jupyter-widgets/controls",
            "_model_module_version": "1.5.0",
            "_model_name": "HTMLModel",
            "_view_count": null,
            "_view_module": "@jupyter-widgets/controls",
            "_view_module_version": "1.5.0",
            "_view_name": "HTMLView",
            "description": "",
            "description_tooltip": null,
            "layout": "IPY_MODEL_fe3891311b034e1dbef5f8163af4d005",
            "placeholder": "​",
            "style": "IPY_MODEL_508365c9af8b409e96f401fc273153b0",
            "value": "model.safetensors: 100%"
          }
        },
        "dbbed3314d2040a2bce5e640b8f3a73b": {
          "model_module": "@jupyter-widgets/controls",
          "model_name": "FloatProgressModel",
          "model_module_version": "1.5.0",
          "state": {
            "_dom_classes": [],
            "_model_module": "@jupyter-widgets/controls",
            "_model_module_version": "1.5.0",
            "_model_name": "FloatProgressModel",
            "_view_count": null,
            "_view_module": "@jupyter-widgets/controls",
            "_view_module_version": "1.5.0",
            "_view_name": "ProgressView",
            "bar_style": "success",
            "description": "",
            "description_tooltip": null,
            "layout": "IPY_MODEL_ab3d7728c77f482187f9956e45c7ff69",
            "max": 1512503272,
            "min": 0,
            "orientation": "horizontal",
            "style": "IPY_MODEL_d139e48e86f448b893aa6549d1a6cdd3",
            "value": 1512503272
          }
        },
        "574be62de7624c3081892e55678c1e72": {
          "model_module": "@jupyter-widgets/controls",
          "model_name": "HTMLModel",
          "model_module_version": "1.5.0",
          "state": {
            "_dom_classes": [],
            "_model_module": "@jupyter-widgets/controls",
            "_model_module_version": "1.5.0",
            "_model_name": "HTMLModel",
            "_view_count": null,
            "_view_module": "@jupyter-widgets/controls",
            "_view_module_version": "1.5.0",
            "_view_name": "HTMLView",
            "description": "",
            "description_tooltip": null,
            "layout": "IPY_MODEL_ccee684a92d64583b9a69561b38fc961",
            "placeholder": "​",
            "style": "IPY_MODEL_e30a1e2d35ae4984b7ed0f8532f680f0",
            "value": " 1.51G/1.51G [00:16&lt;00:00, 43.5MB/s]"
          }
        },
        "e2e9229e3eed40209ac50d025e027fd3": {
          "model_module": "@jupyter-widgets/base",
          "model_name": "LayoutModel",
          "model_module_version": "1.2.0",
          "state": {
            "_model_module": "@jupyter-widgets/base",
            "_model_module_version": "1.2.0",
            "_model_name": "LayoutModel",
            "_view_count": null,
            "_view_module": "@jupyter-widgets/base",
            "_view_module_version": "1.2.0",
            "_view_name": "LayoutView",
            "align_content": null,
            "align_items": null,
            "align_self": null,
            "border": null,
            "bottom": null,
            "display": null,
            "flex": null,
            "flex_flow": null,
            "grid_area": null,
            "grid_auto_columns": null,
            "grid_auto_flow": null,
            "grid_auto_rows": null,
            "grid_column": null,
            "grid_gap": null,
            "grid_row": null,
            "grid_template_areas": null,
            "grid_template_columns": null,
            "grid_template_rows": null,
            "height": null,
            "justify_content": null,
            "justify_items": null,
            "left": null,
            "margin": null,
            "max_height": null,
            "max_width": null,
            "min_height": null,
            "min_width": null,
            "object_fit": null,
            "object_position": null,
            "order": null,
            "overflow": null,
            "overflow_x": null,
            "overflow_y": null,
            "padding": null,
            "right": null,
            "top": null,
            "visibility": null,
            "width": null
          }
        },
        "fe3891311b034e1dbef5f8163af4d005": {
          "model_module": "@jupyter-widgets/base",
          "model_name": "LayoutModel",
          "model_module_version": "1.2.0",
          "state": {
            "_model_module": "@jupyter-widgets/base",
            "_model_module_version": "1.2.0",
            "_model_name": "LayoutModel",
            "_view_count": null,
            "_view_module": "@jupyter-widgets/base",
            "_view_module_version": "1.2.0",
            "_view_name": "LayoutView",
            "align_content": null,
            "align_items": null,
            "align_self": null,
            "border": null,
            "bottom": null,
            "display": null,
            "flex": null,
            "flex_flow": null,
            "grid_area": null,
            "grid_auto_columns": null,
            "grid_auto_flow": null,
            "grid_auto_rows": null,
            "grid_column": null,
            "grid_gap": null,
            "grid_row": null,
            "grid_template_areas": null,
            "grid_template_columns": null,
            "grid_template_rows": null,
            "height": null,
            "justify_content": null,
            "justify_items": null,
            "left": null,
            "margin": null,
            "max_height": null,
            "max_width": null,
            "min_height": null,
            "min_width": null,
            "object_fit": null,
            "object_position": null,
            "order": null,
            "overflow": null,
            "overflow_x": null,
            "overflow_y": null,
            "padding": null,
            "right": null,
            "top": null,
            "visibility": null,
            "width": null
          }
        },
        "508365c9af8b409e96f401fc273153b0": {
          "model_module": "@jupyter-widgets/controls",
          "model_name": "DescriptionStyleModel",
          "model_module_version": "1.5.0",
          "state": {
            "_model_module": "@jupyter-widgets/controls",
            "_model_module_version": "1.5.0",
            "_model_name": "DescriptionStyleModel",
            "_view_count": null,
            "_view_module": "@jupyter-widgets/base",
            "_view_module_version": "1.2.0",
            "_view_name": "StyleView",
            "description_width": ""
          }
        },
        "ab3d7728c77f482187f9956e45c7ff69": {
          "model_module": "@jupyter-widgets/base",
          "model_name": "LayoutModel",
          "model_module_version": "1.2.0",
          "state": {
            "_model_module": "@jupyter-widgets/base",
            "_model_module_version": "1.2.0",
            "_model_name": "LayoutModel",
            "_view_count": null,
            "_view_module": "@jupyter-widgets/base",
            "_view_module_version": "1.2.0",
            "_view_name": "LayoutView",
            "align_content": null,
            "align_items": null,
            "align_self": null,
            "border": null,
            "bottom": null,
            "display": null,
            "flex": null,
            "flex_flow": null,
            "grid_area": null,
            "grid_auto_columns": null,
            "grid_auto_flow": null,
            "grid_auto_rows": null,
            "grid_column": null,
            "grid_gap": null,
            "grid_row": null,
            "grid_template_areas": null,
            "grid_template_columns": null,
            "grid_template_rows": null,
            "height": null,
            "justify_content": null,
            "justify_items": null,
            "left": null,
            "margin": null,
            "max_height": null,
            "max_width": null,
            "min_height": null,
            "min_width": null,
            "object_fit": null,
            "object_position": null,
            "order": null,
            "overflow": null,
            "overflow_x": null,
            "overflow_y": null,
            "padding": null,
            "right": null,
            "top": null,
            "visibility": null,
            "width": null
          }
        },
        "d139e48e86f448b893aa6549d1a6cdd3": {
          "model_module": "@jupyter-widgets/controls",
          "model_name": "ProgressStyleModel",
          "model_module_version": "1.5.0",
          "state": {
            "_model_module": "@jupyter-widgets/controls",
            "_model_module_version": "1.5.0",
            "_model_name": "ProgressStyleModel",
            "_view_count": null,
            "_view_module": "@jupyter-widgets/base",
            "_view_module_version": "1.2.0",
            "_view_name": "StyleView",
            "bar_color": null,
            "description_width": ""
          }
        },
        "ccee684a92d64583b9a69561b38fc961": {
          "model_module": "@jupyter-widgets/base",
          "model_name": "LayoutModel",
          "model_module_version": "1.2.0",
          "state": {
            "_model_module": "@jupyter-widgets/base",
            "_model_module_version": "1.2.0",
            "_model_name": "LayoutModel",
            "_view_count": null,
            "_view_module": "@jupyter-widgets/base",
            "_view_module_version": "1.2.0",
            "_view_name": "LayoutView",
            "align_content": null,
            "align_items": null,
            "align_self": null,
            "border": null,
            "bottom": null,
            "display": null,
            "flex": null,
            "flex_flow": null,
            "grid_area": null,
            "grid_auto_columns": null,
            "grid_auto_flow": null,
            "grid_auto_rows": null,
            "grid_column": null,
            "grid_gap": null,
            "grid_row": null,
            "grid_template_areas": null,
            "grid_template_columns": null,
            "grid_template_rows": null,
            "height": null,
            "justify_content": null,
            "justify_items": null,
            "left": null,
            "margin": null,
            "max_height": null,
            "max_width": null,
            "min_height": null,
            "min_width": null,
            "object_fit": null,
            "object_position": null,
            "order": null,
            "overflow": null,
            "overflow_x": null,
            "overflow_y": null,
            "padding": null,
            "right": null,
            "top": null,
            "visibility": null,
            "width": null
          }
        },
        "e30a1e2d35ae4984b7ed0f8532f680f0": {
          "model_module": "@jupyter-widgets/controls",
          "model_name": "DescriptionStyleModel",
          "model_module_version": "1.5.0",
          "state": {
            "_model_module": "@jupyter-widgets/controls",
            "_model_module_version": "1.5.0",
            "_model_name": "DescriptionStyleModel",
            "_view_count": null,
            "_view_module": "@jupyter-widgets/base",
            "_view_module_version": "1.2.0",
            "_view_name": "StyleView",
            "description_width": ""
          }
        },
        "999e5bfaf28f4387b6de1303ad845075": {
          "model_module": "@jupyter-widgets/controls",
          "model_name": "HBoxModel",
          "model_module_version": "1.5.0",
          "state": {
            "_dom_classes": [],
            "_model_module": "@jupyter-widgets/controls",
            "_model_module_version": "1.5.0",
            "_model_name": "HBoxModel",
            "_view_count": null,
            "_view_module": "@jupyter-widgets/controls",
            "_view_module_version": "1.5.0",
            "_view_name": "HBoxView",
            "box_style": "",
            "children": [
              "IPY_MODEL_c550983005c0421bbaafd333c7b87d08",
              "IPY_MODEL_a8e092af4baf4f9687b26d5288be167a",
              "IPY_MODEL_8810de9d26c140bbb66f9eddad818223"
            ],
            "layout": "IPY_MODEL_e7a27ee0a88e4e44bd90f890815ad808"
          }
        },
        "c550983005c0421bbaafd333c7b87d08": {
          "model_module": "@jupyter-widgets/controls",
          "model_name": "HTMLModel",
          "model_module_version": "1.5.0",
          "state": {
            "_dom_classes": [],
            "_model_module": "@jupyter-widgets/controls",
            "_model_module_version": "1.5.0",
            "_model_name": "HTMLModel",
            "_view_count": null,
            "_view_module": "@jupyter-widgets/controls",
            "_view_module_version": "1.5.0",
            "_view_name": "HTMLView",
            "description": "",
            "description_tooltip": null,
            "layout": "IPY_MODEL_ab7bb38216104ef3a06d748bc40a2728",
            "placeholder": "​",
            "style": "IPY_MODEL_9d7df233471746b9bd1febe7f6a13a2d",
            "value": "generation_config.json: 100%"
          }
        },
        "a8e092af4baf4f9687b26d5288be167a": {
          "model_module": "@jupyter-widgets/controls",
          "model_name": "FloatProgressModel",
          "model_module_version": "1.5.0",
          "state": {
            "_dom_classes": [],
            "_model_module": "@jupyter-widgets/controls",
            "_model_module_version": "1.5.0",
            "_model_name": "FloatProgressModel",
            "_view_count": null,
            "_view_module": "@jupyter-widgets/controls",
            "_view_module_version": "1.5.0",
            "_view_name": "ProgressView",
            "bar_style": "success",
            "description": "",
            "description_tooltip": null,
            "layout": "IPY_MODEL_7c0bab43c3ff4e26bbd189d743b661e0",
            "max": 3591,
            "min": 0,
            "orientation": "horizontal",
            "style": "IPY_MODEL_e67e39dd182b454ba3d9a59725343f12",
            "value": 3591
          }
        },
        "8810de9d26c140bbb66f9eddad818223": {
          "model_module": "@jupyter-widgets/controls",
          "model_name": "HTMLModel",
          "model_module_version": "1.5.0",
          "state": {
            "_dom_classes": [],
            "_model_module": "@jupyter-widgets/controls",
            "_model_module_version": "1.5.0",
            "_model_name": "HTMLModel",
            "_view_count": null,
            "_view_module": "@jupyter-widgets/controls",
            "_view_module_version": "1.5.0",
            "_view_name": "HTMLView",
            "description": "",
            "description_tooltip": null,
            "layout": "IPY_MODEL_cd5ea46f21834e94b2c1807185c54975",
            "placeholder": "​",
            "style": "IPY_MODEL_ceb1b6a630e5467dbc1352c2e7c1b239",
            "value": " 3.59k/3.59k [00:00&lt;00:00, 61.6kB/s]"
          }
        },
        "e7a27ee0a88e4e44bd90f890815ad808": {
          "model_module": "@jupyter-widgets/base",
          "model_name": "LayoutModel",
          "model_module_version": "1.2.0",
          "state": {
            "_model_module": "@jupyter-widgets/base",
            "_model_module_version": "1.2.0",
            "_model_name": "LayoutModel",
            "_view_count": null,
            "_view_module": "@jupyter-widgets/base",
            "_view_module_version": "1.2.0",
            "_view_name": "LayoutView",
            "align_content": null,
            "align_items": null,
            "align_self": null,
            "border": null,
            "bottom": null,
            "display": null,
            "flex": null,
            "flex_flow": null,
            "grid_area": null,
            "grid_auto_columns": null,
            "grid_auto_flow": null,
            "grid_auto_rows": null,
            "grid_column": null,
            "grid_gap": null,
            "grid_row": null,
            "grid_template_areas": null,
            "grid_template_columns": null,
            "grid_template_rows": null,
            "height": null,
            "justify_content": null,
            "justify_items": null,
            "left": null,
            "margin": null,
            "max_height": null,
            "max_width": null,
            "min_height": null,
            "min_width": null,
            "object_fit": null,
            "object_position": null,
            "order": null,
            "overflow": null,
            "overflow_x": null,
            "overflow_y": null,
            "padding": null,
            "right": null,
            "top": null,
            "visibility": null,
            "width": null
          }
        },
        "ab7bb38216104ef3a06d748bc40a2728": {
          "model_module": "@jupyter-widgets/base",
          "model_name": "LayoutModel",
          "model_module_version": "1.2.0",
          "state": {
            "_model_module": "@jupyter-widgets/base",
            "_model_module_version": "1.2.0",
            "_model_name": "LayoutModel",
            "_view_count": null,
            "_view_module": "@jupyter-widgets/base",
            "_view_module_version": "1.2.0",
            "_view_name": "LayoutView",
            "align_content": null,
            "align_items": null,
            "align_self": null,
            "border": null,
            "bottom": null,
            "display": null,
            "flex": null,
            "flex_flow": null,
            "grid_area": null,
            "grid_auto_columns": null,
            "grid_auto_flow": null,
            "grid_auto_rows": null,
            "grid_column": null,
            "grid_gap": null,
            "grid_row": null,
            "grid_template_areas": null,
            "grid_template_columns": null,
            "grid_template_rows": null,
            "height": null,
            "justify_content": null,
            "justify_items": null,
            "left": null,
            "margin": null,
            "max_height": null,
            "max_width": null,
            "min_height": null,
            "min_width": null,
            "object_fit": null,
            "object_position": null,
            "order": null,
            "overflow": null,
            "overflow_x": null,
            "overflow_y": null,
            "padding": null,
            "right": null,
            "top": null,
            "visibility": null,
            "width": null
          }
        },
        "9d7df233471746b9bd1febe7f6a13a2d": {
          "model_module": "@jupyter-widgets/controls",
          "model_name": "DescriptionStyleModel",
          "model_module_version": "1.5.0",
          "state": {
            "_model_module": "@jupyter-widgets/controls",
            "_model_module_version": "1.5.0",
            "_model_name": "DescriptionStyleModel",
            "_view_count": null,
            "_view_module": "@jupyter-widgets/base",
            "_view_module_version": "1.2.0",
            "_view_name": "StyleView",
            "description_width": ""
          }
        },
        "7c0bab43c3ff4e26bbd189d743b661e0": {
          "model_module": "@jupyter-widgets/base",
          "model_name": "LayoutModel",
          "model_module_version": "1.2.0",
          "state": {
            "_model_module": "@jupyter-widgets/base",
            "_model_module_version": "1.2.0",
            "_model_name": "LayoutModel",
            "_view_count": null,
            "_view_module": "@jupyter-widgets/base",
            "_view_module_version": "1.2.0",
            "_view_name": "LayoutView",
            "align_content": null,
            "align_items": null,
            "align_self": null,
            "border": null,
            "bottom": null,
            "display": null,
            "flex": null,
            "flex_flow": null,
            "grid_area": null,
            "grid_auto_columns": null,
            "grid_auto_flow": null,
            "grid_auto_rows": null,
            "grid_column": null,
            "grid_gap": null,
            "grid_row": null,
            "grid_template_areas": null,
            "grid_template_columns": null,
            "grid_template_rows": null,
            "height": null,
            "justify_content": null,
            "justify_items": null,
            "left": null,
            "margin": null,
            "max_height": null,
            "max_width": null,
            "min_height": null,
            "min_width": null,
            "object_fit": null,
            "object_position": null,
            "order": null,
            "overflow": null,
            "overflow_x": null,
            "overflow_y": null,
            "padding": null,
            "right": null,
            "top": null,
            "visibility": null,
            "width": null
          }
        },
        "e67e39dd182b454ba3d9a59725343f12": {
          "model_module": "@jupyter-widgets/controls",
          "model_name": "ProgressStyleModel",
          "model_module_version": "1.5.0",
          "state": {
            "_model_module": "@jupyter-widgets/controls",
            "_model_module_version": "1.5.0",
            "_model_name": "ProgressStyleModel",
            "_view_count": null,
            "_view_module": "@jupyter-widgets/base",
            "_view_module_version": "1.2.0",
            "_view_name": "StyleView",
            "bar_color": null,
            "description_width": ""
          }
        },
        "cd5ea46f21834e94b2c1807185c54975": {
          "model_module": "@jupyter-widgets/base",
          "model_name": "LayoutModel",
          "model_module_version": "1.2.0",
          "state": {
            "_model_module": "@jupyter-widgets/base",
            "_model_module_version": "1.2.0",
            "_model_name": "LayoutModel",
            "_view_count": null,
            "_view_module": "@jupyter-widgets/base",
            "_view_module_version": "1.2.0",
            "_view_name": "LayoutView",
            "align_content": null,
            "align_items": null,
            "align_self": null,
            "border": null,
            "bottom": null,
            "display": null,
            "flex": null,
            "flex_flow": null,
            "grid_area": null,
            "grid_auto_columns": null,
            "grid_auto_flow": null,
            "grid_auto_rows": null,
            "grid_column": null,
            "grid_gap": null,
            "grid_row": null,
            "grid_template_areas": null,
            "grid_template_columns": null,
            "grid_template_rows": null,
            "height": null,
            "justify_content": null,
            "justify_items": null,
            "left": null,
            "margin": null,
            "max_height": null,
            "max_width": null,
            "min_height": null,
            "min_width": null,
            "object_fit": null,
            "object_position": null,
            "order": null,
            "overflow": null,
            "overflow_x": null,
            "overflow_y": null,
            "padding": null,
            "right": null,
            "top": null,
            "visibility": null,
            "width": null
          }
        },
        "ceb1b6a630e5467dbc1352c2e7c1b239": {
          "model_module": "@jupyter-widgets/controls",
          "model_name": "DescriptionStyleModel",
          "model_module_version": "1.5.0",
          "state": {
            "_model_module": "@jupyter-widgets/controls",
            "_model_module_version": "1.5.0",
            "_model_name": "DescriptionStyleModel",
            "_view_count": null,
            "_view_module": "@jupyter-widgets/base",
            "_view_module_version": "1.2.0",
            "_view_name": "StyleView",
            "description_width": ""
          }
        },
        "eb9ecfc1d66543db8bb99417887ef378": {
          "model_module": "@jupyter-widgets/controls",
          "model_name": "HBoxModel",
          "model_module_version": "1.5.0",
          "state": {
            "_dom_classes": [],
            "_model_module": "@jupyter-widgets/controls",
            "_model_module_version": "1.5.0",
            "_model_name": "HBoxModel",
            "_view_count": null,
            "_view_module": "@jupyter-widgets/controls",
            "_view_module_version": "1.5.0",
            "_view_name": "HBoxView",
            "box_style": "",
            "children": [
              "IPY_MODEL_4acb7818cc074ace8e2e3e894a7e0f1f",
              "IPY_MODEL_ab5fd9dc28b644da951bcc2e02359521",
              "IPY_MODEL_666569f181ef40c1922cf71528ece14c"
            ],
            "layout": "IPY_MODEL_d4309624115146eb9ff739b143325dfd"
          }
        },
        "4acb7818cc074ace8e2e3e894a7e0f1f": {
          "model_module": "@jupyter-widgets/controls",
          "model_name": "HTMLModel",
          "model_module_version": "1.5.0",
          "state": {
            "_dom_classes": [],
            "_model_module": "@jupyter-widgets/controls",
            "_model_module_version": "1.5.0",
            "_model_name": "HTMLModel",
            "_view_count": null,
            "_view_module": "@jupyter-widgets/controls",
            "_view_module_version": "1.5.0",
            "_view_name": "HTMLView",
            "description": "",
            "description_tooltip": null,
            "layout": "IPY_MODEL_7235f646e4114ee7bc0cab310ccfa47d",
            "placeholder": "​",
            "style": "IPY_MODEL_91491cff77d8469f935a1c013f41a22c",
            "value": "preprocessor_config.json: 100%"
          }
        },
        "ab5fd9dc28b644da951bcc2e02359521": {
          "model_module": "@jupyter-widgets/controls",
          "model_name": "FloatProgressModel",
          "model_module_version": "1.5.0",
          "state": {
            "_dom_classes": [],
            "_model_module": "@jupyter-widgets/controls",
            "_model_module_version": "1.5.0",
            "_model_name": "FloatProgressModel",
            "_view_count": null,
            "_view_module": "@jupyter-widgets/controls",
            "_view_module_version": "1.5.0",
            "_view_name": "ProgressView",
            "bar_style": "success",
            "description": "",
            "description_tooltip": null,
            "layout": "IPY_MODEL_007feee2f25d4197b3ef65e204de9d76",
            "max": 339,
            "min": 0,
            "orientation": "horizontal",
            "style": "IPY_MODEL_304fa27892f64fd0bf7e77a14d420941",
            "value": 339
          }
        },
        "666569f181ef40c1922cf71528ece14c": {
          "model_module": "@jupyter-widgets/controls",
          "model_name": "HTMLModel",
          "model_module_version": "1.5.0",
          "state": {
            "_dom_classes": [],
            "_model_module": "@jupyter-widgets/controls",
            "_model_module_version": "1.5.0",
            "_model_name": "HTMLModel",
            "_view_count": null,
            "_view_module": "@jupyter-widgets/controls",
            "_view_module_version": "1.5.0",
            "_view_name": "HTMLView",
            "description": "",
            "description_tooltip": null,
            "layout": "IPY_MODEL_603122b57f454ba8a5d9754185b94c65",
            "placeholder": "​",
            "style": "IPY_MODEL_e34a764de9bb49c1a9796ded48d62d6d",
            "value": " 339/339 [00:00&lt;00:00, 12.4kB/s]"
          }
        },
        "d4309624115146eb9ff739b143325dfd": {
          "model_module": "@jupyter-widgets/base",
          "model_name": "LayoutModel",
          "model_module_version": "1.2.0",
          "state": {
            "_model_module": "@jupyter-widgets/base",
            "_model_module_version": "1.2.0",
            "_model_name": "LayoutModel",
            "_view_count": null,
            "_view_module": "@jupyter-widgets/base",
            "_view_module_version": "1.2.0",
            "_view_name": "LayoutView",
            "align_content": null,
            "align_items": null,
            "align_self": null,
            "border": null,
            "bottom": null,
            "display": null,
            "flex": null,
            "flex_flow": null,
            "grid_area": null,
            "grid_auto_columns": null,
            "grid_auto_flow": null,
            "grid_auto_rows": null,
            "grid_column": null,
            "grid_gap": null,
            "grid_row": null,
            "grid_template_areas": null,
            "grid_template_columns": null,
            "grid_template_rows": null,
            "height": null,
            "justify_content": null,
            "justify_items": null,
            "left": null,
            "margin": null,
            "max_height": null,
            "max_width": null,
            "min_height": null,
            "min_width": null,
            "object_fit": null,
            "object_position": null,
            "order": null,
            "overflow": null,
            "overflow_x": null,
            "overflow_y": null,
            "padding": null,
            "right": null,
            "top": null,
            "visibility": null,
            "width": null
          }
        },
        "7235f646e4114ee7bc0cab310ccfa47d": {
          "model_module": "@jupyter-widgets/base",
          "model_name": "LayoutModel",
          "model_module_version": "1.2.0",
          "state": {
            "_model_module": "@jupyter-widgets/base",
            "_model_module_version": "1.2.0",
            "_model_name": "LayoutModel",
            "_view_count": null,
            "_view_module": "@jupyter-widgets/base",
            "_view_module_version": "1.2.0",
            "_view_name": "LayoutView",
            "align_content": null,
            "align_items": null,
            "align_self": null,
            "border": null,
            "bottom": null,
            "display": null,
            "flex": null,
            "flex_flow": null,
            "grid_area": null,
            "grid_auto_columns": null,
            "grid_auto_flow": null,
            "grid_auto_rows": null,
            "grid_column": null,
            "grid_gap": null,
            "grid_row": null,
            "grid_template_areas": null,
            "grid_template_columns": null,
            "grid_template_rows": null,
            "height": null,
            "justify_content": null,
            "justify_items": null,
            "left": null,
            "margin": null,
            "max_height": null,
            "max_width": null,
            "min_height": null,
            "min_width": null,
            "object_fit": null,
            "object_position": null,
            "order": null,
            "overflow": null,
            "overflow_x": null,
            "overflow_y": null,
            "padding": null,
            "right": null,
            "top": null,
            "visibility": null,
            "width": null
          }
        },
        "91491cff77d8469f935a1c013f41a22c": {
          "model_module": "@jupyter-widgets/controls",
          "model_name": "DescriptionStyleModel",
          "model_module_version": "1.5.0",
          "state": {
            "_model_module": "@jupyter-widgets/controls",
            "_model_module_version": "1.5.0",
            "_model_name": "DescriptionStyleModel",
            "_view_count": null,
            "_view_module": "@jupyter-widgets/base",
            "_view_module_version": "1.2.0",
            "_view_name": "StyleView",
            "description_width": ""
          }
        },
        "007feee2f25d4197b3ef65e204de9d76": {
          "model_module": "@jupyter-widgets/base",
          "model_name": "LayoutModel",
          "model_module_version": "1.2.0",
          "state": {
            "_model_module": "@jupyter-widgets/base",
            "_model_module_version": "1.2.0",
            "_model_name": "LayoutModel",
            "_view_count": null,
            "_view_module": "@jupyter-widgets/base",
            "_view_module_version": "1.2.0",
            "_view_name": "LayoutView",
            "align_content": null,
            "align_items": null,
            "align_self": null,
            "border": null,
            "bottom": null,
            "display": null,
            "flex": null,
            "flex_flow": null,
            "grid_area": null,
            "grid_auto_columns": null,
            "grid_auto_flow": null,
            "grid_auto_rows": null,
            "grid_column": null,
            "grid_gap": null,
            "grid_row": null,
            "grid_template_areas": null,
            "grid_template_columns": null,
            "grid_template_rows": null,
            "height": null,
            "justify_content": null,
            "justify_items": null,
            "left": null,
            "margin": null,
            "max_height": null,
            "max_width": null,
            "min_height": null,
            "min_width": null,
            "object_fit": null,
            "object_position": null,
            "order": null,
            "overflow": null,
            "overflow_x": null,
            "overflow_y": null,
            "padding": null,
            "right": null,
            "top": null,
            "visibility": null,
            "width": null
          }
        },
        "304fa27892f64fd0bf7e77a14d420941": {
          "model_module": "@jupyter-widgets/controls",
          "model_name": "ProgressStyleModel",
          "model_module_version": "1.5.0",
          "state": {
            "_model_module": "@jupyter-widgets/controls",
            "_model_module_version": "1.5.0",
            "_model_name": "ProgressStyleModel",
            "_view_count": null,
            "_view_module": "@jupyter-widgets/base",
            "_view_module_version": "1.2.0",
            "_view_name": "StyleView",
            "bar_color": null,
            "description_width": ""
          }
        },
        "603122b57f454ba8a5d9754185b94c65": {
          "model_module": "@jupyter-widgets/base",
          "model_name": "LayoutModel",
          "model_module_version": "1.2.0",
          "state": {
            "_model_module": "@jupyter-widgets/base",
            "_model_module_version": "1.2.0",
            "_model_name": "LayoutModel",
            "_view_count": null,
            "_view_module": "@jupyter-widgets/base",
            "_view_module_version": "1.2.0",
            "_view_name": "LayoutView",
            "align_content": null,
            "align_items": null,
            "align_self": null,
            "border": null,
            "bottom": null,
            "display": null,
            "flex": null,
            "flex_flow": null,
            "grid_area": null,
            "grid_auto_columns": null,
            "grid_auto_flow": null,
            "grid_auto_rows": null,
            "grid_column": null,
            "grid_gap": null,
            "grid_row": null,
            "grid_template_areas": null,
            "grid_template_columns": null,
            "grid_template_rows": null,
            "height": null,
            "justify_content": null,
            "justify_items": null,
            "left": null,
            "margin": null,
            "max_height": null,
            "max_width": null,
            "min_height": null,
            "min_width": null,
            "object_fit": null,
            "object_position": null,
            "order": null,
            "overflow": null,
            "overflow_x": null,
            "overflow_y": null,
            "padding": null,
            "right": null,
            "top": null,
            "visibility": null,
            "width": null
          }
        },
        "e34a764de9bb49c1a9796ded48d62d6d": {
          "model_module": "@jupyter-widgets/controls",
          "model_name": "DescriptionStyleModel",
          "model_module_version": "1.5.0",
          "state": {
            "_model_module": "@jupyter-widgets/controls",
            "_model_module_version": "1.5.0",
            "_model_name": "DescriptionStyleModel",
            "_view_count": null,
            "_view_module": "@jupyter-widgets/base",
            "_view_module_version": "1.2.0",
            "_view_name": "StyleView",
            "description_width": ""
          }
        },
        "a3b6697928db4d70902118058b318432": {
          "model_module": "@jupyter-widgets/controls",
          "model_name": "HBoxModel",
          "model_module_version": "1.5.0",
          "state": {
            "_dom_classes": [],
            "_model_module": "@jupyter-widgets/controls",
            "_model_module_version": "1.5.0",
            "_model_name": "HBoxModel",
            "_view_count": null,
            "_view_module": "@jupyter-widgets/controls",
            "_view_module_version": "1.5.0",
            "_view_name": "HBoxView",
            "box_style": "",
            "children": [
              "IPY_MODEL_cc2e3db51a2e433dab6cb21d424f30dc",
              "IPY_MODEL_4aefaa2543734d12931f775d68f30c26",
              "IPY_MODEL_4b37bac963d345d69eb24e230e781073"
            ],
            "layout": "IPY_MODEL_a8c3547295a24ebcb779972eefae3f7f"
          }
        },
        "cc2e3db51a2e433dab6cb21d424f30dc": {
          "model_module": "@jupyter-widgets/controls",
          "model_name": "HTMLModel",
          "model_module_version": "1.5.0",
          "state": {
            "_dom_classes": [],
            "_model_module": "@jupyter-widgets/controls",
            "_model_module_version": "1.5.0",
            "_model_name": "HTMLModel",
            "_view_count": null,
            "_view_module": "@jupyter-widgets/controls",
            "_view_module_version": "1.5.0",
            "_view_name": "HTMLView",
            "description": "",
            "description_tooltip": null,
            "layout": "IPY_MODEL_1f0f44eefe6a404481d08eb6177dd73a",
            "placeholder": "​",
            "style": "IPY_MODEL_fff3fe9b0a094a23ac56675b4e19ea56",
            "value": "tokenizer_config.json: 100%"
          }
        },
        "4aefaa2543734d12931f775d68f30c26": {
          "model_module": "@jupyter-widgets/controls",
          "model_name": "FloatProgressModel",
          "model_module_version": "1.5.0",
          "state": {
            "_dom_classes": [],
            "_model_module": "@jupyter-widgets/controls",
            "_model_module_version": "1.5.0",
            "_model_name": "FloatProgressModel",
            "_view_count": null,
            "_view_module": "@jupyter-widgets/controls",
            "_view_module_version": "1.5.0",
            "_view_name": "ProgressView",
            "bar_style": "success",
            "description": "",
            "description_tooltip": null,
            "layout": "IPY_MODEL_fcc5693b5da742f8ac015c108c0a1dfc",
            "max": 282682,
            "min": 0,
            "orientation": "horizontal",
            "style": "IPY_MODEL_c437e91b4e9644c09e626e5e55c0435c",
            "value": 282682
          }
        },
        "4b37bac963d345d69eb24e230e781073": {
          "model_module": "@jupyter-widgets/controls",
          "model_name": "HTMLModel",
          "model_module_version": "1.5.0",
          "state": {
            "_dom_classes": [],
            "_model_module": "@jupyter-widgets/controls",
            "_model_module_version": "1.5.0",
            "_model_name": "HTMLModel",
            "_view_count": null,
            "_view_module": "@jupyter-widgets/controls",
            "_view_module_version": "1.5.0",
            "_view_name": "HTMLView",
            "description": "",
            "description_tooltip": null,
            "layout": "IPY_MODEL_582a368e06c04f7282a5918849422887",
            "placeholder": "​",
            "style": "IPY_MODEL_0579fc7e357544b99403c574434779d8",
            "value": " 283k/283k [00:00&lt;00:00, 3.31MB/s]"
          }
        },
        "a8c3547295a24ebcb779972eefae3f7f": {
          "model_module": "@jupyter-widgets/base",
          "model_name": "LayoutModel",
          "model_module_version": "1.2.0",
          "state": {
            "_model_module": "@jupyter-widgets/base",
            "_model_module_version": "1.2.0",
            "_model_name": "LayoutModel",
            "_view_count": null,
            "_view_module": "@jupyter-widgets/base",
            "_view_module_version": "1.2.0",
            "_view_name": "LayoutView",
            "align_content": null,
            "align_items": null,
            "align_self": null,
            "border": null,
            "bottom": null,
            "display": null,
            "flex": null,
            "flex_flow": null,
            "grid_area": null,
            "grid_auto_columns": null,
            "grid_auto_flow": null,
            "grid_auto_rows": null,
            "grid_column": null,
            "grid_gap": null,
            "grid_row": null,
            "grid_template_areas": null,
            "grid_template_columns": null,
            "grid_template_rows": null,
            "height": null,
            "justify_content": null,
            "justify_items": null,
            "left": null,
            "margin": null,
            "max_height": null,
            "max_width": null,
            "min_height": null,
            "min_width": null,
            "object_fit": null,
            "object_position": null,
            "order": null,
            "overflow": null,
            "overflow_x": null,
            "overflow_y": null,
            "padding": null,
            "right": null,
            "top": null,
            "visibility": null,
            "width": null
          }
        },
        "1f0f44eefe6a404481d08eb6177dd73a": {
          "model_module": "@jupyter-widgets/base",
          "model_name": "LayoutModel",
          "model_module_version": "1.2.0",
          "state": {
            "_model_module": "@jupyter-widgets/base",
            "_model_module_version": "1.2.0",
            "_model_name": "LayoutModel",
            "_view_count": null,
            "_view_module": "@jupyter-widgets/base",
            "_view_module_version": "1.2.0",
            "_view_name": "LayoutView",
            "align_content": null,
            "align_items": null,
            "align_self": null,
            "border": null,
            "bottom": null,
            "display": null,
            "flex": null,
            "flex_flow": null,
            "grid_area": null,
            "grid_auto_columns": null,
            "grid_auto_flow": null,
            "grid_auto_rows": null,
            "grid_column": null,
            "grid_gap": null,
            "grid_row": null,
            "grid_template_areas": null,
            "grid_template_columns": null,
            "grid_template_rows": null,
            "height": null,
            "justify_content": null,
            "justify_items": null,
            "left": null,
            "margin": null,
            "max_height": null,
            "max_width": null,
            "min_height": null,
            "min_width": null,
            "object_fit": null,
            "object_position": null,
            "order": null,
            "overflow": null,
            "overflow_x": null,
            "overflow_y": null,
            "padding": null,
            "right": null,
            "top": null,
            "visibility": null,
            "width": null
          }
        },
        "fff3fe9b0a094a23ac56675b4e19ea56": {
          "model_module": "@jupyter-widgets/controls",
          "model_name": "DescriptionStyleModel",
          "model_module_version": "1.5.0",
          "state": {
            "_model_module": "@jupyter-widgets/controls",
            "_model_module_version": "1.5.0",
            "_model_name": "DescriptionStyleModel",
            "_view_count": null,
            "_view_module": "@jupyter-widgets/base",
            "_view_module_version": "1.2.0",
            "_view_name": "StyleView",
            "description_width": ""
          }
        },
        "fcc5693b5da742f8ac015c108c0a1dfc": {
          "model_module": "@jupyter-widgets/base",
          "model_name": "LayoutModel",
          "model_module_version": "1.2.0",
          "state": {
            "_model_module": "@jupyter-widgets/base",
            "_model_module_version": "1.2.0",
            "_model_name": "LayoutModel",
            "_view_count": null,
            "_view_module": "@jupyter-widgets/base",
            "_view_module_version": "1.2.0",
            "_view_name": "LayoutView",
            "align_content": null,
            "align_items": null,
            "align_self": null,
            "border": null,
            "bottom": null,
            "display": null,
            "flex": null,
            "flex_flow": null,
            "grid_area": null,
            "grid_auto_columns": null,
            "grid_auto_flow": null,
            "grid_auto_rows": null,
            "grid_column": null,
            "grid_gap": null,
            "grid_row": null,
            "grid_template_areas": null,
            "grid_template_columns": null,
            "grid_template_rows": null,
            "height": null,
            "justify_content": null,
            "justify_items": null,
            "left": null,
            "margin": null,
            "max_height": null,
            "max_width": null,
            "min_height": null,
            "min_width": null,
            "object_fit": null,
            "object_position": null,
            "order": null,
            "overflow": null,
            "overflow_x": null,
            "overflow_y": null,
            "padding": null,
            "right": null,
            "top": null,
            "visibility": null,
            "width": null
          }
        },
        "c437e91b4e9644c09e626e5e55c0435c": {
          "model_module": "@jupyter-widgets/controls",
          "model_name": "ProgressStyleModel",
          "model_module_version": "1.5.0",
          "state": {
            "_model_module": "@jupyter-widgets/controls",
            "_model_module_version": "1.5.0",
            "_model_name": "ProgressStyleModel",
            "_view_count": null,
            "_view_module": "@jupyter-widgets/base",
            "_view_module_version": "1.2.0",
            "_view_name": "StyleView",
            "bar_color": null,
            "description_width": ""
          }
        },
        "582a368e06c04f7282a5918849422887": {
          "model_module": "@jupyter-widgets/base",
          "model_name": "LayoutModel",
          "model_module_version": "1.2.0",
          "state": {
            "_model_module": "@jupyter-widgets/base",
            "_model_module_version": "1.2.0",
            "_model_name": "LayoutModel",
            "_view_count": null,
            "_view_module": "@jupyter-widgets/base",
            "_view_module_version": "1.2.0",
            "_view_name": "LayoutView",
            "align_content": null,
            "align_items": null,
            "align_self": null,
            "border": null,
            "bottom": null,
            "display": null,
            "flex": null,
            "flex_flow": null,
            "grid_area": null,
            "grid_auto_columns": null,
            "grid_auto_flow": null,
            "grid_auto_rows": null,
            "grid_column": null,
            "grid_gap": null,
            "grid_row": null,
            "grid_template_areas": null,
            "grid_template_columns": null,
            "grid_template_rows": null,
            "height": null,
            "justify_content": null,
            "justify_items": null,
            "left": null,
            "margin": null,
            "max_height": null,
            "max_width": null,
            "min_height": null,
            "min_width": null,
            "object_fit": null,
            "object_position": null,
            "order": null,
            "overflow": null,
            "overflow_x": null,
            "overflow_y": null,
            "padding": null,
            "right": null,
            "top": null,
            "visibility": null,
            "width": null
          }
        },
        "0579fc7e357544b99403c574434779d8": {
          "model_module": "@jupyter-widgets/controls",
          "model_name": "DescriptionStyleModel",
          "model_module_version": "1.5.0",
          "state": {
            "_model_module": "@jupyter-widgets/controls",
            "_model_module_version": "1.5.0",
            "_model_name": "DescriptionStyleModel",
            "_view_count": null,
            "_view_module": "@jupyter-widgets/base",
            "_view_module_version": "1.2.0",
            "_view_name": "StyleView",
            "description_width": ""
          }
        },
        "8eac9ecdf209421aabdbab578cfdae20": {
          "model_module": "@jupyter-widgets/controls",
          "model_name": "HBoxModel",
          "model_module_version": "1.5.0",
          "state": {
            "_dom_classes": [],
            "_model_module": "@jupyter-widgets/controls",
            "_model_module_version": "1.5.0",
            "_model_name": "HBoxModel",
            "_view_count": null,
            "_view_module": "@jupyter-widgets/controls",
            "_view_module_version": "1.5.0",
            "_view_name": "HBoxView",
            "box_style": "",
            "children": [
              "IPY_MODEL_8008ebc1fb7a4968b07cc288141e7b7e",
              "IPY_MODEL_5c5e692869cd4e25b709a50959a75dc0",
              "IPY_MODEL_0260f51ba1bd4078a36f211d0a6952ea"
            ],
            "layout": "IPY_MODEL_76ac92139dee4b12a0e0c407c00bb4df"
          }
        },
        "8008ebc1fb7a4968b07cc288141e7b7e": {
          "model_module": "@jupyter-widgets/controls",
          "model_name": "HTMLModel",
          "model_module_version": "1.5.0",
          "state": {
            "_dom_classes": [],
            "_model_module": "@jupyter-widgets/controls",
            "_model_module_version": "1.5.0",
            "_model_name": "HTMLModel",
            "_view_count": null,
            "_view_module": "@jupyter-widgets/controls",
            "_view_module_version": "1.5.0",
            "_view_name": "HTMLView",
            "description": "",
            "description_tooltip": null,
            "layout": "IPY_MODEL_96a0c86cd44d46f39fb3a8ef4aec9c38",
            "placeholder": "​",
            "style": "IPY_MODEL_d8437fa140b449209be663784a991057",
            "value": "vocab.json: 100%"
          }
        },
        "5c5e692869cd4e25b709a50959a75dc0": {
          "model_module": "@jupyter-widgets/controls",
          "model_name": "FloatProgressModel",
          "model_module_version": "1.5.0",
          "state": {
            "_dom_classes": [],
            "_model_module": "@jupyter-widgets/controls",
            "_model_module_version": "1.5.0",
            "_model_name": "FloatProgressModel",
            "_view_count": null,
            "_view_module": "@jupyter-widgets/controls",
            "_view_module_version": "1.5.0",
            "_view_name": "ProgressView",
            "bar_style": "success",
            "description": "",
            "description_tooltip": null,
            "layout": "IPY_MODEL_6aa968d315814e479386c15579af4493",
            "max": 835550,
            "min": 0,
            "orientation": "horizontal",
            "style": "IPY_MODEL_f15e6ebd55e341c5b0080d6233468cf0",
            "value": 835550
          }
        },
        "0260f51ba1bd4078a36f211d0a6952ea": {
          "model_module": "@jupyter-widgets/controls",
          "model_name": "HTMLModel",
          "model_module_version": "1.5.0",
          "state": {
            "_dom_classes": [],
            "_model_module": "@jupyter-widgets/controls",
            "_model_module_version": "1.5.0",
            "_model_name": "HTMLModel",
            "_view_count": null,
            "_view_module": "@jupyter-widgets/controls",
            "_view_module_version": "1.5.0",
            "_view_name": "HTMLView",
            "description": "",
            "description_tooltip": null,
            "layout": "IPY_MODEL_6ded48de3eda4ca0aa39c8c2f681f939",
            "placeholder": "​",
            "style": "IPY_MODEL_03a4e83825044e5098761a29eb3c492d",
            "value": " 836k/836k [00:00&lt;00:00, 5.61MB/s]"
          }
        },
        "76ac92139dee4b12a0e0c407c00bb4df": {
          "model_module": "@jupyter-widgets/base",
          "model_name": "LayoutModel",
          "model_module_version": "1.2.0",
          "state": {
            "_model_module": "@jupyter-widgets/base",
            "_model_module_version": "1.2.0",
            "_model_name": "LayoutModel",
            "_view_count": null,
            "_view_module": "@jupyter-widgets/base",
            "_view_module_version": "1.2.0",
            "_view_name": "LayoutView",
            "align_content": null,
            "align_items": null,
            "align_self": null,
            "border": null,
            "bottom": null,
            "display": null,
            "flex": null,
            "flex_flow": null,
            "grid_area": null,
            "grid_auto_columns": null,
            "grid_auto_flow": null,
            "grid_auto_rows": null,
            "grid_column": null,
            "grid_gap": null,
            "grid_row": null,
            "grid_template_areas": null,
            "grid_template_columns": null,
            "grid_template_rows": null,
            "height": null,
            "justify_content": null,
            "justify_items": null,
            "left": null,
            "margin": null,
            "max_height": null,
            "max_width": null,
            "min_height": null,
            "min_width": null,
            "object_fit": null,
            "object_position": null,
            "order": null,
            "overflow": null,
            "overflow_x": null,
            "overflow_y": null,
            "padding": null,
            "right": null,
            "top": null,
            "visibility": null,
            "width": null
          }
        },
        "96a0c86cd44d46f39fb3a8ef4aec9c38": {
          "model_module": "@jupyter-widgets/base",
          "model_name": "LayoutModel",
          "model_module_version": "1.2.0",
          "state": {
            "_model_module": "@jupyter-widgets/base",
            "_model_module_version": "1.2.0",
            "_model_name": "LayoutModel",
            "_view_count": null,
            "_view_module": "@jupyter-widgets/base",
            "_view_module_version": "1.2.0",
            "_view_name": "LayoutView",
            "align_content": null,
            "align_items": null,
            "align_self": null,
            "border": null,
            "bottom": null,
            "display": null,
            "flex": null,
            "flex_flow": null,
            "grid_area": null,
            "grid_auto_columns": null,
            "grid_auto_flow": null,
            "grid_auto_rows": null,
            "grid_column": null,
            "grid_gap": null,
            "grid_row": null,
            "grid_template_areas": null,
            "grid_template_columns": null,
            "grid_template_rows": null,
            "height": null,
            "justify_content": null,
            "justify_items": null,
            "left": null,
            "margin": null,
            "max_height": null,
            "max_width": null,
            "min_height": null,
            "min_width": null,
            "object_fit": null,
            "object_position": null,
            "order": null,
            "overflow": null,
            "overflow_x": null,
            "overflow_y": null,
            "padding": null,
            "right": null,
            "top": null,
            "visibility": null,
            "width": null
          }
        },
        "d8437fa140b449209be663784a991057": {
          "model_module": "@jupyter-widgets/controls",
          "model_name": "DescriptionStyleModel",
          "model_module_version": "1.5.0",
          "state": {
            "_model_module": "@jupyter-widgets/controls",
            "_model_module_version": "1.5.0",
            "_model_name": "DescriptionStyleModel",
            "_view_count": null,
            "_view_module": "@jupyter-widgets/base",
            "_view_module_version": "1.2.0",
            "_view_name": "StyleView",
            "description_width": ""
          }
        },
        "6aa968d315814e479386c15579af4493": {
          "model_module": "@jupyter-widgets/base",
          "model_name": "LayoutModel",
          "model_module_version": "1.2.0",
          "state": {
            "_model_module": "@jupyter-widgets/base",
            "_model_module_version": "1.2.0",
            "_model_name": "LayoutModel",
            "_view_count": null,
            "_view_module": "@jupyter-widgets/base",
            "_view_module_version": "1.2.0",
            "_view_name": "LayoutView",
            "align_content": null,
            "align_items": null,
            "align_self": null,
            "border": null,
            "bottom": null,
            "display": null,
            "flex": null,
            "flex_flow": null,
            "grid_area": null,
            "grid_auto_columns": null,
            "grid_auto_flow": null,
            "grid_auto_rows": null,
            "grid_column": null,
            "grid_gap": null,
            "grid_row": null,
            "grid_template_areas": null,
            "grid_template_columns": null,
            "grid_template_rows": null,
            "height": null,
            "justify_content": null,
            "justify_items": null,
            "left": null,
            "margin": null,
            "max_height": null,
            "max_width": null,
            "min_height": null,
            "min_width": null,
            "object_fit": null,
            "object_position": null,
            "order": null,
            "overflow": null,
            "overflow_x": null,
            "overflow_y": null,
            "padding": null,
            "right": null,
            "top": null,
            "visibility": null,
            "width": null
          }
        },
        "f15e6ebd55e341c5b0080d6233468cf0": {
          "model_module": "@jupyter-widgets/controls",
          "model_name": "ProgressStyleModel",
          "model_module_version": "1.5.0",
          "state": {
            "_model_module": "@jupyter-widgets/controls",
            "_model_module_version": "1.5.0",
            "_model_name": "ProgressStyleModel",
            "_view_count": null,
            "_view_module": "@jupyter-widgets/base",
            "_view_module_version": "1.2.0",
            "_view_name": "StyleView",
            "bar_color": null,
            "description_width": ""
          }
        },
        "6ded48de3eda4ca0aa39c8c2f681f939": {
          "model_module": "@jupyter-widgets/base",
          "model_name": "LayoutModel",
          "model_module_version": "1.2.0",
          "state": {
            "_model_module": "@jupyter-widgets/base",
            "_model_module_version": "1.2.0",
            "_model_name": "LayoutModel",
            "_view_count": null,
            "_view_module": "@jupyter-widgets/base",
            "_view_module_version": "1.2.0",
            "_view_name": "LayoutView",
            "align_content": null,
            "align_items": null,
            "align_self": null,
            "border": null,
            "bottom": null,
            "display": null,
            "flex": null,
            "flex_flow": null,
            "grid_area": null,
            "grid_auto_columns": null,
            "grid_auto_flow": null,
            "grid_auto_rows": null,
            "grid_column": null,
            "grid_gap": null,
            "grid_row": null,
            "grid_template_areas": null,
            "grid_template_columns": null,
            "grid_template_rows": null,
            "height": null,
            "justify_content": null,
            "justify_items": null,
            "left": null,
            "margin": null,
            "max_height": null,
            "max_width": null,
            "min_height": null,
            "min_width": null,
            "object_fit": null,
            "object_position": null,
            "order": null,
            "overflow": null,
            "overflow_x": null,
            "overflow_y": null,
            "padding": null,
            "right": null,
            "top": null,
            "visibility": null,
            "width": null
          }
        },
        "03a4e83825044e5098761a29eb3c492d": {
          "model_module": "@jupyter-widgets/controls",
          "model_name": "DescriptionStyleModel",
          "model_module_version": "1.5.0",
          "state": {
            "_model_module": "@jupyter-widgets/controls",
            "_model_module_version": "1.5.0",
            "_model_name": "DescriptionStyleModel",
            "_view_count": null,
            "_view_module": "@jupyter-widgets/base",
            "_view_module_version": "1.2.0",
            "_view_name": "StyleView",
            "description_width": ""
          }
        },
        "11322d1cb7b548fd9c1d3c6e98f8fa0b": {
          "model_module": "@jupyter-widgets/controls",
          "model_name": "HBoxModel",
          "model_module_version": "1.5.0",
          "state": {
            "_dom_classes": [],
            "_model_module": "@jupyter-widgets/controls",
            "_model_module_version": "1.5.0",
            "_model_name": "HBoxModel",
            "_view_count": null,
            "_view_module": "@jupyter-widgets/controls",
            "_view_module_version": "1.5.0",
            "_view_name": "HBoxView",
            "box_style": "",
            "children": [
              "IPY_MODEL_bc56817d615a441d84a6247f06c9954b",
              "IPY_MODEL_9b0f958466a543b49be6871781c886a9",
              "IPY_MODEL_cc86a829e2b34c18837acb697aac20a3"
            ],
            "layout": "IPY_MODEL_ac362c6f929941c7a16f1d98566faa36"
          }
        },
        "bc56817d615a441d84a6247f06c9954b": {
          "model_module": "@jupyter-widgets/controls",
          "model_name": "HTMLModel",
          "model_module_version": "1.5.0",
          "state": {
            "_dom_classes": [],
            "_model_module": "@jupyter-widgets/controls",
            "_model_module_version": "1.5.0",
            "_model_name": "HTMLModel",
            "_view_count": null,
            "_view_module": "@jupyter-widgets/controls",
            "_view_module_version": "1.5.0",
            "_view_name": "HTMLView",
            "description": "",
            "description_tooltip": null,
            "layout": "IPY_MODEL_fc05803d11c34430b23affada79ce367",
            "placeholder": "​",
            "style": "IPY_MODEL_18b19e6f7411430eb7f0dc40a8c46adc",
            "value": "tokenizer.json: 100%"
          }
        },
        "9b0f958466a543b49be6871781c886a9": {
          "model_module": "@jupyter-widgets/controls",
          "model_name": "FloatProgressModel",
          "model_module_version": "1.5.0",
          "state": {
            "_dom_classes": [],
            "_model_module": "@jupyter-widgets/controls",
            "_model_module_version": "1.5.0",
            "_model_name": "FloatProgressModel",
            "_view_count": null,
            "_view_module": "@jupyter-widgets/controls",
            "_view_module_version": "1.5.0",
            "_view_name": "ProgressView",
            "bar_style": "success",
            "description": "",
            "description_tooltip": null,
            "layout": "IPY_MODEL_0f8dfdf114274cdbbe67c9456811019f",
            "max": 2481187,
            "min": 0,
            "orientation": "horizontal",
            "style": "IPY_MODEL_108ce5016ffb49f093493b65746a9800",
            "value": 2481187
          }
        },
        "cc86a829e2b34c18837acb697aac20a3": {
          "model_module": "@jupyter-widgets/controls",
          "model_name": "HTMLModel",
          "model_module_version": "1.5.0",
          "state": {
            "_dom_classes": [],
            "_model_module": "@jupyter-widgets/controls",
            "_model_module_version": "1.5.0",
            "_model_name": "HTMLModel",
            "_view_count": null,
            "_view_module": "@jupyter-widgets/controls",
            "_view_module_version": "1.5.0",
            "_view_name": "HTMLView",
            "description": "",
            "description_tooltip": null,
            "layout": "IPY_MODEL_3c602c5fb821417b85857875ca77c661",
            "placeholder": "​",
            "style": "IPY_MODEL_c537390bc6e34d97847c03826030a2be",
            "value": " 2.48M/2.48M [00:00&lt;00:00, 42.2MB/s]"
          }
        },
        "ac362c6f929941c7a16f1d98566faa36": {
          "model_module": "@jupyter-widgets/base",
          "model_name": "LayoutModel",
          "model_module_version": "1.2.0",
          "state": {
            "_model_module": "@jupyter-widgets/base",
            "_model_module_version": "1.2.0",
            "_model_name": "LayoutModel",
            "_view_count": null,
            "_view_module": "@jupyter-widgets/base",
            "_view_module_version": "1.2.0",
            "_view_name": "LayoutView",
            "align_content": null,
            "align_items": null,
            "align_self": null,
            "border": null,
            "bottom": null,
            "display": null,
            "flex": null,
            "flex_flow": null,
            "grid_area": null,
            "grid_auto_columns": null,
            "grid_auto_flow": null,
            "grid_auto_rows": null,
            "grid_column": null,
            "grid_gap": null,
            "grid_row": null,
            "grid_template_areas": null,
            "grid_template_columns": null,
            "grid_template_rows": null,
            "height": null,
            "justify_content": null,
            "justify_items": null,
            "left": null,
            "margin": null,
            "max_height": null,
            "max_width": null,
            "min_height": null,
            "min_width": null,
            "object_fit": null,
            "object_position": null,
            "order": null,
            "overflow": null,
            "overflow_x": null,
            "overflow_y": null,
            "padding": null,
            "right": null,
            "top": null,
            "visibility": null,
            "width": null
          }
        },
        "fc05803d11c34430b23affada79ce367": {
          "model_module": "@jupyter-widgets/base",
          "model_name": "LayoutModel",
          "model_module_version": "1.2.0",
          "state": {
            "_model_module": "@jupyter-widgets/base",
            "_model_module_version": "1.2.0",
            "_model_name": "LayoutModel",
            "_view_count": null,
            "_view_module": "@jupyter-widgets/base",
            "_view_module_version": "1.2.0",
            "_view_name": "LayoutView",
            "align_content": null,
            "align_items": null,
            "align_self": null,
            "border": null,
            "bottom": null,
            "display": null,
            "flex": null,
            "flex_flow": null,
            "grid_area": null,
            "grid_auto_columns": null,
            "grid_auto_flow": null,
            "grid_auto_rows": null,
            "grid_column": null,
            "grid_gap": null,
            "grid_row": null,
            "grid_template_areas": null,
            "grid_template_columns": null,
            "grid_template_rows": null,
            "height": null,
            "justify_content": null,
            "justify_items": null,
            "left": null,
            "margin": null,
            "max_height": null,
            "max_width": null,
            "min_height": null,
            "min_width": null,
            "object_fit": null,
            "object_position": null,
            "order": null,
            "overflow": null,
            "overflow_x": null,
            "overflow_y": null,
            "padding": null,
            "right": null,
            "top": null,
            "visibility": null,
            "width": null
          }
        },
        "18b19e6f7411430eb7f0dc40a8c46adc": {
          "model_module": "@jupyter-widgets/controls",
          "model_name": "DescriptionStyleModel",
          "model_module_version": "1.5.0",
          "state": {
            "_model_module": "@jupyter-widgets/controls",
            "_model_module_version": "1.5.0",
            "_model_name": "DescriptionStyleModel",
            "_view_count": null,
            "_view_module": "@jupyter-widgets/base",
            "_view_module_version": "1.2.0",
            "_view_name": "StyleView",
            "description_width": ""
          }
        },
        "0f8dfdf114274cdbbe67c9456811019f": {
          "model_module": "@jupyter-widgets/base",
          "model_name": "LayoutModel",
          "model_module_version": "1.2.0",
          "state": {
            "_model_module": "@jupyter-widgets/base",
            "_model_module_version": "1.2.0",
            "_model_name": "LayoutModel",
            "_view_count": null,
            "_view_module": "@jupyter-widgets/base",
            "_view_module_version": "1.2.0",
            "_view_name": "LayoutView",
            "align_content": null,
            "align_items": null,
            "align_self": null,
            "border": null,
            "bottom": null,
            "display": null,
            "flex": null,
            "flex_flow": null,
            "grid_area": null,
            "grid_auto_columns": null,
            "grid_auto_flow": null,
            "grid_auto_rows": null,
            "grid_column": null,
            "grid_gap": null,
            "grid_row": null,
            "grid_template_areas": null,
            "grid_template_columns": null,
            "grid_template_rows": null,
            "height": null,
            "justify_content": null,
            "justify_items": null,
            "left": null,
            "margin": null,
            "max_height": null,
            "max_width": null,
            "min_height": null,
            "min_width": null,
            "object_fit": null,
            "object_position": null,
            "order": null,
            "overflow": null,
            "overflow_x": null,
            "overflow_y": null,
            "padding": null,
            "right": null,
            "top": null,
            "visibility": null,
            "width": null
          }
        },
        "108ce5016ffb49f093493b65746a9800": {
          "model_module": "@jupyter-widgets/controls",
          "model_name": "ProgressStyleModel",
          "model_module_version": "1.5.0",
          "state": {
            "_model_module": "@jupyter-widgets/controls",
            "_model_module_version": "1.5.0",
            "_model_name": "ProgressStyleModel",
            "_view_count": null,
            "_view_module": "@jupyter-widgets/base",
            "_view_module_version": "1.2.0",
            "_view_name": "StyleView",
            "bar_color": null,
            "description_width": ""
          }
        },
        "3c602c5fb821417b85857875ca77c661": {
          "model_module": "@jupyter-widgets/base",
          "model_name": "LayoutModel",
          "model_module_version": "1.2.0",
          "state": {
            "_model_module": "@jupyter-widgets/base",
            "_model_module_version": "1.2.0",
            "_model_name": "LayoutModel",
            "_view_count": null,
            "_view_module": "@jupyter-widgets/base",
            "_view_module_version": "1.2.0",
            "_view_name": "LayoutView",
            "align_content": null,
            "align_items": null,
            "align_self": null,
            "border": null,
            "bottom": null,
            "display": null,
            "flex": null,
            "flex_flow": null,
            "grid_area": null,
            "grid_auto_columns": null,
            "grid_auto_flow": null,
            "grid_auto_rows": null,
            "grid_column": null,
            "grid_gap": null,
            "grid_row": null,
            "grid_template_areas": null,
            "grid_template_columns": null,
            "grid_template_rows": null,
            "height": null,
            "justify_content": null,
            "justify_items": null,
            "left": null,
            "margin": null,
            "max_height": null,
            "max_width": null,
            "min_height": null,
            "min_width": null,
            "object_fit": null,
            "object_position": null,
            "order": null,
            "overflow": null,
            "overflow_x": null,
            "overflow_y": null,
            "padding": null,
            "right": null,
            "top": null,
            "visibility": null,
            "width": null
          }
        },
        "c537390bc6e34d97847c03826030a2be": {
          "model_module": "@jupyter-widgets/controls",
          "model_name": "DescriptionStyleModel",
          "model_module_version": "1.5.0",
          "state": {
            "_model_module": "@jupyter-widgets/controls",
            "_model_module_version": "1.5.0",
            "_model_name": "DescriptionStyleModel",
            "_view_count": null,
            "_view_module": "@jupyter-widgets/base",
            "_view_module_version": "1.2.0",
            "_view_name": "StyleView",
            "description_width": ""
          }
        },
        "824cdedd2a58453eba88c4a7284037f8": {
          "model_module": "@jupyter-widgets/controls",
          "model_name": "HBoxModel",
          "model_module_version": "1.5.0",
          "state": {
            "_dom_classes": [],
            "_model_module": "@jupyter-widgets/controls",
            "_model_module_version": "1.5.0",
            "_model_name": "HBoxModel",
            "_view_count": null,
            "_view_module": "@jupyter-widgets/controls",
            "_view_module_version": "1.5.0",
            "_view_name": "HBoxView",
            "box_style": "",
            "children": [
              "IPY_MODEL_bc544683cccd4c4f8aa7f2c69dc0f053",
              "IPY_MODEL_61a7efef53da40a78dfe5fe80bd6c6bd",
              "IPY_MODEL_7a81853853224fa6831db754629cd19f"
            ],
            "layout": "IPY_MODEL_8d1133aab79748049a2350efb000f102"
          }
        },
        "bc544683cccd4c4f8aa7f2c69dc0f053": {
          "model_module": "@jupyter-widgets/controls",
          "model_name": "HTMLModel",
          "model_module_version": "1.5.0",
          "state": {
            "_dom_classes": [],
            "_model_module": "@jupyter-widgets/controls",
            "_model_module_version": "1.5.0",
            "_model_name": "HTMLModel",
            "_view_count": null,
            "_view_module": "@jupyter-widgets/controls",
            "_view_module_version": "1.5.0",
            "_view_name": "HTMLView",
            "description": "",
            "description_tooltip": null,
            "layout": "IPY_MODEL_0644846b69ec4055b68345771fb97c45",
            "placeholder": "​",
            "style": "IPY_MODEL_1db7642722da4e75b5275a053d664b02",
            "value": "merges.txt: 100%"
          }
        },
        "61a7efef53da40a78dfe5fe80bd6c6bd": {
          "model_module": "@jupyter-widgets/controls",
          "model_name": "FloatProgressModel",
          "model_module_version": "1.5.0",
          "state": {
            "_dom_classes": [],
            "_model_module": "@jupyter-widgets/controls",
            "_model_module_version": "1.5.0",
            "_model_name": "FloatProgressModel",
            "_view_count": null,
            "_view_module": "@jupyter-widgets/controls",
            "_view_module_version": "1.5.0",
            "_view_name": "ProgressView",
            "bar_style": "success",
            "description": "",
            "description_tooltip": null,
            "layout": "IPY_MODEL_b9ee9dcfe5334d5fab8dd9d2584d45ef",
            "max": 493864,
            "min": 0,
            "orientation": "horizontal",
            "style": "IPY_MODEL_01b578e15b3546d8af4cae3a9b0da56f",
            "value": 493864
          }
        },
        "7a81853853224fa6831db754629cd19f": {
          "model_module": "@jupyter-widgets/controls",
          "model_name": "HTMLModel",
          "model_module_version": "1.5.0",
          "state": {
            "_dom_classes": [],
            "_model_module": "@jupyter-widgets/controls",
            "_model_module_version": "1.5.0",
            "_model_name": "HTMLModel",
            "_view_count": null,
            "_view_module": "@jupyter-widgets/controls",
            "_view_module_version": "1.5.0",
            "_view_name": "HTMLView",
            "description": "",
            "description_tooltip": null,
            "layout": "IPY_MODEL_7565e1ce9adf47f49400ed7af7b48ff9",
            "placeholder": "​",
            "style": "IPY_MODEL_fb25686cfce64f6d80070140d659b4e1",
            "value": " 494k/494k [00:00&lt;00:00, 10.5MB/s]"
          }
        },
        "8d1133aab79748049a2350efb000f102": {
          "model_module": "@jupyter-widgets/base",
          "model_name": "LayoutModel",
          "model_module_version": "1.2.0",
          "state": {
            "_model_module": "@jupyter-widgets/base",
            "_model_module_version": "1.2.0",
            "_model_name": "LayoutModel",
            "_view_count": null,
            "_view_module": "@jupyter-widgets/base",
            "_view_module_version": "1.2.0",
            "_view_name": "LayoutView",
            "align_content": null,
            "align_items": null,
            "align_self": null,
            "border": null,
            "bottom": null,
            "display": null,
            "flex": null,
            "flex_flow": null,
            "grid_area": null,
            "grid_auto_columns": null,
            "grid_auto_flow": null,
            "grid_auto_rows": null,
            "grid_column": null,
            "grid_gap": null,
            "grid_row": null,
            "grid_template_areas": null,
            "grid_template_columns": null,
            "grid_template_rows": null,
            "height": null,
            "justify_content": null,
            "justify_items": null,
            "left": null,
            "margin": null,
            "max_height": null,
            "max_width": null,
            "min_height": null,
            "min_width": null,
            "object_fit": null,
            "object_position": null,
            "order": null,
            "overflow": null,
            "overflow_x": null,
            "overflow_y": null,
            "padding": null,
            "right": null,
            "top": null,
            "visibility": null,
            "width": null
          }
        },
        "0644846b69ec4055b68345771fb97c45": {
          "model_module": "@jupyter-widgets/base",
          "model_name": "LayoutModel",
          "model_module_version": "1.2.0",
          "state": {
            "_model_module": "@jupyter-widgets/base",
            "_model_module_version": "1.2.0",
            "_model_name": "LayoutModel",
            "_view_count": null,
            "_view_module": "@jupyter-widgets/base",
            "_view_module_version": "1.2.0",
            "_view_name": "LayoutView",
            "align_content": null,
            "align_items": null,
            "align_self": null,
            "border": null,
            "bottom": null,
            "display": null,
            "flex": null,
            "flex_flow": null,
            "grid_area": null,
            "grid_auto_columns": null,
            "grid_auto_flow": null,
            "grid_auto_rows": null,
            "grid_column": null,
            "grid_gap": null,
            "grid_row": null,
            "grid_template_areas": null,
            "grid_template_columns": null,
            "grid_template_rows": null,
            "height": null,
            "justify_content": null,
            "justify_items": null,
            "left": null,
            "margin": null,
            "max_height": null,
            "max_width": null,
            "min_height": null,
            "min_width": null,
            "object_fit": null,
            "object_position": null,
            "order": null,
            "overflow": null,
            "overflow_x": null,
            "overflow_y": null,
            "padding": null,
            "right": null,
            "top": null,
            "visibility": null,
            "width": null
          }
        },
        "1db7642722da4e75b5275a053d664b02": {
          "model_module": "@jupyter-widgets/controls",
          "model_name": "DescriptionStyleModel",
          "model_module_version": "1.5.0",
          "state": {
            "_model_module": "@jupyter-widgets/controls",
            "_model_module_version": "1.5.0",
            "_model_name": "DescriptionStyleModel",
            "_view_count": null,
            "_view_module": "@jupyter-widgets/base",
            "_view_module_version": "1.2.0",
            "_view_name": "StyleView",
            "description_width": ""
          }
        },
        "b9ee9dcfe5334d5fab8dd9d2584d45ef": {
          "model_module": "@jupyter-widgets/base",
          "model_name": "LayoutModel",
          "model_module_version": "1.2.0",
          "state": {
            "_model_module": "@jupyter-widgets/base",
            "_model_module_version": "1.2.0",
            "_model_name": "LayoutModel",
            "_view_count": null,
            "_view_module": "@jupyter-widgets/base",
            "_view_module_version": "1.2.0",
            "_view_name": "LayoutView",
            "align_content": null,
            "align_items": null,
            "align_self": null,
            "border": null,
            "bottom": null,
            "display": null,
            "flex": null,
            "flex_flow": null,
            "grid_area": null,
            "grid_auto_columns": null,
            "grid_auto_flow": null,
            "grid_auto_rows": null,
            "grid_column": null,
            "grid_gap": null,
            "grid_row": null,
            "grid_template_areas": null,
            "grid_template_columns": null,
            "grid_template_rows": null,
            "height": null,
            "justify_content": null,
            "justify_items": null,
            "left": null,
            "margin": null,
            "max_height": null,
            "max_width": null,
            "min_height": null,
            "min_width": null,
            "object_fit": null,
            "object_position": null,
            "order": null,
            "overflow": null,
            "overflow_x": null,
            "overflow_y": null,
            "padding": null,
            "right": null,
            "top": null,
            "visibility": null,
            "width": null
          }
        },
        "01b578e15b3546d8af4cae3a9b0da56f": {
          "model_module": "@jupyter-widgets/controls",
          "model_name": "ProgressStyleModel",
          "model_module_version": "1.5.0",
          "state": {
            "_model_module": "@jupyter-widgets/controls",
            "_model_module_version": "1.5.0",
            "_model_name": "ProgressStyleModel",
            "_view_count": null,
            "_view_module": "@jupyter-widgets/base",
            "_view_module_version": "1.2.0",
            "_view_name": "StyleView",
            "bar_color": null,
            "description_width": ""
          }
        },
        "7565e1ce9adf47f49400ed7af7b48ff9": {
          "model_module": "@jupyter-widgets/base",
          "model_name": "LayoutModel",
          "model_module_version": "1.2.0",
          "state": {
            "_model_module": "@jupyter-widgets/base",
            "_model_module_version": "1.2.0",
            "_model_name": "LayoutModel",
            "_view_count": null,
            "_view_module": "@jupyter-widgets/base",
            "_view_module_version": "1.2.0",
            "_view_name": "LayoutView",
            "align_content": null,
            "align_items": null,
            "align_self": null,
            "border": null,
            "bottom": null,
            "display": null,
            "flex": null,
            "flex_flow": null,
            "grid_area": null,
            "grid_auto_columns": null,
            "grid_auto_flow": null,
            "grid_auto_rows": null,
            "grid_column": null,
            "grid_gap": null,
            "grid_row": null,
            "grid_template_areas": null,
            "grid_template_columns": null,
            "grid_template_rows": null,
            "height": null,
            "justify_content": null,
            "justify_items": null,
            "left": null,
            "margin": null,
            "max_height": null,
            "max_width": null,
            "min_height": null,
            "min_width": null,
            "object_fit": null,
            "object_position": null,
            "order": null,
            "overflow": null,
            "overflow_x": null,
            "overflow_y": null,
            "padding": null,
            "right": null,
            "top": null,
            "visibility": null,
            "width": null
          }
        },
        "fb25686cfce64f6d80070140d659b4e1": {
          "model_module": "@jupyter-widgets/controls",
          "model_name": "DescriptionStyleModel",
          "model_module_version": "1.5.0",
          "state": {
            "_model_module": "@jupyter-widgets/controls",
            "_model_module_version": "1.5.0",
            "_model_name": "DescriptionStyleModel",
            "_view_count": null,
            "_view_module": "@jupyter-widgets/base",
            "_view_module_version": "1.2.0",
            "_view_name": "StyleView",
            "description_width": ""
          }
        },
        "37430f0f243f4b7ab6973ae8b06508c2": {
          "model_module": "@jupyter-widgets/controls",
          "model_name": "HBoxModel",
          "model_module_version": "1.5.0",
          "state": {
            "_dom_classes": [],
            "_model_module": "@jupyter-widgets/controls",
            "_model_module_version": "1.5.0",
            "_model_name": "HBoxModel",
            "_view_count": null,
            "_view_module": "@jupyter-widgets/controls",
            "_view_module_version": "1.5.0",
            "_view_name": "HBoxView",
            "box_style": "",
            "children": [
              "IPY_MODEL_2835853345c249a1b638bcc4e1dd36f5",
              "IPY_MODEL_38756f6d3ba44057a392d8ab29445d20",
              "IPY_MODEL_f018d5b9ea0c4851a56958a661489a1c"
            ],
            "layout": "IPY_MODEL_8c230e5116c240098c778400c0c1c2ca"
          }
        },
        "2835853345c249a1b638bcc4e1dd36f5": {
          "model_module": "@jupyter-widgets/controls",
          "model_name": "HTMLModel",
          "model_module_version": "1.5.0",
          "state": {
            "_dom_classes": [],
            "_model_module": "@jupyter-widgets/controls",
            "_model_module_version": "1.5.0",
            "_model_name": "HTMLModel",
            "_view_count": null,
            "_view_module": "@jupyter-widgets/controls",
            "_view_module_version": "1.5.0",
            "_view_name": "HTMLView",
            "description": "",
            "description_tooltip": null,
            "layout": "IPY_MODEL_2bfd8a79938540d1b43d065c5e06cc9e",
            "placeholder": "​",
            "style": "IPY_MODEL_4b5eee35ce71487aa7574becc623c903",
            "value": "normalizer.json: 100%"
          }
        },
        "38756f6d3ba44057a392d8ab29445d20": {
          "model_module": "@jupyter-widgets/controls",
          "model_name": "FloatProgressModel",
          "model_module_version": "1.5.0",
          "state": {
            "_dom_classes": [],
            "_model_module": "@jupyter-widgets/controls",
            "_model_module_version": "1.5.0",
            "_model_name": "FloatProgressModel",
            "_view_count": null,
            "_view_module": "@jupyter-widgets/controls",
            "_view_module_version": "1.5.0",
            "_view_name": "ProgressView",
            "bar_style": "success",
            "description": "",
            "description_tooltip": null,
            "layout": "IPY_MODEL_59bf912989c24716b1adc719f17eff9c",
            "max": 52666,
            "min": 0,
            "orientation": "horizontal",
            "style": "IPY_MODEL_7e00b787d35e4212a0938a1e82d9851e",
            "value": 52666
          }
        },
        "f018d5b9ea0c4851a56958a661489a1c": {
          "model_module": "@jupyter-widgets/controls",
          "model_name": "HTMLModel",
          "model_module_version": "1.5.0",
          "state": {
            "_dom_classes": [],
            "_model_module": "@jupyter-widgets/controls",
            "_model_module_version": "1.5.0",
            "_model_name": "HTMLModel",
            "_view_count": null,
            "_view_module": "@jupyter-widgets/controls",
            "_view_module_version": "1.5.0",
            "_view_name": "HTMLView",
            "description": "",
            "description_tooltip": null,
            "layout": "IPY_MODEL_586dcba576e54b15b2803aa5aa96b939",
            "placeholder": "​",
            "style": "IPY_MODEL_2519d3c5067b462a943ece997f84c474",
            "value": " 52.7k/52.7k [00:00&lt;00:00, 856kB/s]"
          }
        },
        "8c230e5116c240098c778400c0c1c2ca": {
          "model_module": "@jupyter-widgets/base",
          "model_name": "LayoutModel",
          "model_module_version": "1.2.0",
          "state": {
            "_model_module": "@jupyter-widgets/base",
            "_model_module_version": "1.2.0",
            "_model_name": "LayoutModel",
            "_view_count": null,
            "_view_module": "@jupyter-widgets/base",
            "_view_module_version": "1.2.0",
            "_view_name": "LayoutView",
            "align_content": null,
            "align_items": null,
            "align_self": null,
            "border": null,
            "bottom": null,
            "display": null,
            "flex": null,
            "flex_flow": null,
            "grid_area": null,
            "grid_auto_columns": null,
            "grid_auto_flow": null,
            "grid_auto_rows": null,
            "grid_column": null,
            "grid_gap": null,
            "grid_row": null,
            "grid_template_areas": null,
            "grid_template_columns": null,
            "grid_template_rows": null,
            "height": null,
            "justify_content": null,
            "justify_items": null,
            "left": null,
            "margin": null,
            "max_height": null,
            "max_width": null,
            "min_height": null,
            "min_width": null,
            "object_fit": null,
            "object_position": null,
            "order": null,
            "overflow": null,
            "overflow_x": null,
            "overflow_y": null,
            "padding": null,
            "right": null,
            "top": null,
            "visibility": null,
            "width": null
          }
        },
        "2bfd8a79938540d1b43d065c5e06cc9e": {
          "model_module": "@jupyter-widgets/base",
          "model_name": "LayoutModel",
          "model_module_version": "1.2.0",
          "state": {
            "_model_module": "@jupyter-widgets/base",
            "_model_module_version": "1.2.0",
            "_model_name": "LayoutModel",
            "_view_count": null,
            "_view_module": "@jupyter-widgets/base",
            "_view_module_version": "1.2.0",
            "_view_name": "LayoutView",
            "align_content": null,
            "align_items": null,
            "align_self": null,
            "border": null,
            "bottom": null,
            "display": null,
            "flex": null,
            "flex_flow": null,
            "grid_area": null,
            "grid_auto_columns": null,
            "grid_auto_flow": null,
            "grid_auto_rows": null,
            "grid_column": null,
            "grid_gap": null,
            "grid_row": null,
            "grid_template_areas": null,
            "grid_template_columns": null,
            "grid_template_rows": null,
            "height": null,
            "justify_content": null,
            "justify_items": null,
            "left": null,
            "margin": null,
            "max_height": null,
            "max_width": null,
            "min_height": null,
            "min_width": null,
            "object_fit": null,
            "object_position": null,
            "order": null,
            "overflow": null,
            "overflow_x": null,
            "overflow_y": null,
            "padding": null,
            "right": null,
            "top": null,
            "visibility": null,
            "width": null
          }
        },
        "4b5eee35ce71487aa7574becc623c903": {
          "model_module": "@jupyter-widgets/controls",
          "model_name": "DescriptionStyleModel",
          "model_module_version": "1.5.0",
          "state": {
            "_model_module": "@jupyter-widgets/controls",
            "_model_module_version": "1.5.0",
            "_model_name": "DescriptionStyleModel",
            "_view_count": null,
            "_view_module": "@jupyter-widgets/base",
            "_view_module_version": "1.2.0",
            "_view_name": "StyleView",
            "description_width": ""
          }
        },
        "59bf912989c24716b1adc719f17eff9c": {
          "model_module": "@jupyter-widgets/base",
          "model_name": "LayoutModel",
          "model_module_version": "1.2.0",
          "state": {
            "_model_module": "@jupyter-widgets/base",
            "_model_module_version": "1.2.0",
            "_model_name": "LayoutModel",
            "_view_count": null,
            "_view_module": "@jupyter-widgets/base",
            "_view_module_version": "1.2.0",
            "_view_name": "LayoutView",
            "align_content": null,
            "align_items": null,
            "align_self": null,
            "border": null,
            "bottom": null,
            "display": null,
            "flex": null,
            "flex_flow": null,
            "grid_area": null,
            "grid_auto_columns": null,
            "grid_auto_flow": null,
            "grid_auto_rows": null,
            "grid_column": null,
            "grid_gap": null,
            "grid_row": null,
            "grid_template_areas": null,
            "grid_template_columns": null,
            "grid_template_rows": null,
            "height": null,
            "justify_content": null,
            "justify_items": null,
            "left": null,
            "margin": null,
            "max_height": null,
            "max_width": null,
            "min_height": null,
            "min_width": null,
            "object_fit": null,
            "object_position": null,
            "order": null,
            "overflow": null,
            "overflow_x": null,
            "overflow_y": null,
            "padding": null,
            "right": null,
            "top": null,
            "visibility": null,
            "width": null
          }
        },
        "7e00b787d35e4212a0938a1e82d9851e": {
          "model_module": "@jupyter-widgets/controls",
          "model_name": "ProgressStyleModel",
          "model_module_version": "1.5.0",
          "state": {
            "_model_module": "@jupyter-widgets/controls",
            "_model_module_version": "1.5.0",
            "_model_name": "ProgressStyleModel",
            "_view_count": null,
            "_view_module": "@jupyter-widgets/base",
            "_view_module_version": "1.2.0",
            "_view_name": "StyleView",
            "bar_color": null,
            "description_width": ""
          }
        },
        "586dcba576e54b15b2803aa5aa96b939": {
          "model_module": "@jupyter-widgets/base",
          "model_name": "LayoutModel",
          "model_module_version": "1.2.0",
          "state": {
            "_model_module": "@jupyter-widgets/base",
            "_model_module_version": "1.2.0",
            "_model_name": "LayoutModel",
            "_view_count": null,
            "_view_module": "@jupyter-widgets/base",
            "_view_module_version": "1.2.0",
            "_view_name": "LayoutView",
            "align_content": null,
            "align_items": null,
            "align_self": null,
            "border": null,
            "bottom": null,
            "display": null,
            "flex": null,
            "flex_flow": null,
            "grid_area": null,
            "grid_auto_columns": null,
            "grid_auto_flow": null,
            "grid_auto_rows": null,
            "grid_column": null,
            "grid_gap": null,
            "grid_row": null,
            "grid_template_areas": null,
            "grid_template_columns": null,
            "grid_template_rows": null,
            "height": null,
            "justify_content": null,
            "justify_items": null,
            "left": null,
            "margin": null,
            "max_height": null,
            "max_width": null,
            "min_height": null,
            "min_width": null,
            "object_fit": null,
            "object_position": null,
            "order": null,
            "overflow": null,
            "overflow_x": null,
            "overflow_y": null,
            "padding": null,
            "right": null,
            "top": null,
            "visibility": null,
            "width": null
          }
        },
        "2519d3c5067b462a943ece997f84c474": {
          "model_module": "@jupyter-widgets/controls",
          "model_name": "DescriptionStyleModel",
          "model_module_version": "1.5.0",
          "state": {
            "_model_module": "@jupyter-widgets/controls",
            "_model_module_version": "1.5.0",
            "_model_name": "DescriptionStyleModel",
            "_view_count": null,
            "_view_module": "@jupyter-widgets/base",
            "_view_module_version": "1.2.0",
            "_view_name": "StyleView",
            "description_width": ""
          }
        },
        "2de554949c0d4fa2817a57c5e95a9c28": {
          "model_module": "@jupyter-widgets/controls",
          "model_name": "HBoxModel",
          "model_module_version": "1.5.0",
          "state": {
            "_dom_classes": [],
            "_model_module": "@jupyter-widgets/controls",
            "_model_module_version": "1.5.0",
            "_model_name": "HBoxModel",
            "_view_count": null,
            "_view_module": "@jupyter-widgets/controls",
            "_view_module_version": "1.5.0",
            "_view_name": "HBoxView",
            "box_style": "",
            "children": [
              "IPY_MODEL_5e3f29ec865c461eb4ae66642e74898d",
              "IPY_MODEL_f06c9b8089554bdb9968a6145263d08e",
              "IPY_MODEL_681993bfe970450f9731f48d560ab9cd"
            ],
            "layout": "IPY_MODEL_3c31e8967db74bbfae1424b4c5e23ea1"
          }
        },
        "5e3f29ec865c461eb4ae66642e74898d": {
          "model_module": "@jupyter-widgets/controls",
          "model_name": "HTMLModel",
          "model_module_version": "1.5.0",
          "state": {
            "_dom_classes": [],
            "_model_module": "@jupyter-widgets/controls",
            "_model_module_version": "1.5.0",
            "_model_name": "HTMLModel",
            "_view_count": null,
            "_view_module": "@jupyter-widgets/controls",
            "_view_module_version": "1.5.0",
            "_view_name": "HTMLView",
            "description": "",
            "description_tooltip": null,
            "layout": "IPY_MODEL_3390ffc5fb914a18ba1880ce143173f4",
            "placeholder": "​",
            "style": "IPY_MODEL_47be06ea845043bbbd7c1079ee0793d0",
            "value": "added_tokens.json: 100%"
          }
        },
        "f06c9b8089554bdb9968a6145263d08e": {
          "model_module": "@jupyter-widgets/controls",
          "model_name": "FloatProgressModel",
          "model_module_version": "1.5.0",
          "state": {
            "_dom_classes": [],
            "_model_module": "@jupyter-widgets/controls",
            "_model_module_version": "1.5.0",
            "_model_name": "FloatProgressModel",
            "_view_count": null,
            "_view_module": "@jupyter-widgets/controls",
            "_view_module_version": "1.5.0",
            "_view_name": "ProgressView",
            "bar_style": "success",
            "description": "",
            "description_tooltip": null,
            "layout": "IPY_MODEL_75b0f87700e84803a9298dc8fedf4377",
            "max": 34604,
            "min": 0,
            "orientation": "horizontal",
            "style": "IPY_MODEL_626942aac51b447a80f279a1c6cb8882",
            "value": 34604
          }
        },
        "681993bfe970450f9731f48d560ab9cd": {
          "model_module": "@jupyter-widgets/controls",
          "model_name": "HTMLModel",
          "model_module_version": "1.5.0",
          "state": {
            "_dom_classes": [],
            "_model_module": "@jupyter-widgets/controls",
            "_model_module_version": "1.5.0",
            "_model_name": "HTMLModel",
            "_view_count": null,
            "_view_module": "@jupyter-widgets/controls",
            "_view_module_version": "1.5.0",
            "_view_name": "HTMLView",
            "description": "",
            "description_tooltip": null,
            "layout": "IPY_MODEL_45cce0501ceb4c369a7aad912f165b94",
            "placeholder": "​",
            "style": "IPY_MODEL_456b241e9fed40ebbe7ac933f411ca2c",
            "value": " 34.6k/34.6k [00:00&lt;00:00, 1.07MB/s]"
          }
        },
        "3c31e8967db74bbfae1424b4c5e23ea1": {
          "model_module": "@jupyter-widgets/base",
          "model_name": "LayoutModel",
          "model_module_version": "1.2.0",
          "state": {
            "_model_module": "@jupyter-widgets/base",
            "_model_module_version": "1.2.0",
            "_model_name": "LayoutModel",
            "_view_count": null,
            "_view_module": "@jupyter-widgets/base",
            "_view_module_version": "1.2.0",
            "_view_name": "LayoutView",
            "align_content": null,
            "align_items": null,
            "align_self": null,
            "border": null,
            "bottom": null,
            "display": null,
            "flex": null,
            "flex_flow": null,
            "grid_area": null,
            "grid_auto_columns": null,
            "grid_auto_flow": null,
            "grid_auto_rows": null,
            "grid_column": null,
            "grid_gap": null,
            "grid_row": null,
            "grid_template_areas": null,
            "grid_template_columns": null,
            "grid_template_rows": null,
            "height": null,
            "justify_content": null,
            "justify_items": null,
            "left": null,
            "margin": null,
            "max_height": null,
            "max_width": null,
            "min_height": null,
            "min_width": null,
            "object_fit": null,
            "object_position": null,
            "order": null,
            "overflow": null,
            "overflow_x": null,
            "overflow_y": null,
            "padding": null,
            "right": null,
            "top": null,
            "visibility": null,
            "width": null
          }
        },
        "3390ffc5fb914a18ba1880ce143173f4": {
          "model_module": "@jupyter-widgets/base",
          "model_name": "LayoutModel",
          "model_module_version": "1.2.0",
          "state": {
            "_model_module": "@jupyter-widgets/base",
            "_model_module_version": "1.2.0",
            "_model_name": "LayoutModel",
            "_view_count": null,
            "_view_module": "@jupyter-widgets/base",
            "_view_module_version": "1.2.0",
            "_view_name": "LayoutView",
            "align_content": null,
            "align_items": null,
            "align_self": null,
            "border": null,
            "bottom": null,
            "display": null,
            "flex": null,
            "flex_flow": null,
            "grid_area": null,
            "grid_auto_columns": null,
            "grid_auto_flow": null,
            "grid_auto_rows": null,
            "grid_column": null,
            "grid_gap": null,
            "grid_row": null,
            "grid_template_areas": null,
            "grid_template_columns": null,
            "grid_template_rows": null,
            "height": null,
            "justify_content": null,
            "justify_items": null,
            "left": null,
            "margin": null,
            "max_height": null,
            "max_width": null,
            "min_height": null,
            "min_width": null,
            "object_fit": null,
            "object_position": null,
            "order": null,
            "overflow": null,
            "overflow_x": null,
            "overflow_y": null,
            "padding": null,
            "right": null,
            "top": null,
            "visibility": null,
            "width": null
          }
        },
        "47be06ea845043bbbd7c1079ee0793d0": {
          "model_module": "@jupyter-widgets/controls",
          "model_name": "DescriptionStyleModel",
          "model_module_version": "1.5.0",
          "state": {
            "_model_module": "@jupyter-widgets/controls",
            "_model_module_version": "1.5.0",
            "_model_name": "DescriptionStyleModel",
            "_view_count": null,
            "_view_module": "@jupyter-widgets/base",
            "_view_module_version": "1.2.0",
            "_view_name": "StyleView",
            "description_width": ""
          }
        },
        "75b0f87700e84803a9298dc8fedf4377": {
          "model_module": "@jupyter-widgets/base",
          "model_name": "LayoutModel",
          "model_module_version": "1.2.0",
          "state": {
            "_model_module": "@jupyter-widgets/base",
            "_model_module_version": "1.2.0",
            "_model_name": "LayoutModel",
            "_view_count": null,
            "_view_module": "@jupyter-widgets/base",
            "_view_module_version": "1.2.0",
            "_view_name": "LayoutView",
            "align_content": null,
            "align_items": null,
            "align_self": null,
            "border": null,
            "bottom": null,
            "display": null,
            "flex": null,
            "flex_flow": null,
            "grid_area": null,
            "grid_auto_columns": null,
            "grid_auto_flow": null,
            "grid_auto_rows": null,
            "grid_column": null,
            "grid_gap": null,
            "grid_row": null,
            "grid_template_areas": null,
            "grid_template_columns": null,
            "grid_template_rows": null,
            "height": null,
            "justify_content": null,
            "justify_items": null,
            "left": null,
            "margin": null,
            "max_height": null,
            "max_width": null,
            "min_height": null,
            "min_width": null,
            "object_fit": null,
            "object_position": null,
            "order": null,
            "overflow": null,
            "overflow_x": null,
            "overflow_y": null,
            "padding": null,
            "right": null,
            "top": null,
            "visibility": null,
            "width": null
          }
        },
        "626942aac51b447a80f279a1c6cb8882": {
          "model_module": "@jupyter-widgets/controls",
          "model_name": "ProgressStyleModel",
          "model_module_version": "1.5.0",
          "state": {
            "_model_module": "@jupyter-widgets/controls",
            "_model_module_version": "1.5.0",
            "_model_name": "ProgressStyleModel",
            "_view_count": null,
            "_view_module": "@jupyter-widgets/base",
            "_view_module_version": "1.2.0",
            "_view_name": "StyleView",
            "bar_color": null,
            "description_width": ""
          }
        },
        "45cce0501ceb4c369a7aad912f165b94": {
          "model_module": "@jupyter-widgets/base",
          "model_name": "LayoutModel",
          "model_module_version": "1.2.0",
          "state": {
            "_model_module": "@jupyter-widgets/base",
            "_model_module_version": "1.2.0",
            "_model_name": "LayoutModel",
            "_view_count": null,
            "_view_module": "@jupyter-widgets/base",
            "_view_module_version": "1.2.0",
            "_view_name": "LayoutView",
            "align_content": null,
            "align_items": null,
            "align_self": null,
            "border": null,
            "bottom": null,
            "display": null,
            "flex": null,
            "flex_flow": null,
            "grid_area": null,
            "grid_auto_columns": null,
            "grid_auto_flow": null,
            "grid_auto_rows": null,
            "grid_column": null,
            "grid_gap": null,
            "grid_row": null,
            "grid_template_areas": null,
            "grid_template_columns": null,
            "grid_template_rows": null,
            "height": null,
            "justify_content": null,
            "justify_items": null,
            "left": null,
            "margin": null,
            "max_height": null,
            "max_width": null,
            "min_height": null,
            "min_width": null,
            "object_fit": null,
            "object_position": null,
            "order": null,
            "overflow": null,
            "overflow_x": null,
            "overflow_y": null,
            "padding": null,
            "right": null,
            "top": null,
            "visibility": null,
            "width": null
          }
        },
        "456b241e9fed40ebbe7ac933f411ca2c": {
          "model_module": "@jupyter-widgets/controls",
          "model_name": "DescriptionStyleModel",
          "model_module_version": "1.5.0",
          "state": {
            "_model_module": "@jupyter-widgets/controls",
            "_model_module_version": "1.5.0",
            "_model_name": "DescriptionStyleModel",
            "_view_count": null,
            "_view_module": "@jupyter-widgets/base",
            "_view_module_version": "1.2.0",
            "_view_name": "StyleView",
            "description_width": ""
          }
        },
        "0ff1ed9300aa454b8d155cd63869b0f9": {
          "model_module": "@jupyter-widgets/controls",
          "model_name": "HBoxModel",
          "model_module_version": "1.5.0",
          "state": {
            "_dom_classes": [],
            "_model_module": "@jupyter-widgets/controls",
            "_model_module_version": "1.5.0",
            "_model_name": "HBoxModel",
            "_view_count": null,
            "_view_module": "@jupyter-widgets/controls",
            "_view_module_version": "1.5.0",
            "_view_name": "HBoxView",
            "box_style": "",
            "children": [
              "IPY_MODEL_f66920e7a6194a99a948d171f879f4f3",
              "IPY_MODEL_ae26419a3b244354be3670e2ecb2bd0b",
              "IPY_MODEL_b551fda5d9aa450c8af93d9c0072c58d"
            ],
            "layout": "IPY_MODEL_9b39e35cf9f341d99c620c37c8e12c45"
          }
        },
        "f66920e7a6194a99a948d171f879f4f3": {
          "model_module": "@jupyter-widgets/controls",
          "model_name": "HTMLModel",
          "model_module_version": "1.5.0",
          "state": {
            "_dom_classes": [],
            "_model_module": "@jupyter-widgets/controls",
            "_model_module_version": "1.5.0",
            "_model_name": "HTMLModel",
            "_view_count": null,
            "_view_module": "@jupyter-widgets/controls",
            "_view_module_version": "1.5.0",
            "_view_name": "HTMLView",
            "description": "",
            "description_tooltip": null,
            "layout": "IPY_MODEL_2ea1ab706ce04672a215334ccfd61751",
            "placeholder": "​",
            "style": "IPY_MODEL_0dc769050b9d4f748c13dbbecd99810b",
            "value": "special_tokens_map.json: 100%"
          }
        },
        "ae26419a3b244354be3670e2ecb2bd0b": {
          "model_module": "@jupyter-widgets/controls",
          "model_name": "FloatProgressModel",
          "model_module_version": "1.5.0",
          "state": {
            "_dom_classes": [],
            "_model_module": "@jupyter-widgets/controls",
            "_model_module_version": "1.5.0",
            "_model_name": "FloatProgressModel",
            "_view_count": null,
            "_view_module": "@jupyter-widgets/controls",
            "_view_module_version": "1.5.0",
            "_view_name": "ProgressView",
            "bar_style": "success",
            "description": "",
            "description_tooltip": null,
            "layout": "IPY_MODEL_1e7b2f7915b044648a058d6caa4a462a",
            "max": 2077,
            "min": 0,
            "orientation": "horizontal",
            "style": "IPY_MODEL_3fce3db46a9f4e1c8d61810b801ef2ce",
            "value": 2077
          }
        },
        "b551fda5d9aa450c8af93d9c0072c58d": {
          "model_module": "@jupyter-widgets/controls",
          "model_name": "HTMLModel",
          "model_module_version": "1.5.0",
          "state": {
            "_dom_classes": [],
            "_model_module": "@jupyter-widgets/controls",
            "_model_module_version": "1.5.0",
            "_model_name": "HTMLModel",
            "_view_count": null,
            "_view_module": "@jupyter-widgets/controls",
            "_view_module_version": "1.5.0",
            "_view_name": "HTMLView",
            "description": "",
            "description_tooltip": null,
            "layout": "IPY_MODEL_679adcf940614de5b97e2ec8ffe077f5",
            "placeholder": "​",
            "style": "IPY_MODEL_fbeafb19d7a54055a11b85973758b5d0",
            "value": " 2.08k/2.08k [00:00&lt;00:00, 54.2kB/s]"
          }
        },
        "9b39e35cf9f341d99c620c37c8e12c45": {
          "model_module": "@jupyter-widgets/base",
          "model_name": "LayoutModel",
          "model_module_version": "1.2.0",
          "state": {
            "_model_module": "@jupyter-widgets/base",
            "_model_module_version": "1.2.0",
            "_model_name": "LayoutModel",
            "_view_count": null,
            "_view_module": "@jupyter-widgets/base",
            "_view_module_version": "1.2.0",
            "_view_name": "LayoutView",
            "align_content": null,
            "align_items": null,
            "align_self": null,
            "border": null,
            "bottom": null,
            "display": null,
            "flex": null,
            "flex_flow": null,
            "grid_area": null,
            "grid_auto_columns": null,
            "grid_auto_flow": null,
            "grid_auto_rows": null,
            "grid_column": null,
            "grid_gap": null,
            "grid_row": null,
            "grid_template_areas": null,
            "grid_template_columns": null,
            "grid_template_rows": null,
            "height": null,
            "justify_content": null,
            "justify_items": null,
            "left": null,
            "margin": null,
            "max_height": null,
            "max_width": null,
            "min_height": null,
            "min_width": null,
            "object_fit": null,
            "object_position": null,
            "order": null,
            "overflow": null,
            "overflow_x": null,
            "overflow_y": null,
            "padding": null,
            "right": null,
            "top": null,
            "visibility": null,
            "width": null
          }
        },
        "2ea1ab706ce04672a215334ccfd61751": {
          "model_module": "@jupyter-widgets/base",
          "model_name": "LayoutModel",
          "model_module_version": "1.2.0",
          "state": {
            "_model_module": "@jupyter-widgets/base",
            "_model_module_version": "1.2.0",
            "_model_name": "LayoutModel",
            "_view_count": null,
            "_view_module": "@jupyter-widgets/base",
            "_view_module_version": "1.2.0",
            "_view_name": "LayoutView",
            "align_content": null,
            "align_items": null,
            "align_self": null,
            "border": null,
            "bottom": null,
            "display": null,
            "flex": null,
            "flex_flow": null,
            "grid_area": null,
            "grid_auto_columns": null,
            "grid_auto_flow": null,
            "grid_auto_rows": null,
            "grid_column": null,
            "grid_gap": null,
            "grid_row": null,
            "grid_template_areas": null,
            "grid_template_columns": null,
            "grid_template_rows": null,
            "height": null,
            "justify_content": null,
            "justify_items": null,
            "left": null,
            "margin": null,
            "max_height": null,
            "max_width": null,
            "min_height": null,
            "min_width": null,
            "object_fit": null,
            "object_position": null,
            "order": null,
            "overflow": null,
            "overflow_x": null,
            "overflow_y": null,
            "padding": null,
            "right": null,
            "top": null,
            "visibility": null,
            "width": null
          }
        },
        "0dc769050b9d4f748c13dbbecd99810b": {
          "model_module": "@jupyter-widgets/controls",
          "model_name": "DescriptionStyleModel",
          "model_module_version": "1.5.0",
          "state": {
            "_model_module": "@jupyter-widgets/controls",
            "_model_module_version": "1.5.0",
            "_model_name": "DescriptionStyleModel",
            "_view_count": null,
            "_view_module": "@jupyter-widgets/base",
            "_view_module_version": "1.2.0",
            "_view_name": "StyleView",
            "description_width": ""
          }
        },
        "1e7b2f7915b044648a058d6caa4a462a": {
          "model_module": "@jupyter-widgets/base",
          "model_name": "LayoutModel",
          "model_module_version": "1.2.0",
          "state": {
            "_model_module": "@jupyter-widgets/base",
            "_model_module_version": "1.2.0",
            "_model_name": "LayoutModel",
            "_view_count": null,
            "_view_module": "@jupyter-widgets/base",
            "_view_module_version": "1.2.0",
            "_view_name": "LayoutView",
            "align_content": null,
            "align_items": null,
            "align_self": null,
            "border": null,
            "bottom": null,
            "display": null,
            "flex": null,
            "flex_flow": null,
            "grid_area": null,
            "grid_auto_columns": null,
            "grid_auto_flow": null,
            "grid_auto_rows": null,
            "grid_column": null,
            "grid_gap": null,
            "grid_row": null,
            "grid_template_areas": null,
            "grid_template_columns": null,
            "grid_template_rows": null,
            "height": null,
            "justify_content": null,
            "justify_items": null,
            "left": null,
            "margin": null,
            "max_height": null,
            "max_width": null,
            "min_height": null,
            "min_width": null,
            "object_fit": null,
            "object_position": null,
            "order": null,
            "overflow": null,
            "overflow_x": null,
            "overflow_y": null,
            "padding": null,
            "right": null,
            "top": null,
            "visibility": null,
            "width": null
          }
        },
        "3fce3db46a9f4e1c8d61810b801ef2ce": {
          "model_module": "@jupyter-widgets/controls",
          "model_name": "ProgressStyleModel",
          "model_module_version": "1.5.0",
          "state": {
            "_model_module": "@jupyter-widgets/controls",
            "_model_module_version": "1.5.0",
            "_model_name": "ProgressStyleModel",
            "_view_count": null,
            "_view_module": "@jupyter-widgets/base",
            "_view_module_version": "1.2.0",
            "_view_name": "StyleView",
            "bar_color": null,
            "description_width": ""
          }
        },
        "679adcf940614de5b97e2ec8ffe077f5": {
          "model_module": "@jupyter-widgets/base",
          "model_name": "LayoutModel",
          "model_module_version": "1.2.0",
          "state": {
            "_model_module": "@jupyter-widgets/base",
            "_model_module_version": "1.2.0",
            "_model_name": "LayoutModel",
            "_view_count": null,
            "_view_module": "@jupyter-widgets/base",
            "_view_module_version": "1.2.0",
            "_view_name": "LayoutView",
            "align_content": null,
            "align_items": null,
            "align_self": null,
            "border": null,
            "bottom": null,
            "display": null,
            "flex": null,
            "flex_flow": null,
            "grid_area": null,
            "grid_auto_columns": null,
            "grid_auto_flow": null,
            "grid_auto_rows": null,
            "grid_column": null,
            "grid_gap": null,
            "grid_row": null,
            "grid_template_areas": null,
            "grid_template_columns": null,
            "grid_template_rows": null,
            "height": null,
            "justify_content": null,
            "justify_items": null,
            "left": null,
            "margin": null,
            "max_height": null,
            "max_width": null,
            "min_height": null,
            "min_width": null,
            "object_fit": null,
            "object_position": null,
            "order": null,
            "overflow": null,
            "overflow_x": null,
            "overflow_y": null,
            "padding": null,
            "right": null,
            "top": null,
            "visibility": null,
            "width": null
          }
        },
        "fbeafb19d7a54055a11b85973758b5d0": {
          "model_module": "@jupyter-widgets/controls",
          "model_name": "DescriptionStyleModel",
          "model_module_version": "1.5.0",
          "state": {
            "_model_module": "@jupyter-widgets/controls",
            "_model_module_version": "1.5.0",
            "_model_name": "DescriptionStyleModel",
            "_view_count": null,
            "_view_module": "@jupyter-widgets/base",
            "_view_module_version": "1.2.0",
            "_view_name": "StyleView",
            "description_width": ""
          }
        }
      }
    }
  },
  "nbformat": 4,
  "nbformat_minor": 0
}